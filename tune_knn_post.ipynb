{
 "cells": [
  {
   "cell_type": "code",
   "execution_count": 2,
   "metadata": {},
   "outputs": [],
   "source": [
    "import os\n",
    "import torch \n",
    "from torchvision.models import resnet18\n",
    "from models import NONA_FT"
   ]
  },
  {
   "cell_type": "code",
   "execution_count": 3,
   "metadata": {},
   "outputs": [
    {
     "ename": "RuntimeError",
     "evalue": "Error(s) in loading state_dict for NONA_FT:\n\tMissing key(s) in state_dict: \"nona.norms.0.weight\", \"nona.norms.0.bias\", \"nona.norms.0.running_mean\", \"nona.norms.0.running_var\", \"nona.norms.1.weight\", \"nona.norms.1.bias\", \"nona.norms.1.running_mean\", \"nona.norms.1.running_var\". \n\tUnexpected key(s) in state_dict: \"mask.k\", \"mask.s\", \"nona.mask.k\", \"nona.mask.s\". ",
     "output_type": "error",
     "traceback": [
      "\u001b[0;31m---------------------------------------------------------------------------\u001b[0m",
      "\u001b[0;31mRuntimeError\u001b[0m                              Traceback (most recent call last)",
      "Cell \u001b[0;32mIn[3], line 20\u001b[0m\n\u001b[1;32m     17\u001b[0m seed \u001b[39m=\u001b[39m model_path[\u001b[39m-\u001b[39m\u001b[39m5\u001b[39m]\n\u001b[1;32m     18\u001b[0m model_dict \u001b[39m=\u001b[39m torch\u001b[39m.\u001b[39mload(models_dir \u001b[39m+\u001b[39m \u001b[39m'\u001b[39m\u001b[39m/\u001b[39m\u001b[39m'\u001b[39m \u001b[39m+\u001b[39m model_path, map_location\u001b[39m=\u001b[39mdevice)\n\u001b[0;32m---> 20\u001b[0m model\u001b[39m.\u001b[39;49mload_state_dict(model_dict)\n",
      "File \u001b[0;32m/sc/arion/projects/pandeg01a/susmaa01/nona/.venv/lib64/python3.9/site-packages/torch/nn/modules/module.py:2581\u001b[0m, in \u001b[0;36mModule.load_state_dict\u001b[0;34m(self, state_dict, strict, assign)\u001b[0m\n\u001b[1;32m   2573\u001b[0m         error_msgs\u001b[39m.\u001b[39minsert(\n\u001b[1;32m   2574\u001b[0m             \u001b[39m0\u001b[39m,\n\u001b[1;32m   2575\u001b[0m             \u001b[39m\"\u001b[39m\u001b[39mMissing key(s) in state_dict: \u001b[39m\u001b[39m{}\u001b[39;00m\u001b[39m. \u001b[39m\u001b[39m\"\u001b[39m\u001b[39m.\u001b[39mformat(\n\u001b[1;32m   2576\u001b[0m                 \u001b[39m\"\u001b[39m\u001b[39m, \u001b[39m\u001b[39m\"\u001b[39m\u001b[39m.\u001b[39mjoin(\u001b[39mf\u001b[39m\u001b[39m'\u001b[39m\u001b[39m\"\u001b[39m\u001b[39m{\u001b[39;00mk\u001b[39m}\u001b[39;00m\u001b[39m\"\u001b[39m\u001b[39m'\u001b[39m \u001b[39mfor\u001b[39;00m k \u001b[39min\u001b[39;00m missing_keys)\n\u001b[1;32m   2577\u001b[0m             ),\n\u001b[1;32m   2578\u001b[0m         )\n\u001b[1;32m   2580\u001b[0m \u001b[39mif\u001b[39;00m \u001b[39mlen\u001b[39m(error_msgs) \u001b[39m>\u001b[39m \u001b[39m0\u001b[39m:\n\u001b[0;32m-> 2581\u001b[0m     \u001b[39mraise\u001b[39;00m \u001b[39mRuntimeError\u001b[39;00m(\n\u001b[1;32m   2582\u001b[0m         \u001b[39m\"\u001b[39m\u001b[39mError(s) in loading state_dict for \u001b[39m\u001b[39m{}\u001b[39;00m\u001b[39m:\u001b[39m\u001b[39m\\n\u001b[39;00m\u001b[39m\\t\u001b[39;00m\u001b[39m{}\u001b[39;00m\u001b[39m\"\u001b[39m\u001b[39m.\u001b[39mformat(\n\u001b[1;32m   2583\u001b[0m             \u001b[39mself\u001b[39m\u001b[39m.\u001b[39m\u001b[39m__class__\u001b[39m\u001b[39m.\u001b[39m\u001b[39m__name__\u001b[39m, \u001b[39m\"\u001b[39m\u001b[39m\\n\u001b[39;00m\u001b[39m\\t\u001b[39;00m\u001b[39m\"\u001b[39m\u001b[39m.\u001b[39mjoin(error_msgs)\n\u001b[1;32m   2584\u001b[0m         )\n\u001b[1;32m   2585\u001b[0m     )\n\u001b[1;32m   2586\u001b[0m \u001b[39mreturn\u001b[39;00m _IncompatibleKeys(missing_keys, unexpected_keys)\n",
      "\u001b[0;31mRuntimeError\u001b[0m: Error(s) in loading state_dict for NONA_FT:\n\tMissing key(s) in state_dict: \"nona.norms.0.weight\", \"nona.norms.0.bias\", \"nona.norms.0.running_mean\", \"nona.norms.0.running_var\", \"nona.norms.1.weight\", \"nona.norms.1.bias\", \"nona.norms.1.running_mean\", \"nona.norms.1.running_var\". \n\tUnexpected key(s) in state_dict: \"mask.k\", \"mask.s\", \"nona.mask.k\", \"nona.mask.s\". "
     ]
    }
   ],
   "source": [
    "device = torch.device('cpu')\n",
    "\n",
    "models_dir = 'results/rsna/models/03131129'\n",
    "dataset = models_dir.split('/')[1]\n",
    "\n",
    "hls = [200, 50]\n",
    "feature_extractor_weights = resnet18(weights='DEFAULT')\n",
    "model = NONA_FT(feature_extractor=feature_extractor_weights, \n",
    "                hl_sizes=hls, \n",
    "                predictor='dense', \n",
    "                dtype=torch.float32\n",
    "                )\n",
    "\n",
    "\n",
    "for model_path in os.listdir(models_dir):\n",
    "    if model_path.startswith('dense'):\n",
    "        seed = model_path[-5]\n",
    "        model_dict = torch.load(models_dir + '/' + model_path, map_location=device)\n",
    "\n",
    "        model.load_state_dict(model_dict)"
   ]
  },
  {
   "cell_type": "code",
   "execution_count": 13,
   "metadata": {},
   "outputs": [
    {
     "name": "stdout",
     "output_type": "stream",
     "text": [
      "Fitting 4 folds for each of 20 candidates, totalling 80 fits\n"
     ]
    },
    {
     "data": {
      "text/plain": [
       "tensor([6, 6, 9, 0, 0, 7, 0, 0, 1, 3, 0, 2, 0, 1, 3, 8, 2, 3, 7, 0])"
      ]
     },
     "execution_count": 13,
     "metadata": {},
     "output_type": "execute_result"
    }
   ],
   "source": [
    "from utils import tune_knn\n",
    "import numpy as np\n",
    "import torch\n",
    "z_train = np.random.rand(100,10)\n",
    "z_test = np.random.rand(20,10)\n",
    "y_train = np.random.randint(0,10, len(z_train)).astype(float)\n",
    "y_test = np.random.randint(0,10, len(z_test))\n",
    "task = 'multiclass' \n",
    "class Score:\n",
    "    def __init__(self):\n",
    "        self.metric = 'accuracy'\n",
    "        self.higher_is_better = True\n",
    "score = Score()\n",
    "tune_knn(X_train=torch.tensor(z_train), X_test=torch.tensor(z_test), y_train=torch.tensor(y_train), y_test=torch.tensor(y_test), task=task, score=score)"
   ]
  },
  {
   "cell_type": "code",
   "execution_count": null,
   "metadata": {},
   "outputs": [],
   "source": []
  }
 ],
 "metadata": {
  "kernelspec": {
   "display_name": ".venv",
   "language": "python",
   "name": "python3"
  },
  "language_info": {
   "codemirror_mode": {
    "name": "ipython",
    "version": 3
   },
   "file_extension": ".py",
   "mimetype": "text/x-python",
   "name": "python",
   "nbconvert_exporter": "python",
   "pygments_lexer": "ipython3",
   "version": "3.9.18"
  },
  "orig_nbformat": 4
 },
 "nbformat": 4,
 "nbformat_minor": 2
}
