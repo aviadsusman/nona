{
 "cells": [
  {
   "cell_type": "markdown",
   "metadata": {},
   "source": [
    "Notebook for anlayzing how performance on a test set changes with choice of neighbor set"
   ]
  },
  {
   "cell_type": "code",
   "execution_count": null,
   "metadata": {},
   "outputs": [],
   "source": [
    "import torch \n",
    "from models import NONA_FT, NONA\n",
    "import torchvision\n",
    "import torchvision.transforms as transforms\n",
    "from torchvision.models import resnet18\n",
    "from ft_eval import RSNADataset, get_fold_indices, load_data_params\n",
    "from torch.utils.data import Dataset, DataLoader\n",
    "import matplotlib.pyplot as plt\n",
    "from torcheval.metrics.functional import mean_squared_error\n",
    "import numpy as np\n",
    "from sklearn.model_selection import train_test_split\n",
    "import pickle as pkl"
   ]
  },
  {
   "cell_type": "code",
   "execution_count": null,
   "metadata": {},
   "outputs": [],
   "source": [
    "device = torch.device('cpu')\n",
    "res = resnet18(weights='DEFAULT')\n",
    "\n",
    "model_type = 'nona euclidean'\n",
    "pred_sim = model_type.split(\" \")\n",
    "if len(pred_sim)==2:\n",
    "    predictor_head = pred_sim[0]\n",
    "    sim = pred_sim[1]\n",
    "else:\n",
    "    predictor_head= model_type \n",
    "    sim = None\n",
    "\n",
    "model=NONA_FT(feature_extractor=res, \n",
    "                        hl_sizes=[200,50], \n",
    "                        predictor=predictor_head, \n",
    "                        similarity=sim, \n",
    "                        task='regression', \n",
    "                        dtype=torch.float32)"
   ]
  },
  {
   "cell_type": "code",
   "execution_count": null,
   "metadata": {},
   "outputs": [],
   "source": [
    "seed = 0\n",
    "rsna_sft_weights = torch.load(f'results/rsna/models/02231621/{model_type}_{seed}.pth', map_location=device)\n",
    "model.load_state_dict(rsna_sft_weights)"
   ]
  },
  {
   "cell_type": "code",
   "execution_count": null,
   "metadata": {},
   "outputs": [],
   "source": [
    "task, data_df, transform, fe, data_percentage = load_data_params('rsna')\n",
    "idx_dict = get_fold_indices(data_df=data_df, seed=seed, data_percentage=data_percentage)"
   ]
  },
  {
   "cell_type": "code",
   "execution_count": null,
   "metadata": {},
   "outputs": [],
   "source": [
    "def collate(batch):\n",
    "    x, y = zip(*batch)\n",
    "    x = torch.stack(x).to(device).to(torch.float32)\n",
    "    y = torch.tensor(y, dtype=torch.float32, device=device)\n",
    "    return x, y"
   ]
  },
  {
   "cell_type": "code",
   "execution_count": null,
   "metadata": {},
   "outputs": [],
   "source": [
    "test_dataset = RSNADataset(idx_dict['test'], transform=transform)\n",
    "test_loader = DataLoader(test_dataset, batch_size=len(test_dataset), shuffle=True, collate_fn=collate)\n",
    "\n",
    "train_dataset = RSNADataset(idx_dict['train'], transform=transform)\n",
    "train_loader = DataLoader(train_dataset, batch_size=128, shuffle=False, collate_fn=collate)"
   ]
  },
  {
   "cell_type": "code",
   "execution_count": null,
   "metadata": {},
   "outputs": [],
   "source": [
    "for i, (X, y) in enumerate(test_loader):\n",
    "    if i == 0:\n",
    "        X_dummy = X[:2]\n",
    "        y_dummy = y[:2]"
   ]
  },
  {
   "cell_type": "markdown",
   "metadata": {},
   "source": [
    "Using different percentages of data unused by the model as neighbors for the test set"
   ]
  },
  {
   "cell_type": "code",
   "execution_count": null,
   "metadata": {},
   "outputs": [],
   "source": [
    "unused_data = data_df[data_df['id'].isin(idx_dict['unused'])]\n",
    "unused_ids = unused_data['id']\n",
    "unused_labels = unused_data['boneage binned']\n",
    "\n",
    "with torch.no_grad():\n",
    "    for X_test, y_test in test_loader:\n",
    "        _, test_embeddings = model(X_test, X_dummy, y_dummy, get_embeddings=True)\n",
    "\n",
    "nona_head = NONA(dtype=torch.float32)\n",
    "\n",
    "scores = {'mse': [], 'mae': []}\n",
    "for perc in range(1,20):\n",
    "    test_size = perc / 20\n",
    "    _, neighbor_ids, _, _ = train_test_split(unused_ids, unused_labels, test_size=test_size, stratify=unused_labels, random_state=38)\n",
    "\n",
    "    neighbor_dataset = RSNADataset(neighbor_ids, transform=transform)\n",
    "    neighbor_loader = DataLoader(neighbor_dataset, batch_size=128, shuffle=False, collate_fn=collate)\n",
    "    print(len(neighbor_dataset), 'neighbors')\n",
    "\n",
    "    X_n_list = []\n",
    "    y_n_list = []\n",
    "    with torch.no_grad():\n",
    "        for X_neighbors, y_neighbors in neighbor_loader:\n",
    "            _, neighbor_embeddings = model(X_neighbors, X_dummy, y_dummy, get_embeddings=True)\n",
    "            X_n_list.append(neighbor_embeddings)\n",
    "            y_n_list.append(y_neighbors)\n",
    "    \n",
    "    X_n = torch.cat(X_n_list, dim=0)\n",
    "    y_n = torch.cat(y_n_list, dim=0)\n",
    "\n",
    "    y_hat = nona_head(test_embeddings, X_n, y_n)\n",
    "    \n",
    "    mse = torch.mean((y_test - y_hat) ** 2)\n",
    "    scores['mse'].append(mse.item())\n",
    "\n",
    "    mae = torch.mean(torch.abs(y_test - y_hat))\n",
    "    scores['mae'].append(mae.item())\n",
    "\n",
    "    print(scores)"
   ]
  },
  {
   "cell_type": "code",
   "execution_count": null,
   "metadata": {},
   "outputs": [],
   "source": [
    "import matplotlib.pyplot as plt\n",
    "import numpy as np\n",
    "\n",
    "metric = 'mae'\n",
    "\n",
    "# Assuming `scores` is your dictionary\n",
    "# Each key is a label, and each value is a list of 19 percentages\n",
    "percentiles = np.linspace(5, 95, 19)  # Generate x-axis values from 5% to 95%\n",
    "\n",
    "plt.figure(figsize=(10, 6))\n",
    "\n",
    "\n",
    "plt.plot(percentiles, scores[metric], marker='o', label=metric, alpha=0.7)\n",
    "\n",
    "plt.xlabel(\"Percentile\")\n",
    "plt.ylabel(\"Score\")\n",
    "plt.title(f\"{metric.upper()} scores for different percentages of unused data as neighbors\")\n",
    "plt.legend()\n",
    "plt.grid(True, linestyle=\"--\", alpha=0.6)\n",
    "plt.show()"
   ]
  },
  {
   "cell_type": "code",
   "execution_count": null,
   "metadata": {},
   "outputs": [],
   "source": [
    "# with open(f\"results/rsna/neighbors_at_inf/02231621_{model_type}_{seed}_unused.pkl\", \"wb\") as file:\n",
    "#     pkl.dump(scores, file)"
   ]
  }
 ],
 "metadata": {
  "kernelspec": {
   "display_name": ".venv",
   "language": "python",
   "name": "python3"
  },
  "language_info": {
   "codemirror_mode": {
    "name": "ipython",
    "version": 3
   },
   "file_extension": ".py",
   "mimetype": "text/x-python",
   "name": "python",
   "nbconvert_exporter": "python",
   "pygments_lexer": "ipython3",
   "version": "3.9.18"
  },
  "orig_nbformat": 4
 },
 "nbformat": 4,
 "nbformat_minor": 2
}
