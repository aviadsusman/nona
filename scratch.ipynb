{
 "cells": [
  {
   "cell_type": "code",
   "execution_count": 1,
   "metadata": {},
   "outputs": [],
   "source": [
    "from sklearn import datasets\n",
    "from sklearn.preprocessing import OrdinalEncoder, StandardScaler, MinMaxScaler"
   ]
  },
  {
   "cell_type": "code",
   "execution_count": 2,
   "metadata": {},
   "outputs": [],
   "source": [
    "x_y = datasets.load_breast_cancer()"
   ]
  },
  {
   "cell_type": "code",
   "execution_count": 3,
   "metadata": {},
   "outputs": [],
   "source": [
    "encoder = OrdinalEncoder()\n",
    "y = encoder.fit_transform(x_y.target.reshape(-1, 1))"
   ]
  },
  {
   "cell_type": "code",
   "execution_count": 4,
   "metadata": {},
   "outputs": [
    {
     "data": {
      "text/plain": [
       "False"
      ]
     },
     "execution_count": 4,
     "metadata": {},
     "output_type": "execute_result"
    }
   ],
   "source": [
    "from models import NONA\n",
    "model = NONA()\n",
    "model.eval()\n",
    "model.training"
   ]
  },
  {
   "cell_type": "code",
   "execution_count": 1,
   "metadata": {},
   "outputs": [],
   "source": [
    "from torchvision.models import resnet50, ResNet50_Weights\n",
    "from torchvision.datasets import cifar"
   ]
  },
  {
   "cell_type": "code",
   "execution_count": 2,
   "metadata": {},
   "outputs": [],
   "source": [
    "resnet = resnet50(weights=ResNet50_Weights.IMAGENET1K_V2)"
   ]
  },
  {
   "cell_type": "code",
   "execution_count": 10,
   "metadata": {},
   "outputs": [
    {
     "data": {
      "text/plain": [
       "ResNet(\n",
       "  (conv1): Conv2d(3, 64, kernel_size=(7, 7), stride=(2, 2), padding=(3, 3), bias=False)\n",
       "  (bn1): BatchNorm2d(64, eps=1e-05, momentum=0.1, affine=True, track_running_stats=True)\n",
       "  (relu): ReLU(inplace=True)\n",
       "  (maxpool): MaxPool2d(kernel_size=3, stride=2, padding=1, dilation=1, ceil_mode=False)\n",
       "  (layer1): Sequential(\n",
       "    (0): Bottleneck(\n",
       "      (conv1): Conv2d(64, 64, kernel_size=(1, 1), stride=(1, 1), bias=False)\n",
       "      (bn1): BatchNorm2d(64, eps=1e-05, momentum=0.1, affine=True, track_running_stats=True)\n",
       "      (conv2): Conv2d(64, 64, kernel_size=(3, 3), stride=(1, 1), padding=(1, 1), bias=False)\n",
       "      (bn2): BatchNorm2d(64, eps=1e-05, momentum=0.1, affine=True, track_running_stats=True)\n",
       "      (conv3): Conv2d(64, 256, kernel_size=(1, 1), stride=(1, 1), bias=False)\n",
       "      (bn3): BatchNorm2d(256, eps=1e-05, momentum=0.1, affine=True, track_running_stats=True)\n",
       "      (relu): ReLU(inplace=True)\n",
       "      (downsample): Sequential(\n",
       "        (0): Conv2d(64, 256, kernel_size=(1, 1), stride=(1, 1), bias=False)\n",
       "        (1): BatchNorm2d(256, eps=1e-05, momentum=0.1, affine=True, track_running_stats=True)\n",
       "      )\n",
       "    )\n",
       "    (1): Bottleneck(\n",
       "      (conv1): Conv2d(256, 64, kernel_size=(1, 1), stride=(1, 1), bias=False)\n",
       "      (bn1): BatchNorm2d(64, eps=1e-05, momentum=0.1, affine=True, track_running_stats=True)\n",
       "      (conv2): Conv2d(64, 64, kernel_size=(3, 3), stride=(1, 1), padding=(1, 1), bias=False)\n",
       "      (bn2): BatchNorm2d(64, eps=1e-05, momentum=0.1, affine=True, track_running_stats=True)\n",
       "      (conv3): Conv2d(64, 256, kernel_size=(1, 1), stride=(1, 1), bias=False)\n",
       "      (bn3): BatchNorm2d(256, eps=1e-05, momentum=0.1, affine=True, track_running_stats=True)\n",
       "      (relu): ReLU(inplace=True)\n",
       "    )\n",
       "    (2): Bottleneck(\n",
       "      (conv1): Conv2d(256, 64, kernel_size=(1, 1), stride=(1, 1), bias=False)\n",
       "      (bn1): BatchNorm2d(64, eps=1e-05, momentum=0.1, affine=True, track_running_stats=True)\n",
       "      (conv2): Conv2d(64, 64, kernel_size=(3, 3), stride=(1, 1), padding=(1, 1), bias=False)\n",
       "      (bn2): BatchNorm2d(64, eps=1e-05, momentum=0.1, affine=True, track_running_stats=True)\n",
       "      (conv3): Conv2d(64, 256, kernel_size=(1, 1), stride=(1, 1), bias=False)\n",
       "      (bn3): BatchNorm2d(256, eps=1e-05, momentum=0.1, affine=True, track_running_stats=True)\n",
       "      (relu): ReLU(inplace=True)\n",
       "    )\n",
       "  )\n",
       "  (layer2): Sequential(\n",
       "    (0): Bottleneck(\n",
       "      (conv1): Conv2d(256, 128, kernel_size=(1, 1), stride=(1, 1), bias=False)\n",
       "      (bn1): BatchNorm2d(128, eps=1e-05, momentum=0.1, affine=True, track_running_stats=True)\n",
       "      (conv2): Conv2d(128, 128, kernel_size=(3, 3), stride=(2, 2), padding=(1, 1), bias=False)\n",
       "      (bn2): BatchNorm2d(128, eps=1e-05, momentum=0.1, affine=True, track_running_stats=True)\n",
       "      (conv3): Conv2d(128, 512, kernel_size=(1, 1), stride=(1, 1), bias=False)\n",
       "      (bn3): BatchNorm2d(512, eps=1e-05, momentum=0.1, affine=True, track_running_stats=True)\n",
       "      (relu): ReLU(inplace=True)\n",
       "      (downsample): Sequential(\n",
       "        (0): Conv2d(256, 512, kernel_size=(1, 1), stride=(2, 2), bias=False)\n",
       "        (1): BatchNorm2d(512, eps=1e-05, momentum=0.1, affine=True, track_running_stats=True)\n",
       "      )\n",
       "    )\n",
       "    (1): Bottleneck(\n",
       "      (conv1): Conv2d(512, 128, kernel_size=(1, 1), stride=(1, 1), bias=False)\n",
       "      (bn1): BatchNorm2d(128, eps=1e-05, momentum=0.1, affine=True, track_running_stats=True)\n",
       "      (conv2): Conv2d(128, 128, kernel_size=(3, 3), stride=(1, 1), padding=(1, 1), bias=False)\n",
       "      (bn2): BatchNorm2d(128, eps=1e-05, momentum=0.1, affine=True, track_running_stats=True)\n",
       "      (conv3): Conv2d(128, 512, kernel_size=(1, 1), stride=(1, 1), bias=False)\n",
       "      (bn3): BatchNorm2d(512, eps=1e-05, momentum=0.1, affine=True, track_running_stats=True)\n",
       "      (relu): ReLU(inplace=True)\n",
       "    )\n",
       "    (2): Bottleneck(\n",
       "      (conv1): Conv2d(512, 128, kernel_size=(1, 1), stride=(1, 1), bias=False)\n",
       "      (bn1): BatchNorm2d(128, eps=1e-05, momentum=0.1, affine=True, track_running_stats=True)\n",
       "      (conv2): Conv2d(128, 128, kernel_size=(3, 3), stride=(1, 1), padding=(1, 1), bias=False)\n",
       "      (bn2): BatchNorm2d(128, eps=1e-05, momentum=0.1, affine=True, track_running_stats=True)\n",
       "      (conv3): Conv2d(128, 512, kernel_size=(1, 1), stride=(1, 1), bias=False)\n",
       "      (bn3): BatchNorm2d(512, eps=1e-05, momentum=0.1, affine=True, track_running_stats=True)\n",
       "      (relu): ReLU(inplace=True)\n",
       "    )\n",
       "    (3): Bottleneck(\n",
       "      (conv1): Conv2d(512, 128, kernel_size=(1, 1), stride=(1, 1), bias=False)\n",
       "      (bn1): BatchNorm2d(128, eps=1e-05, momentum=0.1, affine=True, track_running_stats=True)\n",
       "      (conv2): Conv2d(128, 128, kernel_size=(3, 3), stride=(1, 1), padding=(1, 1), bias=False)\n",
       "      (bn2): BatchNorm2d(128, eps=1e-05, momentum=0.1, affine=True, track_running_stats=True)\n",
       "      (conv3): Conv2d(128, 512, kernel_size=(1, 1), stride=(1, 1), bias=False)\n",
       "      (bn3): BatchNorm2d(512, eps=1e-05, momentum=0.1, affine=True, track_running_stats=True)\n",
       "      (relu): ReLU(inplace=True)\n",
       "    )\n",
       "  )\n",
       "  (layer3): Sequential(\n",
       "    (0): Bottleneck(\n",
       "      (conv1): Conv2d(512, 256, kernel_size=(1, 1), stride=(1, 1), bias=False)\n",
       "      (bn1): BatchNorm2d(256, eps=1e-05, momentum=0.1, affine=True, track_running_stats=True)\n",
       "      (conv2): Conv2d(256, 256, kernel_size=(3, 3), stride=(2, 2), padding=(1, 1), bias=False)\n",
       "      (bn2): BatchNorm2d(256, eps=1e-05, momentum=0.1, affine=True, track_running_stats=True)\n",
       "      (conv3): Conv2d(256, 1024, kernel_size=(1, 1), stride=(1, 1), bias=False)\n",
       "      (bn3): BatchNorm2d(1024, eps=1e-05, momentum=0.1, affine=True, track_running_stats=True)\n",
       "      (relu): ReLU(inplace=True)\n",
       "      (downsample): Sequential(\n",
       "        (0): Conv2d(512, 1024, kernel_size=(1, 1), stride=(2, 2), bias=False)\n",
       "        (1): BatchNorm2d(1024, eps=1e-05, momentum=0.1, affine=True, track_running_stats=True)\n",
       "      )\n",
       "    )\n",
       "    (1): Bottleneck(\n",
       "      (conv1): Conv2d(1024, 256, kernel_size=(1, 1), stride=(1, 1), bias=False)\n",
       "      (bn1): BatchNorm2d(256, eps=1e-05, momentum=0.1, affine=True, track_running_stats=True)\n",
       "      (conv2): Conv2d(256, 256, kernel_size=(3, 3), stride=(1, 1), padding=(1, 1), bias=False)\n",
       "      (bn2): BatchNorm2d(256, eps=1e-05, momentum=0.1, affine=True, track_running_stats=True)\n",
       "      (conv3): Conv2d(256, 1024, kernel_size=(1, 1), stride=(1, 1), bias=False)\n",
       "      (bn3): BatchNorm2d(1024, eps=1e-05, momentum=0.1, affine=True, track_running_stats=True)\n",
       "      (relu): ReLU(inplace=True)\n",
       "    )\n",
       "    (2): Bottleneck(\n",
       "      (conv1): Conv2d(1024, 256, kernel_size=(1, 1), stride=(1, 1), bias=False)\n",
       "      (bn1): BatchNorm2d(256, eps=1e-05, momentum=0.1, affine=True, track_running_stats=True)\n",
       "      (conv2): Conv2d(256, 256, kernel_size=(3, 3), stride=(1, 1), padding=(1, 1), bias=False)\n",
       "      (bn2): BatchNorm2d(256, eps=1e-05, momentum=0.1, affine=True, track_running_stats=True)\n",
       "      (conv3): Conv2d(256, 1024, kernel_size=(1, 1), stride=(1, 1), bias=False)\n",
       "      (bn3): BatchNorm2d(1024, eps=1e-05, momentum=0.1, affine=True, track_running_stats=True)\n",
       "      (relu): ReLU(inplace=True)\n",
       "    )\n",
       "    (3): Bottleneck(\n",
       "      (conv1): Conv2d(1024, 256, kernel_size=(1, 1), stride=(1, 1), bias=False)\n",
       "      (bn1): BatchNorm2d(256, eps=1e-05, momentum=0.1, affine=True, track_running_stats=True)\n",
       "      (conv2): Conv2d(256, 256, kernel_size=(3, 3), stride=(1, 1), padding=(1, 1), bias=False)\n",
       "      (bn2): BatchNorm2d(256, eps=1e-05, momentum=0.1, affine=True, track_running_stats=True)\n",
       "      (conv3): Conv2d(256, 1024, kernel_size=(1, 1), stride=(1, 1), bias=False)\n",
       "      (bn3): BatchNorm2d(1024, eps=1e-05, momentum=0.1, affine=True, track_running_stats=True)\n",
       "      (relu): ReLU(inplace=True)\n",
       "    )\n",
       "    (4): Bottleneck(\n",
       "      (conv1): Conv2d(1024, 256, kernel_size=(1, 1), stride=(1, 1), bias=False)\n",
       "      (bn1): BatchNorm2d(256, eps=1e-05, momentum=0.1, affine=True, track_running_stats=True)\n",
       "      (conv2): Conv2d(256, 256, kernel_size=(3, 3), stride=(1, 1), padding=(1, 1), bias=False)\n",
       "      (bn2): BatchNorm2d(256, eps=1e-05, momentum=0.1, affine=True, track_running_stats=True)\n",
       "      (conv3): Conv2d(256, 1024, kernel_size=(1, 1), stride=(1, 1), bias=False)\n",
       "      (bn3): BatchNorm2d(1024, eps=1e-05, momentum=0.1, affine=True, track_running_stats=True)\n",
       "      (relu): ReLU(inplace=True)\n",
       "    )\n",
       "    (5): Bottleneck(\n",
       "      (conv1): Conv2d(1024, 256, kernel_size=(1, 1), stride=(1, 1), bias=False)\n",
       "      (bn1): BatchNorm2d(256, eps=1e-05, momentum=0.1, affine=True, track_running_stats=True)\n",
       "      (conv2): Conv2d(256, 256, kernel_size=(3, 3), stride=(1, 1), padding=(1, 1), bias=False)\n",
       "      (bn2): BatchNorm2d(256, eps=1e-05, momentum=0.1, affine=True, track_running_stats=True)\n",
       "      (conv3): Conv2d(256, 1024, kernel_size=(1, 1), stride=(1, 1), bias=False)\n",
       "      (bn3): BatchNorm2d(1024, eps=1e-05, momentum=0.1, affine=True, track_running_stats=True)\n",
       "      (relu): ReLU(inplace=True)\n",
       "    )\n",
       "  )\n",
       "  (layer4): Sequential(\n",
       "    (0): Bottleneck(\n",
       "      (conv1): Conv2d(1024, 512, kernel_size=(1, 1), stride=(1, 1), bias=False)\n",
       "      (bn1): BatchNorm2d(512, eps=1e-05, momentum=0.1, affine=True, track_running_stats=True)\n",
       "      (conv2): Conv2d(512, 512, kernel_size=(3, 3), stride=(2, 2), padding=(1, 1), bias=False)\n",
       "      (bn2): BatchNorm2d(512, eps=1e-05, momentum=0.1, affine=True, track_running_stats=True)\n",
       "      (conv3): Conv2d(512, 2048, kernel_size=(1, 1), stride=(1, 1), bias=False)\n",
       "      (bn3): BatchNorm2d(2048, eps=1e-05, momentum=0.1, affine=True, track_running_stats=True)\n",
       "      (relu): ReLU(inplace=True)\n",
       "      (downsample): Sequential(\n",
       "        (0): Conv2d(1024, 2048, kernel_size=(1, 1), stride=(2, 2), bias=False)\n",
       "        (1): BatchNorm2d(2048, eps=1e-05, momentum=0.1, affine=True, track_running_stats=True)\n",
       "      )\n",
       "    )\n",
       "    (1): Bottleneck(\n",
       "      (conv1): Conv2d(2048, 512, kernel_size=(1, 1), stride=(1, 1), bias=False)\n",
       "      (bn1): BatchNorm2d(512, eps=1e-05, momentum=0.1, affine=True, track_running_stats=True)\n",
       "      (conv2): Conv2d(512, 512, kernel_size=(3, 3), stride=(1, 1), padding=(1, 1), bias=False)\n",
       "      (bn2): BatchNorm2d(512, eps=1e-05, momentum=0.1, affine=True, track_running_stats=True)\n",
       "      (conv3): Conv2d(512, 2048, kernel_size=(1, 1), stride=(1, 1), bias=False)\n",
       "      (bn3): BatchNorm2d(2048, eps=1e-05, momentum=0.1, affine=True, track_running_stats=True)\n",
       "      (relu): ReLU(inplace=True)\n",
       "    )\n",
       "    (2): Bottleneck(\n",
       "      (conv1): Conv2d(2048, 512, kernel_size=(1, 1), stride=(1, 1), bias=False)\n",
       "      (bn1): BatchNorm2d(512, eps=1e-05, momentum=0.1, affine=True, track_running_stats=True)\n",
       "      (conv2): Conv2d(512, 512, kernel_size=(3, 3), stride=(1, 1), padding=(1, 1), bias=False)\n",
       "      (bn2): BatchNorm2d(512, eps=1e-05, momentum=0.1, affine=True, track_running_stats=True)\n",
       "      (conv3): Conv2d(512, 2048, kernel_size=(1, 1), stride=(1, 1), bias=False)\n",
       "      (bn3): BatchNorm2d(2048, eps=1e-05, momentum=0.1, affine=True, track_running_stats=True)\n",
       "      (relu): ReLU(inplace=True)\n",
       "    )\n",
       "  )\n",
       "  (avgpool): AdaptiveAvgPool2d(output_size=(1, 1))\n",
       "  (fc): Linear(in_features=2048, out_features=1000, bias=True)\n",
       ")"
      ]
     },
     "execution_count": 10,
     "metadata": {},
     "output_type": "execute_result"
    }
   ],
   "source": [
    "resnet"
   ]
  },
  {
   "cell_type": "code",
   "execution_count": 7,
   "metadata": {},
   "outputs": [
    {
     "name": "stderr",
     "output_type": "stream",
     "text": [
      "/sc/arion/projects/pandeg01a/susmaa01/nona/.venv/lib64/python3.9/site-packages/torch/utils/data/dataloader.py:624: UserWarning: This DataLoader will create 2 worker processes in total. Our suggested max number of worker in current system is 1, which is smaller than what this DataLoader is going to create. Please be aware that excessive worker creation might get DataLoader running slow or even freeze, lower the worker number to avoid potential slowness/freeze if necessary.\n",
      "  warnings.warn(\n",
      "/sc/arion/projects/pandeg01a/susmaa01/nona/.venv/lib64/python3.9/site-packages/torch/utils/data/dataloader.py:624: UserWarning: This DataLoader will create 2 worker processes in total. Our suggested max number of worker in current system is 1, which is smaller than what this DataLoader is going to create. Please be aware that excessive worker creation might get DataLoader running slow or even freeze, lower the worker number to avoid potential slowness/freeze if necessary.\n",
      "  warnings.warn(\n"
     ]
    },
    {
     "data": {
      "image/png": "[encoded data removed]",
      "text/plain": [
       "<Figure size 640x480 with 1 Axes>"
      ]
     },
     "metadata": {},
     "output_type": "display_data"
    },
    {
     "name": "stdout",
     "output_type": "stream",
     "text": [
      "ship frog truck plane truck horse bird plane\n"
     ]
    }
   ],
   "source": [
    "import torch\n",
    "import torchvision\n",
    "import torchvision.transforms as transforms\n",
    "\n",
    "transform = transforms.Compose([\n",
    "    transforms.ToTensor(),\n",
    "    transforms.Normalize((0.5, 0.5, 0.5), (0.5, 0.5, 0.5))  # Normalize to [-1, 1]\n",
    "])\n",
    "\n",
    "trainset = torchvision.datasets.CIFAR10(root='./cifar', train=True, download=True, transform=transform)\n",
    "trainloader = torch.utils.data.DataLoader(trainset, batch_size=64, shuffle=True, num_workers=2)\n",
    "\n",
    "testset = torchvision.datasets.CIFAR10(root='./cifar', train=False, download=True, transform=transform)\n",
    "testloader = torch.utils.data.DataLoader(testset, batch_size=64, shuffle=False, num_workers=2)\n",
    "\n",
    "\n",
    "import matplotlib.pyplot as plt\n",
    "import numpy as np\n",
    "\n",
    "# Function to unnormalize and display images\n",
    "def imshow(img):\n",
    "    img = img / 2 + 0.5  # Unnormalize\n",
    "    npimg = img.numpy()\n",
    "    plt.imshow(np.transpose(npimg, (1, 2, 0)))\n",
    "    plt.show()\n",
    "\n",
    "# Get a batch of training data\n",
    "dataiter = iter(trainloader)\n",
    "images, labels = next(dataiter)\n",
    "\n",
    "# Show images\n",
    "imshow(torchvision.utils.make_grid(images))\n",
    "\n",
    "\n",
    "classes = ('plane', 'car', 'bird', 'cat',\n",
    "           'deer', 'dog', 'frog', 'horse', 'ship', 'truck')\n",
    "\n",
    "# Print labels for the first batch\n",
    "print(' '.join(f'{classes[labels[j]]}' for j in range(8)))\n",
    "\n"
   ]
  },
  {
   "cell_type": "code",
   "execution_count": 8,
   "metadata": {},
   "outputs": [
    {
     "name": "stdout",
     "output_type": "stream",
     "text": [
      "Train images shape: torch.Size([50000, 3, 32, 32])\n",
      "Train labels shape: torch.Size([50000])\n",
      "Test images shape: torch.Size([10000, 3, 32, 32])\n",
      "Test labels shape: torch.Size([10000])\n"
     ]
    }
   ],
   "source": [
    "# Load the entire CIFAR-10 dataset into a single batch\n",
    "trainloader = torch.utils.data.DataLoader(trainset, batch_size=len(trainset), shuffle=True, num_workers=2)\n",
    "testloader = torch.utils.data.DataLoader(testset, batch_size=len(testset), shuffle=False, num_workers=2)\n",
    "\n",
    "# Get the entire training data\n",
    "train_dataiter = iter(trainloader)\n",
    "train_images, train_labels = next(train_dataiter)\n",
    "\n",
    "# Get the entire test data\n",
    "test_dataiter = iter(testloader)\n",
    "test_images, test_labels = next(test_dataiter)\n",
    "\n",
    "print(f'Train images shape: {train_images.shape}')\n",
    "print(f'Train labels shape: {train_labels.shape}')\n",
    "print(f'Test images shape: {test_images.shape}')\n",
    "print(f'Test labels shape: {test_labels.shape}')"
   ]
  },
  {
   "cell_type": "code",
   "execution_count": 7,
   "metadata": {},
   "outputs": [
    {
     "ename": "FileNotFoundError",
     "evalue": "[Errno 2] No such file or directory: 'cifar/feature_extracted/train_images.pt'",
     "output_type": "error",
     "traceback": [
      "\u001b[0;31m---------------------------------------------------------------------------\u001b[0m",
      "\u001b[0;31mFileNotFoundError\u001b[0m                         Traceback (most recent call last)",
      "Cell \u001b[0;32mIn[7], line 5\u001b[0m\n\u001b[1;32m      2\u001b[0m     train_images_fe \u001b[39m=\u001b[39m resnet(train_images)\n\u001b[1;32m      3\u001b[0m     test_images_fe \u001b[39m=\u001b[39m resnet(test_images)\n\u001b[0;32m----> 5\u001b[0m \u001b[39mwith\u001b[39;00m \u001b[39mopen\u001b[39;49m(\u001b[39m\"\u001b[39;49m\u001b[39mcifar/feature_extracted/train_images.pt\u001b[39;49m\u001b[39m\"\u001b[39;49m, \u001b[39m\"\u001b[39;49m\u001b[39mwb\u001b[39;49m\u001b[39m\"\u001b[39;49m) \u001b[39mas\u001b[39;00m f:\n\u001b[1;32m      6\u001b[0m     torch\u001b[39m.\u001b[39msave(train_images_fe, f)\n\u001b[1;32m      7\u001b[0m \u001b[39mwith\u001b[39;00m \u001b[39mopen\u001b[39m(\u001b[39m\"\u001b[39m\u001b[39mcifar/feature_extracted/test_images.pt\u001b[39m\u001b[39m\"\u001b[39m, \u001b[39m\"\u001b[39m\u001b[39mwb\u001b[39m\u001b[39m\"\u001b[39m) \u001b[39mas\u001b[39;00m f:\n",
      "File \u001b[0;32m/sc/arion/projects/pandeg01a/susmaa01/nona/.venv/lib64/python3.9/site-packages/IPython/core/interactiveshell.py:310\u001b[0m, in \u001b[0;36m_modified_open\u001b[0;34m(file, *args, **kwargs)\u001b[0m\n\u001b[1;32m    303\u001b[0m \u001b[39mif\u001b[39;00m file \u001b[39min\u001b[39;00m {\u001b[39m0\u001b[39m, \u001b[39m1\u001b[39m, \u001b[39m2\u001b[39m}:\n\u001b[1;32m    304\u001b[0m     \u001b[39mraise\u001b[39;00m \u001b[39mValueError\u001b[39;00m(\n\u001b[1;32m    305\u001b[0m         \u001b[39mf\u001b[39m\u001b[39m\"\u001b[39m\u001b[39mIPython won\u001b[39m\u001b[39m'\u001b[39m\u001b[39mt let you open fd=\u001b[39m\u001b[39m{\u001b[39;00mfile\u001b[39m}\u001b[39;00m\u001b[39m by default \u001b[39m\u001b[39m\"\u001b[39m\n\u001b[1;32m    306\u001b[0m         \u001b[39m\"\u001b[39m\u001b[39mas it is likely to crash IPython. If you know what you are doing, \u001b[39m\u001b[39m\"\u001b[39m\n\u001b[1;32m    307\u001b[0m         \u001b[39m\"\u001b[39m\u001b[39myou can use builtins\u001b[39m\u001b[39m'\u001b[39m\u001b[39m open.\u001b[39m\u001b[39m\"\u001b[39m\n\u001b[1;32m    308\u001b[0m     )\n\u001b[0;32m--> 310\u001b[0m \u001b[39mreturn\u001b[39;00m io_open(file, \u001b[39m*\u001b[39;49margs, \u001b[39m*\u001b[39;49m\u001b[39m*\u001b[39;49mkwargs)\n",
      "\u001b[0;31mFileNotFoundError\u001b[0m: [Errno 2] No such file or directory: 'cifar/feature_extracted/train_images.pt'"
     ]
    }
   ],
   "source": [
    "with torch.no_grad():\n",
    "    train_images_fe = resnet(train_images)\n",
    "    test_images_fe = resnet(test_images)\n",
    "\n",
    "with open(\"cifar/feature_extracted/train_images.pt\", \"wb\") as f:\n",
    "    torch.save(train_images_fe, f)\n",
    "with open(\"cifar/feature_extracted/test_images.pt\", \"wb\") as f:\n",
    "    torch.save(test_images_fe, f)\n",
    "with open(\"cifar/feature_extracted/train_labels.pt\", \"wb\") as f:\n",
    "    torch.save(train_labels, f)\n",
    "with open(\"cifar/feature_extracted/test_labels.pt\", \"wb\") as f:\n",
    "    torch.save(test_labels, f)"
   ]
  },
  {
   "cell_type": "code",
   "execution_count": 11,
   "metadata": {},
   "outputs": [],
   "source": [
    "import torch\n",
    "with open(\"cifar/feature_extracted/train_images.pt\", \"rb\") as f:\n",
    "    train_images_fe = torch.load(f)\n",
    "with open(\"cifar/feature_extracted/test_images.pt\", \"rb\") as f:\n",
    "    test_images_fe = torch.load(f)\n",
    "with open(\"cifar/feature_extracted/train_labels.pt\", \"rb\") as f:\n",
    "    train_labels = torch.load(f)\n",
    "with open(\"cifar/feature_extracted/test_labels.pt\", \"rb\") as f:\n",
    "    test_labels = torch.load(f)"
   ]
  },
  {
   "cell_type": "code",
   "execution_count": 12,
   "metadata": {},
   "outputs": [],
   "source": [
    "train_labels_ohe = torch.nn.functional.one_hot(train_labels).to(torch.float32)\n",
    "test_labels_ohe = torch.nn.functional.one_hot(test_labels).to(torch.float32)"
   ]
  },
  {
   "cell_type": "code",
   "execution_count": 30,
   "metadata": {},
   "outputs": [],
   "source": [
    "X_full = torch.cat([train_images_fe, test_images_fe])\n",
    "y_full = torch.cat([train_labels_ohe, test_labels_ohe])\n",
    "with open(\"cifar/feature_extracted/X.pt\", \"wb\") as f:\n",
    "    torch.save(X_full, f)\n",
    "with open(\"cifar/feature_extracted/y.pt\", \"wb\") as f:\n",
    "    torch.save(y_full, f)"
   ]
  },
  {
   "cell_type": "code",
   "execution_count": 28,
   "metadata": {},
   "outputs": [],
   "source": [
    "from models import NONA\n",
    "from torch.nn import ReLU, Tanh, Sigmoid\n",
    "nona = NONA(similarity='dot')\n",
    "activ = Tanh()\n",
    "y_hat_test = nona(activ(test_images_fe), activ(train_images_fe), train_labels_ohe)"
   ]
  },
  {
   "cell_type": "code",
   "execution_count": 29,
   "metadata": {},
   "outputs": [
    {
     "data": {
      "text/plain": [
       "torch.Size([10000, 1000])"
      ]
     },
     "execution_count": 29,
     "metadata": {},
     "output_type": "execute_result"
    }
   ],
   "source": [
    "test_images_fe.shape"
   ]
  },
  {
   "cell_type": "code",
   "execution_count": 26,
   "metadata": {},
   "outputs": [],
   "source": [
    "pred_test = torch.argmax(y_hat_test, dim=1)"
   ]
  },
  {
   "cell_type": "code",
   "execution_count": 27,
   "metadata": {},
   "outputs": [
    {
     "data": {
      "text/plain": [
       "11.799999999999999"
      ]
     },
     "execution_count": 27,
     "metadata": {},
     "output_type": "execute_result"
    }
   ],
   "source": [
    "accuracy = (pred_test == test_labels).sum().item() / len(test_labels) * 100\n",
    "accuracy"
   ]
  },
  {
   "cell_type": "code",
   "execution_count": 2,
   "metadata": {},
   "outputs": [],
   "source": [
    "import torch\n",
    "with open(\"cifar/feature_extracted/y.pt\", \"rb\") as file:\n",
    "    y = torch.load(file)"
   ]
  },
  {
   "cell_type": "code",
   "execution_count": 4,
   "metadata": {},
   "outputs": [
    {
     "data": {
      "text/plain": [
       "tensor([8., 6., 2.,  ..., 5., 1., 7.], dtype=torch.float64)"
      ]
     },
     "execution_count": 4,
     "metadata": {},
     "output_type": "execute_result"
    }
   ],
   "source": [
    "y"
   ]
  },
  {
   "cell_type": "code",
   "execution_count": 7,
   "metadata": {},
   "outputs": [],
   "source": [
    "y = torch.Tensor(y) if type(y) != torch.Tensor else y"
   ]
  },
  {
   "cell_type": "code",
   "execution_count": 7,
   "metadata": {},
   "outputs": [],
   "source": [
    "y_ohe = torch.nn.functional.one_hot(y.long()).to(torch.float64)"
   ]
  },
  {
   "cell_type": "code",
   "execution_count": 8,
   "metadata": {},
   "outputs": [],
   "source": [
    "with open(\"cifar/feature_extracted/y_ohe.pt\", \"wb\") as file:\n",
    "    torch.save(y_ohe, file)"
   ]
  },
  {
   "cell_type": "code",
   "execution_count": 9,
   "metadata": {},
   "outputs": [
    {
     "data": {
      "text/plain": [
       "torch.float64"
      ]
     },
     "execution_count": 9,
     "metadata": {},
     "output_type": "execute_result"
    }
   ],
   "source": [
    "import numpy as np\n",
    "import torch\n",
    "my_arr = np.random.random((6,2))\n",
    "device = 'cuda' if torch.cuda.is_available() else 'cpu'\n",
    "def tensor(arr):\n",
    "    if type(arr) != torch.Tensor:\n",
    "        arr = torch.Tensor(arr)\n",
    "    return arr.to(dtype=torch.float64, device=device)\n",
    "tensor(my_arr).dtype"
   ]
  },
  {
   "cell_type": "code",
   "execution_count": null,
   "metadata": {},
   "outputs": [],
   "source": [
    "def arr(tensor):\n",
    "    if type(arr) != torch.Tensor:\n",
    "        arr = torch.Tensor(arr)\n",
    "    return arr.to(dtype=torch.float64, device=device)\n",
    "tensor(my_arr).dtype"
   ]
  },
  {
   "cell_type": "code",
   "execution_count": 12,
   "metadata": {},
   "outputs": [
    {
     "name": "stderr",
     "output_type": "stream",
     "text": [
      "/tmp/ipykernel_1776383/445702231.py:2: UserWarning: Implicit dimension choice for softmax has been deprecated. Change the call to include dim=X as an argument.\n",
      "  softmax(torch.tensor([-1,1]).double())\n"
     ]
    },
    {
     "data": {
      "text/plain": [
       "tensor([0.1192, 0.8808], dtype=torch.float64)"
      ]
     },
     "execution_count": 12,
     "metadata": {},
     "output_type": "execute_result"
    }
   ],
   "source": [
    "from torch.nn.functional import softmax\n",
    "softmax(torch.tensor([-1,1]).double())"
   ]
  },
  {
   "cell_type": "code",
   "execution_count": 2,
   "metadata": {},
   "outputs": [
    {
     "name": "stdout",
     "output_type": "stream",
     "text": [
      "bye\n"
     ]
    }
   ],
   "source": [
    "hi = None\n",
    "if hi is not None:\n",
    "    print('hi')\n",
    "else:\n",
    "    print('bye')"
   ]
  },
  {
   "cell_type": "code",
   "execution_count": 1,
   "metadata": {},
   "outputs": [
    {
     "name": "stderr",
     "output_type": "stream",
     "text": [
      "Downloading: \"https://download.pytorch.org/models/resnet18-f37072fd.pth\" to /hpc/users/susmaa01/.cache/torch/hub/checkpoints/resnet18-f37072fd.pth\n",
      "100.0%\n"
     ]
    }
   ],
   "source": [
    "from torchvision.models import resnet18\n",
    "model = resnet18(weights='DEFAULT')"
   ]
  },
  {
   "cell_type": "code",
   "execution_count": 11,
   "metadata": {},
   "outputs": [],
   "source": [
    "with torch.no_grad():\n",
    "    train_images_18 = model(train_images)\n",
    "    test_images_18 = model(test_images)"
   ]
  },
  {
   "cell_type": "code",
   "execution_count": 16,
   "metadata": {},
   "outputs": [
    {
     "data": {
      "text/plain": [
       "tensor([-9.6257e+00, -4.2730e+00, -5.1950e+00, -8.1055e+00, -6.1527e+00,\n",
       "        -8.6684e+00, -6.6729e+00,  5.0405e+00,  2.6653e+00,  1.1740e+00,\n",
       "        -6.2525e-01,  3.4779e+00,  5.7466e-01, -1.1995e+00,  4.1226e-01,\n",
       "         1.5316e+00,  2.1579e+00,  5.7767e-01,  1.5811e+00, -1.3872e+00,\n",
       "        -2.4567e+00, -3.0983e+00, -6.0806e-01, -2.0289e+00,  1.6029e+00,\n",
       "         2.0085e+00, -2.2720e+00, -2.9320e+00, -1.5911e+00, -4.9222e+00,\n",
       "        -4.8628e+00, -2.1443e+00, -5.0622e+00, -9.1546e+00, -9.0512e+00,\n",
       "        -5.6154e+00, -3.7098e+00, -1.8347e+00, -2.2819e+00, -4.2521e+00,\n",
       "         2.4372e+00, -3.9680e+00, -2.0166e+00, -1.7361e+00, -2.2295e+00,\n",
       "        -1.7327e+00,  1.1672e+00, -3.4068e+00, -4.4015e+00, -7.4564e+00,\n",
       "        -3.6275e+00, -3.8907e+00, -5.1142e+00, -3.7902e+00, -4.9590e+00,\n",
       "        -3.6969e+00, -3.3197e+00, -6.3574e+00, -5.6581e+00, -3.0732e+00,\n",
       "        -4.5417e+00, -8.7546e+00, -7.2117e+00, -4.8253e+00, -3.1794e+00,\n",
       "        -7.3461e+00, -3.0442e+00, -5.6897e+00, -6.2364e+00, -6.2563e+00,\n",
       "        -5.0790e+00, -5.5719e-01, -1.8228e+00, -3.2682e+00,  4.3052e-01,\n",
       "        -3.1260e+00, -4.8547e+00, -2.2663e+00, -7.5700e-01,  2.2204e+00,\n",
       "        -1.2641e-01, -4.0495e+00, -7.2576e-01, -2.0012e+00,  3.3996e+00,\n",
       "         2.4784e+00, -1.5277e+00, -2.1812e+00,  4.7682e-01,  1.0003e+00,\n",
       "         2.7289e-01, -4.1037e+00, -2.7918e+00, -2.3545e-02,  2.8202e+00,\n",
       "        -4.0867e+00,  3.2588e-01, -5.2118e+00, -8.3579e+00,  4.1108e-01,\n",
       "         1.7158e+00, -6.9261e+00, -3.8262e+00, -2.9549e+00,  3.0319e+00,\n",
       "        -3.2842e+00, -2.3492e+00, -6.8114e+00, -1.3204e+00, -4.1781e+00,\n",
       "        -4.3541e+00, -3.0232e+00, -2.3740e+00, -1.2228e+00, -3.4278e+00,\n",
       "        -5.1153e-01, -3.7738e+00, -4.5284e+00, -3.1002e+00, -6.1419e+00,\n",
       "        -4.8953e+00, -4.6012e+00, -3.9761e+00, -6.5344e+00, -5.9479e+00,\n",
       "        -5.8137e+00, -3.4475e+00, -1.5825e+00, -4.9207e+00, -5.5322e+00,\n",
       "        -2.3553e+00, -2.8209e+00, -4.3745e-01, -3.0461e+00, -1.6859e+00,\n",
       "         1.3963e+00, -3.4939e-01, -2.7229e+00, -3.4818e+00, -3.2690e+00,\n",
       "        -6.3317e+00, -4.3760e+00, -3.9947e+00, -3.4439e+00, -3.8863e+00,\n",
       "         2.8176e+00, -2.6712e+00, -9.4101e+00, -5.6355e+00, -8.8730e+00,\n",
       "        -4.5778e+00,  4.1032e+00, -1.5494e+00,  2.0220e+00,  3.6335e-01,\n",
       "         8.5792e-02, -3.7258e-01,  2.1158e+00,  5.9580e-01,  2.0292e-01,\n",
       "         2.6917e+00, -6.6692e-01,  8.8949e-01, -5.9426e-01, -1.8780e+00,\n",
       "        -6.6280e-01, -1.8062e+00,  2.0143e-01, -2.1716e+00,  6.9252e-01,\n",
       "        -9.5979e-01, -3.5201e-01, -1.1398e+00, -2.7353e+00,  8.6885e-01,\n",
       "        -5.7063e-01, -2.0302e+00, -9.9598e-01,  8.9028e-01,  1.8737e+00,\n",
       "        -2.0764e+00, -1.3318e+00,  5.6667e-01,  2.6828e+00, -1.6928e-01,\n",
       "         3.2439e+00,  8.2843e-01,  2.0792e+00,  2.4350e+00, -1.8335e+00,\n",
       "        -3.7224e-02,  9.5170e-01,  1.4131e+00, -4.3399e-01, -7.4522e-01,\n",
       "         1.3608e+00,  3.1842e+00,  3.6028e+00,  4.7129e+00,  1.5149e+00,\n",
       "         1.7746e+00,  3.9103e+00,  4.7177e+00,  2.6579e+00,  4.6188e-01,\n",
       "         1.8437e+00, -5.8858e-01, -1.4322e+00, -1.1241e+00, -1.6890e+00,\n",
       "        -1.2915e+00, -2.4358e+00, -1.5674e+00,  1.1638e+00,  1.0756e-01,\n",
       "        -1.8370e+00,  1.8022e-01, -4.7894e-01, -5.0697e-01,  1.9488e+00,\n",
       "         1.5259e+00,  9.4422e-01,  5.1081e-01,  1.2274e+00,  3.9579e+00,\n",
       "        -1.6944e+00, -1.4626e+00,  5.8320e-01,  3.7914e+00,  1.7057e+00,\n",
       "        -4.4872e+00, -6.3341e-01,  2.1143e-01,  4.6681e+00,  1.6314e-01,\n",
       "         1.0884e+00,  1.7515e+00, -7.9482e-01, -1.8635e+00,  4.5707e-01,\n",
       "         2.7115e+00, -5.0299e-01,  3.4294e-01, -1.7666e+00,  7.1568e-01,\n",
       "         5.3731e-01, -7.4249e-01, -6.3200e-01,  2.7250e+00,  1.6357e+00,\n",
       "         1.1801e+00,  1.9304e+00,  2.5680e+00, -3.8181e-01,  1.8804e+00,\n",
       "        -5.5499e-01,  8.9007e-01,  1.4100e+00, -1.3586e+00, -9.9399e-01,\n",
       "         5.8658e-02,  9.9792e-01,  5.1615e-01, -1.4917e+00, -3.2774e+00,\n",
       "         1.5189e+00,  1.9929e+00,  2.9803e+00,  1.5822e+00, -5.4682e-01,\n",
       "        -1.3811e+00, -2.2740e+00, -6.3082e-01, -8.6503e-01, -1.6579e+00,\n",
       "         1.7111e+00, -4.8348e+00, -4.5753e+00, -3.8756e+00, -3.4972e+00,\n",
       "        -2.4435e+00,  3.2647e-01, -1.1198e+00,  1.1371e-01,  9.3877e-01,\n",
       "        -6.5541e-01, -1.4239e+00, -1.3867e+00, -2.2987e+00, -1.6778e+00,\n",
       "        -1.6780e+00, -4.4995e+00, -8.2394e-01, -8.9872e-01, -1.0571e+00,\n",
       "        -5.7125e-01, -1.5880e+00, -1.1942e+00, -5.7239e+00, -3.3293e-01,\n",
       "        -2.9257e+00,  3.1361e+00,  1.9252e-01,  3.3242e+00,  1.1245e+00,\n",
       "        -1.6615e+00,  2.7016e+00,  2.6693e+00,  5.6190e+00,  7.9021e+00,\n",
       "         7.0209e+00, -9.5370e-01, -1.7291e+00, -1.2822e+00, -9.1011e-01,\n",
       "        -2.7484e-01, -2.0011e+00, -8.5685e-01,  8.0747e-01, -9.2920e-01,\n",
       "        -1.1286e+00,  1.6108e+00,  7.8206e-01,  4.9632e+00, -1.0611e+00,\n",
       "         3.8885e+00, -2.1485e+00, -1.1731e+00, -2.1926e+00, -5.4677e+00,\n",
       "        -7.9440e-01, -1.5147e-01, -7.3782e-01,  2.4532e+00, -3.2764e+00,\n",
       "         1.4553e-01, -3.4830e+00, -2.4354e+00, -5.8785e-01,  9.3235e-01,\n",
       "         6.7336e-01, -1.5761e+00, -2.5983e+00, -5.9721e+00, -5.4827e+00,\n",
       "        -1.3651e+00, -2.9562e+00,  2.4349e+00,  6.9233e-01, -1.4185e+00,\n",
       "        -3.0878e+00, -8.4357e+00, -3.3556e+00, -2.6083e+00, -1.9258e+00,\n",
       "         5.9766e+00, -2.0117e+00, -1.0977e+00, -1.7824e+00, -2.2558e+00,\n",
       "        -2.7872e+00, -1.4403e+00, -4.1231e+00, -7.8312e+00, -3.4718e+00,\n",
       "        -9.6685e-01,  5.4650e+00,  5.5173e-02, -5.1340e-02,  3.3825e-01,\n",
       "         4.8161e-01,  7.9970e-01, -4.1497e-01,  3.1546e+00, -3.0471e-01,\n",
       "        -4.6803e+00, -3.8827e+00, -1.8951e+00,  7.9519e-01, -2.2837e+00,\n",
       "         5.5707e-01, -1.1813e+00,  1.6085e+00,  1.9278e+00, -6.0672e-01,\n",
       "        -2.2684e+00, -3.9068e+00, -2.6599e+00, -3.1240e+00, -8.6959e+00,\n",
       "        -7.2851e+00, -7.3126e+00, -3.0945e+00, -1.6604e+00, -9.4984e+00,\n",
       "        -8.7822e+00, -1.2716e+00, -5.6262e+00,  6.5652e+00,  3.8155e+00,\n",
       "         5.7883e+00,  8.4001e-01, -5.8723e-01, -4.9854e-01, -4.3440e+00,\n",
       "        -2.2295e-01,  5.1026e+00,  1.7574e+00, -2.4261e+00,  4.0911e+00,\n",
       "         3.4589e+00,  2.8066e+00,  4.0475e+00, -2.7688e+00,  3.5025e+00,\n",
       "         3.1931e+00,  7.1934e-01, -2.1881e+00, -1.6375e+00, -8.7635e-02,\n",
       "        -9.3934e-01,  6.0567e+00, -4.1005e+00, -1.0973e+00,  1.5694e+00,\n",
       "         4.0229e+00,  2.5996e+00,  1.7891e+00,  2.3681e+00, -5.3516e+00,\n",
       "         1.1059e+00, -4.1036e+00, -3.4125e-01, -1.7244e+00,  7.3401e+00,\n",
       "        -5.7652e-01, -1.9771e+00,  6.1997e+00,  6.6410e-01,  3.3465e+00,\n",
       "         2.1238e+00,  2.2830e+00,  5.9474e+00,  3.5632e-03,  2.7876e+00,\n",
       "         3.2248e+00,  3.6699e+00, -1.0188e-01,  5.6703e+00, -2.2153e-01,\n",
       "        -2.7387e+00, -3.8176e+00, -6.1599e-01,  2.1898e+00,  3.9437e+00,\n",
       "        -2.3013e+00, -1.8741e+00,  3.4336e+00,  5.3221e+00, -2.1851e-01,\n",
       "         8.8306e-01,  1.4498e-01,  4.1378e+00,  2.4133e+00, -7.8039e-01,\n",
       "         6.2179e-01, -3.8956e+00,  9.1461e-01,  7.4319e+00,  1.1596e-01,\n",
       "         1.0114e+01,  3.5301e-01, -3.3288e-02, -1.2768e+00, -8.3128e-01,\n",
       "         8.5377e-01,  3.9265e+00,  2.1271e+00,  4.0038e+00, -2.6066e+00,\n",
       "         3.2306e+00,  1.4851e+00,  3.2735e-01,  5.6725e+00, -3.8784e+00,\n",
       "        -3.0093e+00,  6.9672e-01, -1.0152e+00,  2.4929e+00,  7.3491e+00,\n",
       "         1.3879e+00, -7.2413e-01,  7.2722e-01,  1.0433e+00,  6.2829e+00,\n",
       "         6.2536e-01,  7.4109e-01,  6.5569e+00,  3.8183e+00,  4.0041e-01,\n",
       "        -4.8127e-01,  3.7929e+00, -2.7647e+00, -1.4274e+00, -5.1905e-01,\n",
       "         2.5632e+00,  4.2666e+00,  1.0420e+00, -1.2069e+00,  4.2562e+00,\n",
       "        -3.0223e-01, -3.5834e+00,  1.6779e+00,  7.3610e-01, -1.1294e+00,\n",
       "         2.8757e+00, -2.8176e+00,  6.0508e+00, -2.7476e+00,  3.4983e-01,\n",
       "         2.7428e+00, -3.1736e+00,  1.3948e+00, -1.4051e+00,  1.5299e+00,\n",
       "        -2.4582e-01,  1.4438e+00, -9.2077e-01,  6.5411e-01, -3.0963e+00,\n",
       "         4.5514e+00,  8.1717e-02,  4.1132e+00,  1.5929e+00,  1.6659e+00,\n",
       "        -5.1960e+00, -2.2676e+00,  1.9703e+00, -1.2236e-01,  1.5519e+00,\n",
       "         4.2242e-01, -1.9785e+00, -4.9864e-01,  1.5746e+00, -2.3188e+00,\n",
       "        -1.9330e+00, -6.2289e-01,  4.1936e+00, -3.3164e-01,  5.6898e+00,\n",
       "        -1.2352e+00, -2.4364e+00,  4.7737e+00,  2.5529e+00, -1.6212e+00,\n",
       "         2.1464e+00,  5.0405e+00,  3.2203e+00,  2.5471e+00,  1.6445e+00,\n",
       "        -1.2388e-01,  2.5778e+00,  8.4504e+00, -4.3723e-01,  4.5923e-01,\n",
       "         3.9410e+00, -1.8775e+00, -2.8260e+00,  5.5205e+00,  2.3244e+00,\n",
       "        -3.6023e-01,  4.4007e+00,  2.7832e+00, -7.8167e-01, -2.7025e+00,\n",
       "        -3.0868e-01,  3.7762e+00, -1.0195e+00,  6.9699e+00,  5.5875e-01,\n",
       "         1.4636e+00, -6.4420e-01, -5.9819e-01, -2.7329e-02, -5.4072e-03,\n",
       "         2.8540e+00, -3.0349e+00,  1.9785e+00,  2.1018e+00,  1.6693e+00,\n",
       "        -3.8466e+00,  2.7274e+00, -2.1405e+00, -1.4244e+00,  3.9596e+00,\n",
       "         2.1697e+00, -2.2742e-01, -2.5574e+00, -2.8650e-01,  8.0566e+00,\n",
       "         5.7736e+00, -1.7332e+00,  8.4188e-01,  3.1026e+00,  1.6358e+00,\n",
       "        -1.2177e+00, -2.1938e+00, -2.0694e-01,  1.7661e+00, -8.9908e-01,\n",
       "         2.3631e+00,  4.1986e+00,  7.0230e-01, -1.8613e+00,  3.4342e+00,\n",
       "        -2.9641e+00,  2.7626e+00,  3.0779e+00, -1.1188e+00,  6.3214e+00,\n",
       "        -1.5289e+00, -1.5495e-01, -1.6374e-01, -9.0058e-02,  5.0730e+00,\n",
       "        -8.5471e-01,  2.9237e+00, -1.9890e+00, -1.5639e+00,  1.3914e+00,\n",
       "        -4.2211e+00,  6.4379e-01,  2.6168e+00, -2.9343e+00, -1.1794e+00,\n",
       "        -9.9713e-01,  8.0240e-01,  6.3347e+00,  4.8838e-01, -2.7264e-02,\n",
       "        -1.1042e+00, -2.8473e+00,  9.0720e-01, -9.9780e-01,  3.6318e+00,\n",
       "         2.5316e+00,  3.2364e+00, -1.6895e+00,  5.2848e+00,  2.5721e+00,\n",
       "         1.0819e+00, -6.2068e-01,  1.0117e+00,  2.6863e+00, -3.6253e-01,\n",
       "         2.3547e+00, -1.3000e+00,  1.2339e+00,  2.7849e-01, -2.6381e+00,\n",
       "         2.0838e+00, -9.7338e-01, -2.9573e+00,  7.3139e+00,  4.3717e+00,\n",
       "        -5.4489e-01, -3.4162e+00,  4.8311e+00,  2.9897e+00,  3.9280e-01,\n",
       "         2.8565e+00, -1.2201e+00, -3.4111e+00, -2.9674e+00,  2.2805e+00,\n",
       "        -6.0844e-01,  6.3969e-01,  1.7953e+00, -4.4792e+00,  1.1707e+00,\n",
       "        -1.6350e+00, -2.6089e+00,  1.0980e+01,  1.5158e+00, -3.6168e+00,\n",
       "        -2.3215e+00, -1.4932e+00,  2.5527e+00, -1.8093e+00, -9.3109e-01,\n",
       "        -2.6146e+00, -3.2538e+00,  2.4030e+00,  1.9456e+00,  2.5249e+00,\n",
       "         3.3635e+00,  8.7685e-01,  2.4996e+00,  7.6555e+00,  3.3281e+00,\n",
       "         2.3414e+00, -1.8090e+00,  1.4193e+00,  3.9401e+00,  9.3352e+00,\n",
       "         4.3092e+00,  2.7171e+00,  5.6325e+00,  6.3173e+00, -1.0750e+00,\n",
       "         2.3306e+00,  5.1821e+00, -2.9513e+00, -2.5436e+00, -5.9474e+00,\n",
       "         1.8580e+00,  1.5647e+01, -4.2702e+00,  1.3261e+00, -2.3164e+00,\n",
       "         1.3088e+00,  2.4329e+00, -2.1946e+00,  3.9504e+00, -5.3012e+00,\n",
       "         4.0618e-01, -1.2921e+00, -2.4726e+00,  9.7259e-03, -6.1955e-02,\n",
       "         4.6949e+00,  3.6022e+00,  1.0214e+00,  4.6704e+00,  1.1145e+00,\n",
       "         3.9531e-01, -1.3108e+00, -1.5911e+00,  1.2315e+00, -2.8397e-01,\n",
       "         3.2123e+00,  2.1682e+00, -2.3322e+00,  7.6391e+00,  8.3067e-02,\n",
       "        -4.2764e+00, -5.4190e-02,  4.0462e+00, -3.2915e-01,  3.4289e+00,\n",
       "        -3.1295e-02, -1.6198e+00, -5.2305e+00,  2.6342e+00,  1.0226e+00,\n",
       "        -8.0434e-01,  1.4999e+00,  1.8454e+00, -5.6699e+00, -9.0458e-01,\n",
       "        -1.2437e+00, -2.4426e+00,  6.0574e+00, -2.7988e+00, -8.3481e-02,\n",
       "         2.2393e+00, -2.9221e+00,  1.8838e+00, -2.6165e+00,  3.1244e+00,\n",
       "        -4.9323e+00,  3.6447e+00,  3.6556e+00,  5.6942e-01,  6.9290e-02,\n",
       "         3.5907e+00,  1.0155e+00, -8.6386e-01,  7.3234e-01,  1.0594e+01,\n",
       "        -5.0964e+00,  2.2748e+00,  2.4180e+00,  7.9642e-01,  3.5499e+00,\n",
       "         1.0555e+00, -3.8720e-01,  1.6560e+00,  2.1669e+00,  4.1215e+00,\n",
       "        -6.4493e-01,  4.0807e+00,  3.7643e+00, -9.9906e-01,  6.1087e+00,\n",
       "         3.5645e+00, -1.6947e+00,  8.7756e-01,  3.9303e+00,  4.8899e+00,\n",
       "         9.8260e-01, -6.0831e+00,  2.5788e+00,  7.0537e+00,  1.1706e+00,\n",
       "        -1.8144e+00, -8.8148e-01, -1.7996e+00,  8.5187e-01, -3.4151e+00,\n",
       "        -4.6296e+00,  1.8212e+00, -1.4709e+00,  3.4801e-01, -3.2285e+00,\n",
       "         1.3618e-01, -4.4063e+00, -7.0584e-01,  3.4319e+00,  1.8248e+00,\n",
       "         1.8325e+00, -1.4106e+00,  5.8933e-01, -2.2887e+00,  5.9792e+00,\n",
       "         2.9364e+00,  1.5942e+00,  2.3159e-01, -1.6266e+00,  4.4065e+00,\n",
       "         9.8262e-01,  8.0024e-01,  2.8817e+00, -3.3646e+00,  2.1128e+00,\n",
       "         2.8783e+00,  2.3664e+00,  4.1331e+00,  1.4666e+00, -2.4092e+00,\n",
       "         6.0443e+00,  1.6074e+00, -6.7053e-01,  1.9416e+00,  4.5855e+00,\n",
       "        -2.4116e+00,  4.7966e+00, -1.2574e+00,  2.5410e+00, -4.0813e-01,\n",
       "         7.2310e-01,  3.1687e+00, -6.0194e-01,  2.7703e+00,  1.0698e+00,\n",
       "        -2.0739e+00,  9.8231e-01,  5.4827e+00,  6.8007e-01, -1.0399e+00,\n",
       "         6.3527e-01, -1.0529e+00,  2.5213e+00,  3.2818e-01, -1.7302e+00,\n",
       "         1.0054e+00,  3.5497e+00, -2.3483e+00,  8.4460e-01,  2.9783e+00,\n",
       "         3.6109e+00, -9.0524e+00,  3.1400e+00,  4.5587e+00,  1.9114e+00,\n",
       "        -1.3838e+00,  1.8634e+00,  1.0439e+00, -3.1900e+00,  3.1741e+00,\n",
       "         2.2280e+00,  2.7742e+00, -1.2197e+00,  2.3801e+00,  2.0567e+00,\n",
       "         1.8577e-01,  2.4675e+00,  3.9661e+00,  3.6052e+00,  5.7241e-01,\n",
       "         2.9438e+00, -2.7145e+00,  4.8737e+00, -1.1651e+00,  1.0886e+00,\n",
       "        -1.7792e+00,  3.9726e+00, -1.4155e+00,  1.4731e+00, -1.0179e+00,\n",
       "         8.6144e-01, -2.8047e+00,  2.1942e+00,  1.9723e+00,  7.1438e+00,\n",
       "         9.0394e+00,  8.1710e-02,  5.1573e+00, -4.7203e+00, -8.2475e-01,\n",
       "        -1.5197e+00, -6.6342e-01,  7.5859e+00, -4.3657e+00, -3.6396e+00,\n",
       "        -2.9040e+00,  5.6891e+00,  8.6183e-01, -7.1488e-01,  6.6204e+00,\n",
       "         6.4568e+00,  6.6300e+00,  4.2063e+00, -5.4957e-01, -1.3896e+00,\n",
       "        -4.7414e+00, -5.4913e+00, -2.0083e+00,  1.1585e+00,  7.8752e+00,\n",
       "        -2.9015e+00, -3.6722e+00, -1.3352e+00, -1.0142e+00, -6.6279e-02,\n",
       "         4.7101e-01, -1.1043e+00, -2.0897e+00, -2.1348e+00, -3.7034e-01,\n",
       "         2.8674e+00,  1.3835e+00,  2.0201e+00,  3.3149e-01,  2.0588e+00,\n",
       "        -5.3324e-01,  1.0669e+00, -9.3077e-01, -1.1919e+00, -2.1208e+00,\n",
       "         3.8409e+00,  4.1429e+00, -3.1276e+00,  5.5175e+00,  3.5198e+00,\n",
       "         2.6802e-01, -4.7145e+00, -4.1017e-01,  3.4876e+00, -6.5021e-01,\n",
       "         1.2997e+00,  8.3929e-01, -1.6808e+00, -5.4707e+00, -5.6283e+00,\n",
       "         9.0839e-01,  1.1367e+00, -5.5911e+00, -2.5214e-01,  2.6598e-01,\n",
       "         1.0550e+00,  3.2481e+00,  2.5157e+00, -3.6911e-01,  1.1467e+00,\n",
       "         1.1604e+00, -3.5433e+00, -2.9148e+00,  1.7095e+00, -1.2779e+00,\n",
       "        -2.6710e+00, -3.5407e+00,  4.3546e+00, -2.6152e+00,  1.2928e+01,\n",
       "         5.1399e+00,  1.1929e+00,  7.0320e+00, -2.9075e+00,  6.2807e-01,\n",
       "        -1.4669e+00,  7.7111e+00, -4.2341e-01, -5.3855e-02,  1.0458e+00,\n",
       "        -1.4223e+00,  8.1940e-01, -1.6247e+00,  7.0730e+00, -9.4247e-01])"
      ]
     },
     "execution_count": 16,
     "metadata": {},
     "output_type": "execute_result"
    }
   ],
   "source": [
    "train_images_18.shape, test_images_18.shape\n",
    "train_images_18[0]"
   ]
  },
  {
   "cell_type": "code",
   "execution_count": 7,
   "metadata": {},
   "outputs": [
    {
     "data": {
      "text/plain": [
       "tensor([[inf, 0., 0., 0., 0.],\n",
       "        [0., inf, 0., 0., 0.],\n",
       "        [0., 0., inf, 0., 0.],\n",
       "        [0., 0., 0., inf, 0.],\n",
       "        [0., 0., 0., 0., inf]])"
      ]
     },
     "execution_count": 7,
     "metadata": {},
     "output_type": "execute_result"
    }
   ],
   "source": [
    "import torch\n",
    "torch.diag(torch.full((5,), float('inf')))"
   ]
  },
  {
   "cell_type": "code",
   "execution_count": 12,
   "metadata": {},
   "outputs": [
    {
     "data": {
      "text/plain": [
       "tensor([[4.6000, 2.8000, 5.2000, 4.6000, 2.2000]], dtype=torch.float64)"
      ]
     },
     "execution_count": 12,
     "metadata": {},
     "output_type": "execute_result"
    }
   ],
   "source": [
    "y = torch.randint(10, (5,5)).to(float)\n",
    "y = torch.mean(y, dim=0, keepdim=True)\n",
    "y"
   ]
  },
  {
   "cell_type": "code",
   "execution_count": 15,
   "metadata": {},
   "outputs": [
    {
     "name": "stdout",
     "output_type": "stream",
     "text": [
      "tensor([[1., 2., 0.]])\n",
      "tensor([[1., 2., 1.]])\n",
      "tensor([[0.0000, 0.0000, 0.0000],\n",
      "        [0.0000, 0.5000, 0.0000],\n",
      "        [1.0000, 0.5000, 0.0000]])\n"
     ]
    }
   ],
   "source": [
    "import torch\n",
    "\n",
    "# Example tensor\n",
    "tensor = torch.tensor([[0, 0, 0], \n",
    "                       [0, 1, 0], \n",
    "                       [1, 1, 0]], dtype=torch.float32)\n",
    "\n",
    "# Compute the sum of each column\n",
    "col_sums = tensor.sum(dim=0, keepdim=True)  # Shape (1, num_cols)\n",
    "print(col_sums)\n",
    "# Avoid division by zero (replace zeros with 1)\n",
    "col_sums = col_sums.clamp(min=1)\n",
    "print(col_sums)\n",
    "# Normalize each column\n",
    "normalized_tensor = tensor / col_sums\n",
    "\n",
    "print(normalized_tensor)\n"
   ]
  },
  {
   "cell_type": "code",
   "execution_count": 1,
   "metadata": {},
   "outputs": [
    {
     "data": {
      "text/plain": [
       "(array([1., 2., 3., 4., 5., 7.]), array([1533,  703, 1358,  626,  707, 1508]))"
      ]
     },
     "execution_count": 1,
     "metadata": {},
     "output_type": "execute_result"
    }
   ],
   "source": [
    "from pmlb import fetch_data\n",
    "import numpy as np\n",
    "# Returns a pandas DataFrame\n",
    "data = fetch_data('294_satellite_image', return_X_y=True, local_cache_dir='./sat')\n",
    "np.unique(data[1], return_counts=True)"
   ]
  },
  {
   "cell_type": "code",
   "execution_count": 2,
   "metadata": {},
   "outputs": [
    {
     "name": "stdout",
     "output_type": "stream",
     "text": [
      "['1027_ESL', '1028_SWD', '1029_LEV', '1030_ERA', '1089_USCrime', '1096_FacultySalaries', '1191_BNG_pbc', '1193_BNG_lowbwt', '1196_BNG_pharynx', '1199_BNG_echoMonths', '1201_BNG_breastTumor', '1203_BNG_pwLinear', '1595_poker', '192_vineyard', '195_auto_price', '197_cpu_act', '201_pol', '207_autoPrice', '210_cloud', '215_2dplanes', '218_house_8L', '225_puma8NH', '227_cpu_small', '228_elusage', '229_pwLinear', '230_machine_cpu', '294_satellite_image', '344_mv', '4544_GeographicalOriginalofMusic', '485_analcatdata_vehicle', '503_wind', '505_tecator', '519_vinnie', '522_pm10', '523_analcatdata_neavote', '527_analcatdata_election2000', '529_pollen', '537_houses', '542_pollution', '547_no2', '556_analcatdata_apnea2', '557_analcatdata_apnea1', '560_bodyfat', '561_cpu', '562_cpu_small', '564_fried', '573_cpu_act', '574_house_16H', '579_fri_c0_250_5', '581_fri_c3_500_25', '582_fri_c1_500_25', '583_fri_c1_1000_50', '584_fri_c4_500_25', '586_fri_c3_1000_25', '588_fri_c4_1000_100', '589_fri_c2_1000_25', '590_fri_c0_1000_50', '591_fri_c1_100_10', '592_fri_c4_1000_25', '593_fri_c1_1000_10', '594_fri_c2_100_5', '595_fri_c0_1000_10', '596_fri_c2_250_5', '597_fri_c2_500_5', '598_fri_c0_1000_25', '599_fri_c2_1000_5', '601_fri_c1_250_5', '602_fri_c3_250_10', '603_fri_c0_250_50', '604_fri_c4_500_10', '605_fri_c2_250_25', '606_fri_c2_1000_10', '607_fri_c4_1000_50', '608_fri_c3_1000_10', '609_fri_c0_1000_5', '611_fri_c3_100_5', '612_fri_c1_1000_5', '613_fri_c3_250_5', '615_fri_c4_250_10', '616_fri_c4_500_50', '617_fri_c3_500_5', '618_fri_c3_1000_50', '620_fri_c1_1000_25', '621_fri_c0_100_10', '622_fri_c2_1000_50', '623_fri_c4_1000_10', '624_fri_c0_100_5', '626_fri_c2_500_50', '627_fri_c2_500_10', '628_fri_c3_1000_5', '631_fri_c1_500_5', '633_fri_c0_500_25', '634_fri_c2_100_10', '635_fri_c0_250_10', '637_fri_c1_500_50', '641_fri_c1_500_10', '643_fri_c2_500_25', '644_fri_c4_250_25', '645_fri_c3_500_50', '646_fri_c3_500_10', '647_fri_c1_250_10', '648_fri_c1_250_50', '649_fri_c0_500_5', '650_fri_c0_500_50', '651_fri_c0_100_25', '653_fri_c0_250_25', '654_fri_c0_500_10', '656_fri_c1_100_5', '657_fri_c2_250_10', '658_fri_c3_250_25', '659_sleuth_ex1714', '663_rabe_266', '665_sleuth_case2002', '666_rmftsa_ladata', '678_visualizing_environmental', '687_sleuth_ex1605', '690_visualizing_galaxy', '695_chatfield_4', '706_sleuth_case1202', '712_chscase_geyser1', 'banana', 'titanic']\n"
     ]
    }
   ],
   "source": [
    "from pmlb import regression_dataset_names\n",
    "print(regression_dataset_names)"
   ]
  },
  {
   "cell_type": "code",
   "execution_count": 3,
   "metadata": {},
   "outputs": [],
   "source": [
    "from sklearn.model_selection import train_test_split\n",
    "\n",
    "X_train, X_test, y_train, y_test = train_test_split(data[0],data[1], test_size=0.25, random_state=42, stratify=data[1])"
   ]
  },
  {
   "cell_type": "code",
   "execution_count": 4,
   "metadata": {},
   "outputs": [],
   "source": [
    "from sklearn.preprocessing import StandardScaler\n",
    "train_scaler = StandardScaler()\n",
    "X_train = train_scaler.fit_transform(X_train)\n",
    "test_scaler = StandardScaler()\n",
    "X_test = test_scaler.fit_transform(X_test)"
   ]
  },
  {
   "cell_type": "code",
   "execution_count": 5,
   "metadata": {},
   "outputs": [],
   "source": [
    "y_train = (y_train - np.min(y_train)) / (np.max(y_train) - np.min(y_train))\n",
    "y_test = (y_test - np.min(y_test)) / (np.max(y_test) - np.min(y_test))"
   ]
  },
  {
   "cell_type": "code",
   "execution_count": 38,
   "metadata": {},
   "outputs": [],
   "source": [
    "# import torch\n",
    "# with open(\"sat/X.pt\", \"wb\") as file:\n",
    "#     torch.save(torch.tensor(data[0]), file)\n",
    "# with open(\"sat/y.pt\", \"wb\") as file:\n",
    "#     torch.save(torch.tensor(data[1]-1).unsqueeze(-1), file)\n"
   ]
  },
  {
   "cell_type": "code",
   "execution_count": 4,
   "metadata": {},
   "outputs": [
    {
     "data": {
      "text/plain": [
       "tensor([0., 1., 2., 3., 4., 6.], dtype=torch.float64)"
      ]
     },
     "execution_count": 4,
     "metadata": {},
     "output_type": "execute_result"
    }
   ],
   "source": [
    "import torch\n",
    "with open(\"sat/y.pt\", \"rb\") as file:\n",
    "    y = torch.load(file)\n",
    "torch.unique(y)"
   ]
  },
  {
   "cell_type": "code",
   "execution_count": 6,
   "metadata": {},
   "outputs": [],
   "source": [
    "from sklearn.metrics import mean_squared_error, make_scorer\n",
    "from sklearn.neighbors import KNeighborsRegressor\n",
    "from sklearn.model_selection import GridSearchCV\n",
    "import time"
   ]
  },
  {
   "cell_type": "code",
   "execution_count": 9,
   "metadata": {},
   "outputs": [],
   "source": [
    "def tune_knn(X_train, X_test, y_train, y_test):\n",
    "    \n",
    "    scorer = make_scorer(mean_squared_error) \n",
    "    \n",
    "    knn = KNeighborsRegressor()\n",
    "\n",
    "    param_grid = {\n",
    "        'n_neighbors': [3, 5, 7, 9, 11],\n",
    "        'weights': ['uniform', 'distance'],\n",
    "        'metric': ['euclidean', 'manhattan', 'minkowski'],\n",
    "        'p': [1, 2]\n",
    "    }\n",
    "\n",
    "    grid_search = GridSearchCV(\n",
    "        estimator=knn,\n",
    "        param_grid=param_grid,\n",
    "        scoring=scorer,\n",
    "        cv=4,\n",
    "        verbose=1,\n",
    "        n_jobs=-1\n",
    "    )\n",
    "\n",
    "    start = time.time()\n",
    "    grid_search.fit(X_train, y_train)\n",
    "\n",
    "    best_knn = grid_search.best_estimator_\n",
    "\n",
    "    y_hat_knn = best_knn.predict(X_test)\n",
    "    end = time.time()\n",
    "    return y_hat_knn\n",
    "    # return [mean_squared_error(y_hat_knn, y_test), end-start]"
   ]
  },
  {
   "cell_type": "code",
   "execution_count": 10,
   "metadata": {},
   "outputs": [
    {
     "name": "stdout",
     "output_type": "stream",
     "text": [
      "Fitting 4 folds for each of 60 candidates, totalling 240 fits\n"
     ]
    },
    {
     "data": {
      "text/plain": [
       "array([0.43939394, 0.        , 0.        , ..., 0.83333333, 0.        ,\n",
       "       0.33333333])"
      ]
     },
     "execution_count": 10,
     "metadata": {},
     "output_type": "execute_result"
    }
   ],
   "source": [
    "tune_knn(X_train, X_test, y_train, y_test)"
   ]
  },
  {
   "cell_type": "code",
   "execution_count": 17,
   "metadata": {},
   "outputs": [
    {
     "name": "stdout",
     "output_type": "stream",
     "text": [
      "Fitting 4 folds for each of 5 candidates, totalling 20 fits\n"
     ]
    }
   ],
   "source": [
    "from sklearn.linear_model import Ridge\n",
    "from sklearn.model_selection import GridSearchCV\n",
    "from sklearn.metrics import mean_squared_error, make_scorer\n",
    "import time\n",
    "\n",
    "def tune_linear_regression(X_train, X_test, y_train, y_test):\n",
    "    \n",
    "    scorer = make_scorer(mean_squared_error) \n",
    "    \n",
    "    lr = Ridge()  # Using Ridge regression to allow tuning of regularization parameter\n",
    "\n",
    "    param_grid = {\n",
    "        'alpha': [0.01, 0.1, 1, 10, 100],  # Regularization strength\n",
    "    }\n",
    "\n",
    "    grid_search = GridSearchCV(\n",
    "        estimator=lr,\n",
    "        param_grid=param_grid,\n",
    "        scoring=scorer,\n",
    "        cv=4,\n",
    "        verbose=1,\n",
    "        n_jobs=-1\n",
    "    )\n",
    "\n",
    "    start = time.time()\n",
    "    grid_search.fit(X_train, y_train)\n",
    "\n",
    "    best_lr = grid_search.best_estimator_\n",
    "\n",
    "    y_hat_lr = best_lr.predict(X_test)\n",
    "    end = time.time()\n",
    "    return y_hat_lr\n",
    "    # return [mean_squared_error(y_hat_lr, y_test), end-start]\n",
    "\n",
    "y_hat_lr = tune_linear_regression(X_train, X_test, y_train, y_test)"
   ]
  },
  {
   "cell_type": "code",
   "execution_count": 17,
   "metadata": {},
   "outputs": [],
   "source": [
    "from models import NONA\n",
    "model = NONA(similarity='euclidean')"
   ]
  },
  {
   "cell_type": "code",
   "execution_count": 18,
   "metadata": {},
   "outputs": [
    {
     "data": {
      "text/plain": [
       "0.028535828751698432"
      ]
     },
     "execution_count": 18,
     "metadata": {},
     "output_type": "execute_result"
    }
   ],
   "source": [
    "import torch\n",
    "y_hat = model(torch.tensor(X_test), torch.tensor(X_train), torch.tensor(y_train))\n",
    "mean_squared_error(y_hat, y_test)"
   ]
  },
  {
   "cell_type": "code",
   "execution_count": 19,
   "metadata": {},
   "outputs": [
    {
     "data": {
      "text/plain": [
       "0.01288861266487121"
      ]
     },
     "execution_count": 19,
     "metadata": {},
     "output_type": "execute_result"
    }
   ],
   "source": [
    "knn = KNeighborsRegressor()\n",
    "knn.fit(X_train, y_train)\n",
    "y_hat = knn.predict(X_test)\n",
    "mean_squared_error(y_hat, y_test)"
   ]
  },
  {
   "cell_type": "code",
   "execution_count": 21,
   "metadata": {},
   "outputs": [
    {
     "name": "stdout",
     "output_type": "stream",
     "text": [
      "Fitting 4 folds for each of 108 candidates, totalling 432 fits\n"
     ]
    }
   ],
   "source": [
    "from sklearn.ensemble import RandomForestRegressor\n",
    "from sklearn.model_selection import GridSearchCV\n",
    "from sklearn.metrics import mean_squared_error, make_scorer\n",
    "import time\n",
    "\n",
    "def tune_random_forest(X_train, X_test, y_train, y_test):\n",
    "    \n",
    "    scorer = make_scorer(mean_squared_error) \n",
    "    \n",
    "    rf = RandomForestRegressor(random_state=42)\n",
    "\n",
    "    param_grid = {\n",
    "        'n_estimators': [50, 100, 200],  # Number of trees\n",
    "        'max_depth': [None, 10, 20, 30],  # Maximum depth of trees\n",
    "        'min_samples_split': [2, 5, 10],  # Minimum samples to split a node\n",
    "        'min_samples_leaf': [1, 2, 4]  # Minimum samples per leaf\n",
    "    }\n",
    "\n",
    "    grid_search = GridSearchCV(\n",
    "        estimator=rf,\n",
    "        param_grid=param_grid,\n",
    "        scoring=scorer,\n",
    "        cv=4,\n",
    "        verbose=1,\n",
    "        n_jobs=-1\n",
    "    )\n",
    "\n",
    "    start = time.time()\n",
    "    grid_search.fit(X_train, y_train)\n",
    "\n",
    "    best_rf = grid_search.best_estimator_\n",
    "\n",
    "    y_hat_rf = best_rf.predict(X_test)\n",
    "    end = time.time()\n",
    "\n",
    "    return [mean_squared_error(y_hat_rf, y_test), end-start]\n",
    "tune_random_forest(X_train, X_test, y_train, y_test)"
   ]
  },
  {
   "cell_type": "code",
   "execution_count": 23,
   "metadata": {},
   "outputs": [
    {
     "data": {
      "text/plain": [
       "0.2788495421409607"
      ]
     },
     "execution_count": 23,
     "metadata": {},
     "output_type": "execute_result"
    }
   ],
   "source": [
    "import torch\n",
    "y = torch.rand((10,))\n",
    "y_hat = torch.rand((10,))\n",
    "from torcheval.metrics import MeanSquaredError\n",
    "metric = MeanSquaredError()\n",
    "metric.update(y, y_hat)\n",
    "metric.compute().item()\n"
   ]
  },
  {
   "cell_type": "code",
   "execution_count": 1,
   "metadata": {},
   "outputs": [],
   "source": [
    "from models import NONA_NN\n",
    "\n",
    "model = NONA_NN(task='regression', classifier='dense', similarity='dot', input_size=10, hl_sizes=[4,5,6], mlp=False)"
   ]
  },
  {
   "cell_type": "code",
   "execution_count": 2,
   "metadata": {},
   "outputs": [],
   "source": [
    "import torch\n",
    "x_t = torch.rand(100,10).to(float)\n",
    "x_v = torch.rand(2, 10).to(float)\n",
    "y_t = torch.rand(100).to(float)"
   ]
  },
  {
   "cell_type": "code",
   "execution_count": 3,
   "metadata": {},
   "outputs": [
    {
     "data": {
      "text/plain": [
       "torch.Size([2])"
      ]
     },
     "execution_count": 3,
     "metadata": {},
     "output_type": "execute_result"
    }
   ],
   "source": [
    "model(x_v, x_t, y_t).shape"
   ]
  },
  {
   "cell_type": "code",
   "execution_count": 4,
   "metadata": {},
   "outputs": [
    {
     "name": "stdout",
     "output_type": "stream",
     "text": [
      "Parameter containing:\n",
      "tensor([1., 1., 1., 1., 1., 1., 1., 1., 1., 1.], dtype=torch.float64,\n",
      "       requires_grad=True)\n",
      "Parameter containing:\n",
      "tensor([0., 0., 0., 0., 0., 0., 0., 0., 0., 0.], dtype=torch.float64,\n",
      "       requires_grad=True)\n",
      "Parameter containing:\n",
      "tensor([[-0.2650,  0.0428,  0.2917,  0.0653, -0.2992,  0.1081,  0.1238,  0.0071,\n",
      "          0.0698, -0.1261]], dtype=torch.float64, requires_grad=True)\n",
      "Parameter containing:\n",
      "tensor([0.1495], dtype=torch.float64, requires_grad=True)\n"
     ]
    }
   ],
   "source": [
    "for params in model.parameters():\n",
    "    print(params)"
   ]
  },
  {
   "cell_type": "code",
   "execution_count": 1,
   "metadata": {},
   "outputs": [
    {
     "name": "stderr",
     "output_type": "stream",
     "text": [
      "/sc/arion/projects/pandeg01a/susmaa01/nona/.venv/lib64/python3.9/site-packages/tqdm/auto.py:21: TqdmWarning: IProgress not found. Please update jupyter and ipywidgets. See https://ipywidgets.readthedocs.io/en/stable/user_install.html\n",
      "  from .autonotebook import tqdm as notebook_tqdm\n",
      "Map: 100%|██████████| 71/71 [00:00<00:00, 2649.47 examples/s]"
     ]
    },
    {
     "name": "stdout",
     "output_type": "stream",
     "text": [
      "{'text': \"Oh, Johnny is sneaking cookies out of the cookie jar for his sister's suit.\\n Mother is washing the dishes and the sink is overflowing with the water on the floor.\\n The curtains are spread aside to let the light in.\\n There's plates and saucers on the table here.\\n Shall I tell you some more?\\n Just tell me everything you see going on in the picture and tell me what you think is true.\\n No, I'm fine.\", 'input_ids': [101, 2821, 1010, 5206, 2003, 20727, 16324, 2041, 1997, 1996, 17387, 15723, 2005, 2010, 2905, 1005, 1055, 4848, 1012, 2388, 2003, 12699, 1996, 10447, 1998, 1996, 7752, 2003, 2058, 12314, 2075, 2007, 1996, 2300, 2006, 1996, 2723, 1012, 1996, 14694, 2024, 3659, 4998, 2000, 2292, 1996, 2422, 1999, 1012, 2045, 1005, 1055, 7766, 1998, 12901, 2869, 2006, 1996, 2795, 2182, 1012, 4618, 1045, 2425, 2017, 2070, 2062, 1029, 2074, 2425, 2033, 2673, 2017, 2156, 2183, 2006, 1999, 1996, 3861, 1998, 2425, 2033, 2054, 2017, 2228, 2003, 2995, 1012, 2053, 1010, 1045, 1005, 1049, 2986, 1012, 102, 0, 0, 0, 0, 0, 0, 0, 0, 0, 0, 0, 0, 0, 0, 0, 0, 0, 0, 0, 0, 0, 0, 0, 0, 0, 0, 0, 0, 0, 0, 0, 0, 0, 0, 0, 0, 0, 0, 0, 0, 0, 0, 0, 0, 0, 0, 0, 0, 0, 0, 0, 0, 0, 0, 0, 0, 0, 0, 0, 0, 0, 0, 0, 0, 0, 0, 0, 0, 0, 0, 0, 0, 0, 0, 0, 0, 0, 0, 0, 0, 0, 0, 0, 0, 0, 0, 0, 0, 0, 0, 0, 0, 0, 0, 0, 0, 0, 0, 0, 0, 0, 0, 0, 0, 0, 0, 0, 0, 0, 0, 0, 0, 0, 0, 0, 0, 0, 0, 0, 0, 0, 0, 0, 0, 0, 0, 0, 0, 0, 0, 0, 0, 0, 0, 0, 0, 0, 0, 0, 0, 0, 0, 0, 0, 0, 0, 0, 0, 0, 0, 0, 0, 0, 0, 0, 0, 0, 0, 0, 0, 0, 0, 0, 0, 0, 0, 0, 0, 0, 0, 0, 0, 0, 0, 0, 0, 0, 0, 0, 0, 0, 0, 0, 0, 0, 0, 0, 0, 0, 0, 0, 0, 0, 0, 0, 0, 0, 0, 0, 0, 0, 0, 0, 0, 0, 0, 0, 0, 0, 0, 0, 0, 0, 0, 0, 0, 0, 0, 0, 0, 0, 0, 0, 0, 0, 0, 0, 0, 0, 0, 0, 0, 0, 0, 0, 0, 0, 0, 0, 0, 0, 0, 0, 0, 0, 0, 0, 0, 0, 0, 0, 0, 0, 0, 0, 0, 0, 0, 0, 0, 0, 0, 0, 0, 0, 0, 0, 0, 0, 0, 0, 0, 0, 0, 0, 0, 0, 0, 0, 0, 0, 0, 0, 0, 0, 0, 0, 0, 0, 0, 0, 0, 0, 0, 0, 0, 0, 0, 0, 0, 0, 0, 0, 0, 0, 0, 0, 0, 0, 0, 0, 0, 0, 0, 0, 0, 0, 0, 0, 0, 0, 0, 0, 0, 0, 0, 0, 0, 0, 0, 0, 0, 0, 0, 0, 0, 0, 0, 0, 0, 0, 0, 0, 0, 0, 0, 0, 0, 0, 0, 0, 0, 0, 0, 0, 0, 0, 0, 0, 0, 0, 0, 0, 0, 0, 0, 0, 0, 0, 0, 0, 0, 0, 0, 0, 0, 0, 0, 0, 0, 0, 0, 0, 0, 0, 0, 0, 0, 0, 0, 0, 0, 0, 0, 0, 0, 0, 0, 0, 0, 0, 0, 0, 0, 0, 0, 0, 0, 0, 0, 0, 0, 0, 0, 0, 0], 'attention_mask': [1, 1, 1, 1, 1, 1, 1, 1, 1, 1, 1, 1, 1, 1, 1, 1, 1, 1, 1, 1, 1, 1, 1, 1, 1, 1, 1, 1, 1, 1, 1, 1, 1, 1, 1, 1, 1, 1, 1, 1, 1, 1, 1, 1, 1, 1, 1, 1, 1, 1, 1, 1, 1, 1, 1, 1, 1, 1, 1, 1, 1, 1, 1, 1, 1, 1, 1, 1, 1, 1, 1, 1, 1, 1, 1, 1, 1, 1, 1, 1, 1, 1, 1, 1, 1, 1, 1, 1, 1, 1, 1, 1, 1, 1, 1, 1, 0, 0, 0, 0, 0, 0, 0, 0, 0, 0, 0, 0, 0, 0, 0, 0, 0, 0, 0, 0, 0, 0, 0, 0, 0, 0, 0, 0, 0, 0, 0, 0, 0, 0, 0, 0, 0, 0, 0, 0, 0, 0, 0, 0, 0, 0, 0, 0, 0, 0, 0, 0, 0, 0, 0, 0, 0, 0, 0, 0, 0, 0, 0, 0, 0, 0, 0, 0, 0, 0, 0, 0, 0, 0, 0, 0, 0, 0, 0, 0, 0, 0, 0, 0, 0, 0, 0, 0, 0, 0, 0, 0, 0, 0, 0, 0, 0, 0, 0, 0, 0, 0, 0, 0, 0, 0, 0, 0, 0, 0, 0, 0, 0, 0, 0, 0, 0, 0, 0, 0, 0, 0, 0, 0, 0, 0, 0, 0, 0, 0, 0, 0, 0, 0, 0, 0, 0, 0, 0, 0, 0, 0, 0, 0, 0, 0, 0, 0, 0, 0, 0, 0, 0, 0, 0, 0, 0, 0, 0, 0, 0, 0, 0, 0, 0, 0, 0, 0, 0, 0, 0, 0, 0, 0, 0, 0, 0, 0, 0, 0, 0, 0, 0, 0, 0, 0, 0, 0, 0, 0, 0, 0, 0, 0, 0, 0, 0, 0, 0, 0, 0, 0, 0, 0, 0, 0, 0, 0, 0, 0, 0, 0, 0, 0, 0, 0, 0, 0, 0, 0, 0, 0, 0, 0, 0, 0, 0, 0, 0, 0, 0, 0, 0, 0, 0, 0, 0, 0, 0, 0, 0, 0, 0, 0, 0, 0, 0, 0, 0, 0, 0, 0, 0, 0, 0, 0, 0, 0, 0, 0, 0, 0, 0, 0, 0, 0, 0, 0, 0, 0, 0, 0, 0, 0, 0, 0, 0, 0, 0, 0, 0, 0, 0, 0, 0, 0, 0, 0, 0, 0, 0, 0, 0, 0, 0, 0, 0, 0, 0, 0, 0, 0, 0, 0, 0, 0, 0, 0, 0, 0, 0, 0, 0, 0, 0, 0, 0, 0, 0, 0, 0, 0, 0, 0, 0, 0, 0, 0, 0, 0, 0, 0, 0, 0, 0, 0, 0, 0, 0, 0, 0, 0, 0, 0, 0, 0, 0, 0, 0, 0, 0, 0, 0, 0, 0, 0, 0, 0, 0, 0, 0, 0, 0, 0, 0, 0, 0, 0, 0, 0, 0, 0, 0, 0, 0, 0, 0, 0, 0, 0, 0, 0, 0, 0, 0, 0, 0, 0, 0, 0, 0, 0, 0, 0, 0, 0, 0, 0, 0, 0, 0, 0, 0, 0, 0, 0, 0, 0, 0, 0, 0, 0, 0, 0, 0, 0]}\n"
     ]
    },
    {
     "name": "stderr",
     "output_type": "stream",
     "text": [
      "\n"
     ]
    }
   ],
   "source": [
    "import os\n",
    "import glob\n",
    "from transformers import AutoTokenizer\n",
    "from datasets import Dataset\n",
    "\n",
    "# Define paths\n",
    "TEXT_DIR = \"data/adresso/ADReSSo21_test/transcripts\"  # Change this to your text file directory\n",
    "\n",
    "# Load tokenizer\n",
    "tokenizer = AutoTokenizer.from_pretrained(\"distilbert-base-uncased\")\n",
    "\n",
    "def load_text_files(directory):\n",
    "    \"\"\"Load all text files from a directory and return a list of strings.\"\"\"\n",
    "    text_data = []\n",
    "    file_paths = glob.glob(os.path.join(directory, \"*.txt\"))\n",
    "    \n",
    "    for file_path in file_paths:\n",
    "        with open(file_path, \"r\", encoding=\"utf-8\") as f:\n",
    "            text_data.append(f.read().strip())\n",
    "    \n",
    "    return text_data\n",
    "\n",
    "# Load text data\n",
    "texts = load_text_files(TEXT_DIR)\n",
    "\n",
    "# Tokenization function\n",
    "def tokenize_function(examples):\n",
    "    return tokenizer(examples[\"text\"], padding=\"max_length\", truncation=True, max_length=512)\n",
    "\n",
    "# Create dataset\n",
    "dataset = Dataset.from_dict({\"text\": texts})\n",
    "\n",
    "# Tokenize dataset\n",
    "tokenized_dataset = dataset.map(tokenize_function, batched=True)\n",
    "\n",
    "# Show an example\n",
    "print(tokenized_dataset[0])"
   ]
  },
  {
   "cell_type": "code",
   "execution_count": 1,
   "metadata": {},
   "outputs": [
    {
     "data": {
      "text/html": [
       "<div>\n",
       "<style scoped>\n",
       "    .dataframe tbody tr th:only-of-type {\n",
       "        vertical-align: middle;\n",
       "    }\n",
       "\n",
       "    .dataframe tbody tr th {\n",
       "        vertical-align: top;\n",
       "    }\n",
       "\n",
       "    .dataframe thead th {\n",
       "        text-align: right;\n",
       "    }\n",
       "</style>\n",
       "<table border=\"1\" class=\"dataframe\">\n",
       "  <thead>\n",
       "    <tr style=\"text-align: right;\">\n",
       "      <th></th>\n",
       "      <th>id</th>\n",
       "      <th>mmse</th>\n",
       "      <th>dx</th>\n",
       "      <th>path</th>\n",
       "    </tr>\n",
       "  </thead>\n",
       "  <tbody>\n",
       "    <tr>\n",
       "      <th>0</th>\n",
       "      <td>adrso024</td>\n",
       "      <td>20</td>\n",
       "      <td>1</td>\n",
       "      <td>data/adresso/ADReSSo21_train/transcripts/ad/ad...</td>\n",
       "    </tr>\n",
       "    <tr>\n",
       "      <th>1</th>\n",
       "      <td>adrso025</td>\n",
       "      <td>11</td>\n",
       "      <td>1</td>\n",
       "      <td>data/adresso/ADReSSo21_train/transcripts/ad/ad...</td>\n",
       "    </tr>\n",
       "    <tr>\n",
       "      <th>2</th>\n",
       "      <td>adrso027</td>\n",
       "      <td>18</td>\n",
       "      <td>1</td>\n",
       "      <td>data/adresso/ADReSSo21_train/transcripts/ad/ad...</td>\n",
       "    </tr>\n",
       "    <tr>\n",
       "      <th>3</th>\n",
       "      <td>adrso028</td>\n",
       "      <td>18</td>\n",
       "      <td>1</td>\n",
       "      <td>data/adresso/ADReSSo21_train/transcripts/ad/ad...</td>\n",
       "    </tr>\n",
       "    <tr>\n",
       "      <th>4</th>\n",
       "      <td>adrso031</td>\n",
       "      <td>26</td>\n",
       "      <td>1</td>\n",
       "      <td>data/adresso/ADReSSo21_train/transcripts/ad/ad...</td>\n",
       "    </tr>\n",
       "    <tr>\n",
       "      <th>...</th>\n",
       "      <td>...</td>\n",
       "      <td>...</td>\n",
       "      <td>...</td>\n",
       "      <td>...</td>\n",
       "    </tr>\n",
       "    <tr>\n",
       "      <th>232</th>\n",
       "      <td>adrsdt55</td>\n",
       "      <td>29</td>\n",
       "      <td>0</td>\n",
       "      <td>data/adresso/ADReSSo21_test/transcripts/adrsdt...</td>\n",
       "    </tr>\n",
       "    <tr>\n",
       "      <th>233</th>\n",
       "      <td>adrsdt68</td>\n",
       "      <td>30</td>\n",
       "      <td>0</td>\n",
       "      <td>data/adresso/ADReSSo21_test/transcripts/adrsdt...</td>\n",
       "    </tr>\n",
       "    <tr>\n",
       "      <th>234</th>\n",
       "      <td>adrsdt31</td>\n",
       "      <td>28</td>\n",
       "      <td>0</td>\n",
       "      <td>data/adresso/ADReSSo21_test/transcripts/adrsdt...</td>\n",
       "    </tr>\n",
       "    <tr>\n",
       "      <th>235</th>\n",
       "      <td>adrsdt5</td>\n",
       "      <td>29</td>\n",
       "      <td>0</td>\n",
       "      <td>data/adresso/ADReSSo21_test/transcripts/adrsdt...</td>\n",
       "    </tr>\n",
       "    <tr>\n",
       "      <th>236</th>\n",
       "      <td>adrsdt48</td>\n",
       "      <td>29</td>\n",
       "      <td>0</td>\n",
       "      <td>data/adresso/ADReSSo21_test/transcripts/adrsdt...</td>\n",
       "    </tr>\n",
       "  </tbody>\n",
       "</table>\n",
       "<p>237 rows × 4 columns</p>\n",
       "</div>"
      ],
      "text/plain": [
       "           id  mmse  dx                                               path\n",
       "0    adrso024    20   1  data/adresso/ADReSSo21_train/transcripts/ad/ad...\n",
       "1    adrso025    11   1  data/adresso/ADReSSo21_train/transcripts/ad/ad...\n",
       "2    adrso027    18   1  data/adresso/ADReSSo21_train/transcripts/ad/ad...\n",
       "3    adrso028    18   1  data/adresso/ADReSSo21_train/transcripts/ad/ad...\n",
       "4    adrso031    26   1  data/adresso/ADReSSo21_train/transcripts/ad/ad...\n",
       "..        ...   ...  ..                                                ...\n",
       "232  adrsdt55    29   0  data/adresso/ADReSSo21_test/transcripts/adrsdt...\n",
       "233  adrsdt68    30   0  data/adresso/ADReSSo21_test/transcripts/adrsdt...\n",
       "234  adrsdt31    28   0  data/adresso/ADReSSo21_test/transcripts/adrsdt...\n",
       "235   adrsdt5    29   0  data/adresso/ADReSSo21_test/transcripts/adrsdt...\n",
       "236  adrsdt48    29   0  data/adresso/ADReSSo21_test/transcripts/adrsdt...\n",
       "\n",
       "[237 rows x 4 columns]"
      ]
     },
     "execution_count": 1,
     "metadata": {},
     "output_type": "execute_result"
    }
   ],
   "source": [
    "import pandas as pd\n",
    "all_features = pd.read_csv('data/adresso/all_features.csv')\n",
    "all_features"
   ]
  },
  {
   "cell_type": "code",
   "execution_count": 3,
   "metadata": {},
   "outputs": [],
   "source": [
    "def get_text(path):\n",
    "    with open(path, \"r\", encoding=\"utf-8\") as f:\n",
    "            text = f.read().strip()\n",
    "    return text\n",
    "\n",
    "all_features['text'] = all_features['path'].apply(lambda x: get_text(x))"
   ]
  },
  {
   "cell_type": "code",
   "execution_count": 5,
   "metadata": {},
   "outputs": [
    {
     "data": {
      "text/plain": [
       "\"What do you see going on?\\n Well, the boy's on a ladder, and the ladder's tipped over.\\n Not a ladder, it's a step step.\\n And, uh, he's coming.\\n From what I can see, he's going to upset the cookies.\\n Yeah.\\n And, uh, the sink is falling over on the floor,\\n while the mother, I guess, is drying the dishes.\\n Well, I'm telling you, that one might be on a step stool.\\n It's not even a step stool, it's just a stool.\\n Anything else going on?\\n The water's overflowing on the floor.\\n Okay.\\n There's probably some more water in the back.\\n This wouldn't go down, I'm not too sure.\\n Except that the water's going down.\\n Can you see anything else?\\n I'm trying to figure out what this is on here.\\n Okay, well that's fine, that's fine.\""
      ]
     },
     "execution_count": 5,
     "metadata": {},
     "output_type": "execute_result"
    }
   ],
   "source": [
    "all_features.loc[4, 'text']"
   ]
  },
  {
   "cell_type": "code",
   "execution_count": 6,
   "metadata": {},
   "outputs": [],
   "source": [
    "all_features.to_parquet('data/adresso/x_y.parquet', index=False)"
   ]
  },
  {
   "cell_type": "code",
   "execution_count": 1,
   "metadata": {},
   "outputs": [
    {
     "data": {
      "text/html": [
       "<div>\n",
       "<style scoped>\n",
       "    .dataframe tbody tr th:only-of-type {\n",
       "        vertical-align: middle;\n",
       "    }\n",
       "\n",
       "    .dataframe tbody tr th {\n",
       "        vertical-align: top;\n",
       "    }\n",
       "\n",
       "    .dataframe thead th {\n",
       "        text-align: right;\n",
       "    }\n",
       "</style>\n",
       "<table border=\"1\" class=\"dataframe\">\n",
       "  <thead>\n",
       "    <tr style=\"text-align: right;\">\n",
       "      <th></th>\n",
       "      <th>id</th>\n",
       "      <th>mmse</th>\n",
       "      <th>dx</th>\n",
       "      <th>path</th>\n",
       "      <th>text</th>\n",
       "    </tr>\n",
       "  </thead>\n",
       "  <tbody>\n",
       "    <tr>\n",
       "      <th>0</th>\n",
       "      <td>adrso024</td>\n",
       "      <td>20</td>\n",
       "      <td>1</td>\n",
       "      <td>data/adresso/ADReSSo21_train/transcripts/ad/ad...</td>\n",
       "      <td>There's a cookie jar, and the lid is off the c...</td>\n",
       "    </tr>\n",
       "    <tr>\n",
       "      <th>1</th>\n",
       "      <td>adrso025</td>\n",
       "      <td>11</td>\n",
       "      <td>1</td>\n",
       "      <td>data/adresso/ADReSSo21_train/transcripts/ad/ad...</td>\n",
       "      <td>Tell me everything that's going on.\\n Well, th...</td>\n",
       "    </tr>\n",
       "    <tr>\n",
       "      <th>2</th>\n",
       "      <td>adrso027</td>\n",
       "      <td>18</td>\n",
       "      <td>1</td>\n",
       "      <td>data/adresso/ADReSSo21_train/transcripts/ad/ad...</td>\n",
       "      <td>That's a picture of a little girl and a little...</td>\n",
       "    </tr>\n",
       "    <tr>\n",
       "      <th>3</th>\n",
       "      <td>adrso028</td>\n",
       "      <td>18</td>\n",
       "      <td>1</td>\n",
       "      <td>data/adresso/ADReSSo21_train/transcripts/ad/ad...</td>\n",
       "      <td>how she would find her, and the mother's where...</td>\n",
       "    </tr>\n",
       "    <tr>\n",
       "      <th>4</th>\n",
       "      <td>adrso031</td>\n",
       "      <td>26</td>\n",
       "      <td>1</td>\n",
       "      <td>data/adresso/ADReSSo21_train/transcripts/ad/ad...</td>\n",
       "      <td>What do you see going on?\\n Well, the boy's on...</td>\n",
       "    </tr>\n",
       "    <tr>\n",
       "      <th>...</th>\n",
       "      <td>...</td>\n",
       "      <td>...</td>\n",
       "      <td>...</td>\n",
       "      <td>...</td>\n",
       "      <td>...</td>\n",
       "    </tr>\n",
       "    <tr>\n",
       "      <th>232</th>\n",
       "      <td>adrsdt55</td>\n",
       "      <td>29</td>\n",
       "      <td>0</td>\n",
       "      <td>data/adresso/ADReSSo21_test/transcripts/adrsdt...</td>\n",
       "      <td>There it is.\\n Okay, the picture is in a kitch...</td>\n",
       "    </tr>\n",
       "    <tr>\n",
       "      <th>233</th>\n",
       "      <td>adrsdt68</td>\n",
       "      <td>30</td>\n",
       "      <td>0</td>\n",
       "      <td>data/adresso/ADReSSo21_test/transcripts/adrsdt...</td>\n",
       "      <td>Okay, the boy is standing on a stool that is t...</td>\n",
       "    </tr>\n",
       "    <tr>\n",
       "      <th>234</th>\n",
       "      <td>adrsdt31</td>\n",
       "      <td>28</td>\n",
       "      <td>0</td>\n",
       "      <td>data/adresso/ADReSSo21_test/transcripts/adrsdt...</td>\n",
       "      <td>This boy is about to fall off the stool.\\n The...</td>\n",
       "    </tr>\n",
       "    <tr>\n",
       "      <th>235</th>\n",
       "      <td>adrsdt5</td>\n",
       "      <td>29</td>\n",
       "      <td>0</td>\n",
       "      <td>data/adresso/ADReSSo21_test/transcripts/adrsdt...</td>\n",
       "      <td>I'm going to show you a picture, and in the pi...</td>\n",
       "    </tr>\n",
       "    <tr>\n",
       "      <th>236</th>\n",
       "      <td>adrsdt48</td>\n",
       "      <td>29</td>\n",
       "      <td>0</td>\n",
       "      <td>data/adresso/ADReSSo21_test/transcripts/adrsdt...</td>\n",
       "      <td>All right, the little girl's reaching up there...</td>\n",
       "    </tr>\n",
       "  </tbody>\n",
       "</table>\n",
       "<p>237 rows × 5 columns</p>\n",
       "</div>"
      ],
      "text/plain": [
       "           id  mmse  dx                                               path  \\\n",
       "0    adrso024    20   1  data/adresso/ADReSSo21_train/transcripts/ad/ad...   \n",
       "1    adrso025    11   1  data/adresso/ADReSSo21_train/transcripts/ad/ad...   \n",
       "2    adrso027    18   1  data/adresso/ADReSSo21_train/transcripts/ad/ad...   \n",
       "3    adrso028    18   1  data/adresso/ADReSSo21_train/transcripts/ad/ad...   \n",
       "4    adrso031    26   1  data/adresso/ADReSSo21_train/transcripts/ad/ad...   \n",
       "..        ...   ...  ..                                                ...   \n",
       "232  adrsdt55    29   0  data/adresso/ADReSSo21_test/transcripts/adrsdt...   \n",
       "233  adrsdt68    30   0  data/adresso/ADReSSo21_test/transcripts/adrsdt...   \n",
       "234  adrsdt31    28   0  data/adresso/ADReSSo21_test/transcripts/adrsdt...   \n",
       "235   adrsdt5    29   0  data/adresso/ADReSSo21_test/transcripts/adrsdt...   \n",
       "236  adrsdt48    29   0  data/adresso/ADReSSo21_test/transcripts/adrsdt...   \n",
       "\n",
       "                                                  text  \n",
       "0    There's a cookie jar, and the lid is off the c...  \n",
       "1    Tell me everything that's going on.\\n Well, th...  \n",
       "2    That's a picture of a little girl and a little...  \n",
       "3    how she would find her, and the mother's where...  \n",
       "4    What do you see going on?\\n Well, the boy's on...  \n",
       "..                                                 ...  \n",
       "232  There it is.\\n Okay, the picture is in a kitch...  \n",
       "233  Okay, the boy is standing on a stool that is t...  \n",
       "234  This boy is about to fall off the stool.\\n The...  \n",
       "235  I'm going to show you a picture, and in the pi...  \n",
       "236  All right, the little girl's reaching up there...  \n",
       "\n",
       "[237 rows x 5 columns]"
      ]
     },
     "execution_count": 1,
     "metadata": {},
     "output_type": "execute_result"
    }
   ],
   "source": [
    "import pandas as pd\n",
    "x_y = pd.read_parquet('data/adresso/x_y.parquet')\n",
    "x_y"
   ]
  },
  {
   "cell_type": "code",
   "execution_count": 92,
   "metadata": {},
   "outputs": [],
   "source": [
    "from torch.utils.data import Dataset, DataLoader\n",
    "from transformers import AutoTokenizer\n",
    "class AdressoDataset(Dataset):\n",
    "    def __init__(self, label, tokenizer, scalar=None, ids_list=None):\n",
    "        super(AdressoDataset, self).__init__()\n",
    "        self.ids_list = ids_list\n",
    "        self.label = label\n",
    "        self.scalar = scalar\n",
    "        full_df = pd.read_parquet('data/adresso/x_y.parquet')\n",
    "        if self.ids_list is None:\n",
    "            id_char = 'd'\n",
    "        else:\n",
    "            id_char = 'o'\n",
    "        self.df = full_df[full_df['id'].str[4]==id_char]\n",
    "        \n",
    "        if self.ids_list is not None:\n",
    "            self.df = self.df[self.df['id'].str[-3:].astype(int).isin(self.ids_list)]\n",
    "\n",
    "        self.tokenizer = tokenizer\n",
    "    \n",
    "    def __len__(self):\n",
    "        return len(self.df)\n",
    "\n",
    "    def __scale_label__(self, label):\n",
    "        if self.scalar == None:\n",
    "            labels = self.df['mmse']\n",
    "            min_label, max_label = labels.min(), labels.max()\n",
    "            self.scalar = [min_label, max_label]\n",
    "        else:\n",
    "            min_label, max_label = self.scalar[0], self.scalar[1]\n",
    "        \n",
    "        return (label - min_label) / (max_label - min_label)\n",
    "    \n",
    "    def __getitem__(self, idx):\n",
    "        text = self.df.loc[idx, 'text']\n",
    "        \n",
    "        text = self.tokenizer(text, padding=\"max_length\", truncation=True)\n",
    "\n",
    "        label = self.df.loc[idx, self.label]\n",
    "        \n",
    "        if self.label == 'mmse':\n",
    "            label = self.__scale_label__(label)\n",
    "\n",
    "        return text, label"
   ]
  },
  {
   "cell_type": "code",
   "execution_count": 271,
   "metadata": {},
   "outputs": [],
   "source": [
    "from datasets import Dataset\n",
    "import pandas as pd\n",
    "\n",
    "class AdressoDataset:\n",
    "    def __init__(self, label, tokenizer, scalar=None, ids=None):\n",
    "        self.ids = ids\n",
    "        self.label = label\n",
    "        self.scalar = scalar\n",
    "\n",
    "        # Load full DataFrame\n",
    "        full_df = pd.read_parquet('data/adresso/x_y.parquet')\n",
    "\n",
    "        # Determine character filter for `id`\n",
    "        id_char = 'd' if self.ids is None else 'o'\n",
    "        df = full_df[full_df['id'].str[4] == id_char]\n",
    "\n",
    "        # Apply `ids_list` filtering if provided\n",
    "        if self.ids is not None:\n",
    "            df = df[df['id'].isin(self.ids)]\n",
    "\n",
    "        self.df = df  # Save filtered DataFrame\n",
    "\n",
    "        # Convert Pandas DataFrame to Hugging Face Dataset\n",
    "        self.dataset = Dataset.from_pandas(self.df)\n",
    "\n",
    "        # Tokenizer\n",
    "        self.tokenizer = tokenizer\n",
    "\n",
    "        # Compute scalar values if needed\n",
    "        if self.label == 'mmse' and self.scalar is None:\n",
    "            labels = self.df['mmse']\n",
    "            self.scalar = [labels.min(), labels.max()]\n",
    "\n",
    "        # Apply tokenization and label scaling\n",
    "        extra_cols = [\"id\", \"dx\", \"mmse\", \"mmse binned\", \"path\", \"text\", \"__index_level_0__\"]\n",
    "        self.dataset = self.dataset.map(self.process_example, remove_columns=extra_cols)\n",
    "\n",
    "    def len(self):\n",
    "        return len(self.df)\n",
    "\n",
    "    def scale_label(self, label):\n",
    "            min_label, max_label = self.scalar\n",
    "            return (label - min_label) / (max_label - min_label)\n",
    "\n",
    "    def process_example(self, example):\n",
    "        \"\"\"Tokenizes text and scales labels if needed.\"\"\"\n",
    "        tokenized = self.tokenizer(example[\"text\"], padding=\"max_length\", truncation=True)\n",
    "\n",
    "        label = example[self.label]\n",
    "        if self.label == \"mmse\":\n",
    "            label = self.scale_label(label)\n",
    "\n",
    "        tokenized[\"labels\"] = label  # Add label to the tokenized output\n",
    "        return tokenized\n",
    "\n",
    "    def get_dataset(self):\n",
    "        \"\"\"Returns the processed Hugging Face dataset.\"\"\"\n",
    "        return self.dataset\n"
   ]
  },
  {
   "cell_type": "code",
   "execution_count": 272,
   "metadata": {},
   "outputs": [],
   "source": [
    "from transformers import AutoTokenizer\n",
    "\n",
    "tokenizer = AutoTokenizer.from_pretrained(\"distilbert-base-uncased\")\n",
    "train_dataset = AdressoDataset(label=\"mmse\", tokenizer=tokenizer, ids=[24,25,27,28,31])\n",
    "\n",
    "# Get processed dataset\n",
    "tr_hf_dataset = train_dataset.get_dataset()\n"
   ]
  },
  {
   "cell_type": "code",
   "execution_count": 274,
   "metadata": {},
   "outputs": [
    {
     "data": {
      "text/html": [
       "<div>\n",
       "<style scoped>\n",
       "    .dataframe tbody tr th:only-of-type {\n",
       "        vertical-align: middle;\n",
       "    }\n",
       "\n",
       "    .dataframe tbody tr th {\n",
       "        vertical-align: top;\n",
       "    }\n",
       "\n",
       "    .dataframe thead th {\n",
       "        text-align: right;\n",
       "    }\n",
       "</style>\n",
       "<table border=\"1\" class=\"dataframe\">\n",
       "  <thead>\n",
       "    <tr style=\"text-align: right;\">\n",
       "      <th></th>\n",
       "      <th>id</th>\n",
       "      <th>mmse</th>\n",
       "      <th>dx</th>\n",
       "      <th>path</th>\n",
       "      <th>text</th>\n",
       "      <th>mmse binned</th>\n",
       "    </tr>\n",
       "  </thead>\n",
       "  <tbody>\n",
       "  </tbody>\n",
       "</table>\n",
       "</div>"
      ],
      "text/plain": [
       "Empty DataFrame\n",
       "Columns: [id, mmse, dx, path, text, mmse binned]\n",
       "Index: []"
      ]
     },
     "execution_count": 274,
     "metadata": {},
     "output_type": "execute_result"
    }
   ],
   "source": [
    "train_dataset.df"
   ]
  },
  {
   "cell_type": "code",
   "execution_count": 148,
   "metadata": {},
   "outputs": [],
   "source": [
    "from sklearn.model_selection import train_test_split\n",
    "\n",
    "full_df = pd.read_parquet('data/adresso/x_y.parquet')\n",
    "df = full_df[full_df['id'].str[4] == 'o']\n"
   ]
  },
  {
   "cell_type": "code",
   "execution_count": 150,
   "metadata": {},
   "outputs": [
    {
     "ename": "ValueError",
     "evalue": "The least populated class in y has only 1 member, which is too few. The minimum number of groups for any class cannot be less than 2.",
     "output_type": "error",
     "traceback": [
      "\u001b[0;31m---------------------------------------------------------------------------\u001b[0m",
      "\u001b[0;31mValueError\u001b[0m                                Traceback (most recent call last)",
      "Cell \u001b[0;32mIn[150], line 1\u001b[0m\n\u001b[0;32m----> 1\u001b[0m train_ids, val_ids \u001b[39m=\u001b[39m train_test_split(df[\u001b[39m'\u001b[39;49m\u001b[39mid\u001b[39;49m\u001b[39m'\u001b[39;49m], stratify\u001b[39m=\u001b[39;49mdf[\u001b[39m'\u001b[39;49m\u001b[39mmmse\u001b[39;49m\u001b[39m'\u001b[39;49m], test_size\u001b[39m=\u001b[39;49m\u001b[39m0.15\u001b[39;49m, random_state\u001b[39m=\u001b[39;49m\u001b[39m42\u001b[39;49m)\n",
      "File \u001b[0;32m/sc/arion/projects/pandeg01a/susmaa01/nona/.venv/lib64/python3.9/site-packages/sklearn/utils/_param_validation.py:216\u001b[0m, in \u001b[0;36mvalidate_params.<locals>.decorator.<locals>.wrapper\u001b[0;34m(*args, **kwargs)\u001b[0m\n\u001b[1;32m    210\u001b[0m \u001b[39mtry\u001b[39;00m:\n\u001b[1;32m    211\u001b[0m     \u001b[39mwith\u001b[39;00m config_context(\n\u001b[1;32m    212\u001b[0m         skip_parameter_validation\u001b[39m=\u001b[39m(\n\u001b[1;32m    213\u001b[0m             prefer_skip_nested_validation \u001b[39mor\u001b[39;00m global_skip_validation\n\u001b[1;32m    214\u001b[0m         )\n\u001b[1;32m    215\u001b[0m     ):\n\u001b[0;32m--> 216\u001b[0m         \u001b[39mreturn\u001b[39;00m func(\u001b[39m*\u001b[39;49margs, \u001b[39m*\u001b[39;49m\u001b[39m*\u001b[39;49mkwargs)\n\u001b[1;32m    217\u001b[0m \u001b[39mexcept\u001b[39;00m InvalidParameterError \u001b[39mas\u001b[39;00m e:\n\u001b[1;32m    218\u001b[0m     \u001b[39m# When the function is just a wrapper around an estimator, we allow\u001b[39;00m\n\u001b[1;32m    219\u001b[0m     \u001b[39m# the function to delegate validation to the estimator, but we replace\u001b[39;00m\n\u001b[1;32m    220\u001b[0m     \u001b[39m# the name of the estimator by the name of the function in the error\u001b[39;00m\n\u001b[1;32m    221\u001b[0m     \u001b[39m# message to avoid confusion.\u001b[39;00m\n\u001b[1;32m    222\u001b[0m     msg \u001b[39m=\u001b[39m re\u001b[39m.\u001b[39msub(\n\u001b[1;32m    223\u001b[0m         \u001b[39mr\u001b[39m\u001b[39m\"\u001b[39m\u001b[39mparameter of \u001b[39m\u001b[39m\\\u001b[39m\u001b[39mw+ must be\u001b[39m\u001b[39m\"\u001b[39m,\n\u001b[1;32m    224\u001b[0m         \u001b[39mf\u001b[39m\u001b[39m\"\u001b[39m\u001b[39mparameter of \u001b[39m\u001b[39m{\u001b[39;00mfunc\u001b[39m.\u001b[39m\u001b[39m__qualname__\u001b[39m\u001b[39m}\u001b[39;00m\u001b[39m must be\u001b[39m\u001b[39m\"\u001b[39m,\n\u001b[1;32m    225\u001b[0m         \u001b[39mstr\u001b[39m(e),\n\u001b[1;32m    226\u001b[0m     )\n",
      "File \u001b[0;32m/sc/arion/projects/pandeg01a/susmaa01/nona/.venv/lib64/python3.9/site-packages/sklearn/model_selection/_split.py:2872\u001b[0m, in \u001b[0;36mtrain_test_split\u001b[0;34m(test_size, train_size, random_state, shuffle, stratify, *arrays)\u001b[0m\n\u001b[1;32m   2868\u001b[0m         CVClass \u001b[39m=\u001b[39m ShuffleSplit\n\u001b[1;32m   2870\u001b[0m     cv \u001b[39m=\u001b[39m CVClass(test_size\u001b[39m=\u001b[39mn_test, train_size\u001b[39m=\u001b[39mn_train, random_state\u001b[39m=\u001b[39mrandom_state)\n\u001b[0;32m-> 2872\u001b[0m     train, test \u001b[39m=\u001b[39m \u001b[39mnext\u001b[39;49m(cv\u001b[39m.\u001b[39;49msplit(X\u001b[39m=\u001b[39;49marrays[\u001b[39m0\u001b[39;49m], y\u001b[39m=\u001b[39;49mstratify))\n\u001b[1;32m   2874\u001b[0m train, test \u001b[39m=\u001b[39m ensure_common_namespace_device(arrays[\u001b[39m0\u001b[39m], train, test)\n\u001b[1;32m   2876\u001b[0m \u001b[39mreturn\u001b[39;00m \u001b[39mlist\u001b[39m(\n\u001b[1;32m   2877\u001b[0m     chain\u001b[39m.\u001b[39mfrom_iterable(\n\u001b[1;32m   2878\u001b[0m         (_safe_indexing(a, train), _safe_indexing(a, test)) \u001b[39mfor\u001b[39;00m a \u001b[39min\u001b[39;00m arrays\n\u001b[1;32m   2879\u001b[0m     )\n\u001b[1;32m   2880\u001b[0m )\n",
      "File \u001b[0;32m/sc/arion/projects/pandeg01a/susmaa01/nona/.venv/lib64/python3.9/site-packages/sklearn/model_selection/_split.py:1909\u001b[0m, in \u001b[0;36mBaseShuffleSplit.split\u001b[0;34m(self, X, y, groups)\u001b[0m\n\u001b[1;32m   1879\u001b[0m \u001b[39m\u001b[39m\u001b[39m\"\"\"Generate indices to split data into training and test set.\u001b[39;00m\n\u001b[1;32m   1880\u001b[0m \n\u001b[1;32m   1881\u001b[0m \u001b[39mParameters\u001b[39;00m\n\u001b[0;32m   (...)\u001b[0m\n\u001b[1;32m   1906\u001b[0m \u001b[39mto an integer.\u001b[39;00m\n\u001b[1;32m   1907\u001b[0m \u001b[39m\"\"\"\u001b[39;00m\n\u001b[1;32m   1908\u001b[0m X, y, groups \u001b[39m=\u001b[39m indexable(X, y, groups)\n\u001b[0;32m-> 1909\u001b[0m \u001b[39mfor\u001b[39;00m train, test \u001b[39min\u001b[39;00m \u001b[39mself\u001b[39m\u001b[39m.\u001b[39m_iter_indices(X, y, groups):\n\u001b[1;32m   1910\u001b[0m     \u001b[39myield\u001b[39;00m train, test\n",
      "File \u001b[0;32m/sc/arion/projects/pandeg01a/susmaa01/nona/.venv/lib64/python3.9/site-packages/sklearn/model_selection/_split.py:2318\u001b[0m, in \u001b[0;36mStratifiedShuffleSplit._iter_indices\u001b[0;34m(self, X, y, groups)\u001b[0m\n\u001b[1;32m   2316\u001b[0m class_counts \u001b[39m=\u001b[39m np\u001b[39m.\u001b[39mbincount(y_indices)\n\u001b[1;32m   2317\u001b[0m \u001b[39mif\u001b[39;00m np\u001b[39m.\u001b[39mmin(class_counts) \u001b[39m<\u001b[39m \u001b[39m2\u001b[39m:\n\u001b[0;32m-> 2318\u001b[0m     \u001b[39mraise\u001b[39;00m \u001b[39mValueError\u001b[39;00m(\n\u001b[1;32m   2319\u001b[0m         \u001b[39m\"\u001b[39m\u001b[39mThe least populated class in y has only 1\u001b[39m\u001b[39m\"\u001b[39m\n\u001b[1;32m   2320\u001b[0m         \u001b[39m\"\u001b[39m\u001b[39m member, which is too few. The minimum\u001b[39m\u001b[39m\"\u001b[39m\n\u001b[1;32m   2321\u001b[0m         \u001b[39m\"\u001b[39m\u001b[39m number of groups for any class cannot\u001b[39m\u001b[39m\"\u001b[39m\n\u001b[1;32m   2322\u001b[0m         \u001b[39m\"\u001b[39m\u001b[39m be less than 2.\u001b[39m\u001b[39m\"\u001b[39m\n\u001b[1;32m   2323\u001b[0m     )\n\u001b[1;32m   2325\u001b[0m \u001b[39mif\u001b[39;00m n_train \u001b[39m<\u001b[39m n_classes:\n\u001b[1;32m   2326\u001b[0m     \u001b[39mraise\u001b[39;00m \u001b[39mValueError\u001b[39;00m(\n\u001b[1;32m   2327\u001b[0m         \u001b[39m\"\u001b[39m\u001b[39mThe train_size = \u001b[39m\u001b[39m%d\u001b[39;00m\u001b[39m should be greater or \u001b[39m\u001b[39m\"\u001b[39m\n\u001b[1;32m   2328\u001b[0m         \u001b[39m\"\u001b[39m\u001b[39mequal to the number of classes = \u001b[39m\u001b[39m%d\u001b[39;00m\u001b[39m\"\u001b[39m \u001b[39m%\u001b[39m (n_train, n_classes)\n\u001b[1;32m   2329\u001b[0m     )\n",
      "\u001b[0;31mValueError\u001b[0m: The least populated class in y has only 1 member, which is too few. The minimum number of groups for any class cannot be less than 2."
     ]
    }
   ],
   "source": []
  },
  {
   "cell_type": "code",
   "execution_count": 170,
   "metadata": {},
   "outputs": [
    {
     "data": {
      "text/plain": [
       "<Axes: ylabel='Frequency'>"
      ]
     },
     "execution_count": 170,
     "metadata": {},
     "output_type": "execute_result"
    },
    {
     "data": {
      "image/png": "[encoded data removed]",
      "text/plain": [
       "<Figure size 640x480 with 1 Axes>"
      ]
     },
     "metadata": {},
     "output_type": "display_data"
    }
   ],
   "source": [
    "df_no_thirty = full_df[full_df['mmse']!=30]\n",
    "df_no_thirty['mmse'].plot.hist(bins=3)"
   ]
  },
  {
   "cell_type": "code",
   "execution_count": 171,
   "metadata": {},
   "outputs": [
    {
     "data": {
      "text/plain": [
       "mmse\n",
       "30    48\n",
       "29    35\n",
       "28    22\n",
       "20    19\n",
       "17    11\n",
       "27    10\n",
       "24     9\n",
       "19     9\n",
       "18     7\n",
       "25     7\n",
       "10     7\n",
       "12     7\n",
       "26     6\n",
       "15     6\n",
       "13     6\n",
       "23     5\n",
       "22     4\n",
       "14     4\n",
       "16     4\n",
       "11     3\n",
       "3      2\n",
       "21     2\n",
       "8      2\n",
       "7      1\n",
       "5      1\n",
       "Name: count, dtype: int64"
      ]
     },
     "execution_count": 171,
     "metadata": {},
     "output_type": "execute_result"
    }
   ],
   "source": [
    "full_df['mmse'].value_counts()"
   ]
  },
  {
   "cell_type": "code",
   "execution_count": 172,
   "metadata": {},
   "outputs": [
    {
     "name": "stderr",
     "output_type": "stream",
     "text": [
      "/tmp/ipykernel_2583521/3273656062.py:1: SettingWithCopyWarning: \n",
      "A value is trying to be set on a copy of a slice from a DataFrame.\n",
      "Try using .loc[row_indexer,col_indexer] = value instead\n",
      "\n",
      "See the caveats in the documentation: https://pandas.pydata.org/pandas-docs/stable/user_guide/indexing.html#returning-a-view-versus-a-copy\n",
      "  df_no_thirty['mmse binned'] = pd.cut(df_no_thirty['mmse'], bins=3, labels=[0,1,2])\n"
     ]
    }
   ],
   "source": [
    "df_no_thirty['mmse binned'] = pd.cut(df_no_thirty['mmse'], bins=3, labels=[0,1,2])"
   ]
  },
  {
   "cell_type": "code",
   "execution_count": 173,
   "metadata": {},
   "outputs": [
    {
     "name": "stderr",
     "output_type": "stream",
     "text": [
      "/tmp/ipykernel_2583521/2168234906.py:2: SettingWithCopyWarning: \n",
      "A value is trying to be set on a copy of a slice from a DataFrame.\n",
      "Try using .loc[row_indexer,col_indexer] = value instead\n",
      "\n",
      "See the caveats in the documentation: https://pandas.pydata.org/pandas-docs/stable/user_guide/indexing.html#returning-a-view-versus-a-copy\n",
      "  df_thirty['mmse binned'] = 4\n"
     ]
    }
   ],
   "source": [
    "df_thirty = full_df[full_df['mmse']==30]\n",
    "df_thirty['mmse binned'] = 4"
   ]
  },
  {
   "cell_type": "code",
   "execution_count": 174,
   "metadata": {},
   "outputs": [],
   "source": [
    "full_df_binned = pd.concat([df_thirty, df_no_thirty])"
   ]
  },
  {
   "cell_type": "code",
   "execution_count": 175,
   "metadata": {},
   "outputs": [
    {
     "data": {
      "text/html": [
       "<div>\n",
       "<style scoped>\n",
       "    .dataframe tbody tr th:only-of-type {\n",
       "        vertical-align: middle;\n",
       "    }\n",
       "\n",
       "    .dataframe tbody tr th {\n",
       "        vertical-align: top;\n",
       "    }\n",
       "\n",
       "    .dataframe thead th {\n",
       "        text-align: right;\n",
       "    }\n",
       "</style>\n",
       "<table border=\"1\" class=\"dataframe\">\n",
       "  <thead>\n",
       "    <tr style=\"text-align: right;\">\n",
       "      <th></th>\n",
       "      <th>id</th>\n",
       "      <th>mmse</th>\n",
       "      <th>dx</th>\n",
       "      <th>path</th>\n",
       "      <th>text</th>\n",
       "      <th>mmse binned</th>\n",
       "    </tr>\n",
       "  </thead>\n",
       "  <tbody>\n",
       "    <tr>\n",
       "      <th>88</th>\n",
       "      <td>adrso003</td>\n",
       "      <td>30</td>\n",
       "      <td>0</td>\n",
       "      <td>data/adresso/ADReSSo21_train/transcripts/cn/ad...</td>\n",
       "      <td>Starting from the left, I see two children sta...</td>\n",
       "      <td>4</td>\n",
       "    </tr>\n",
       "    <tr>\n",
       "      <th>90</th>\n",
       "      <td>adrso007</td>\n",
       "      <td>30</td>\n",
       "      <td>0</td>\n",
       "      <td>data/adresso/ADReSSo21_train/transcripts/cn/ad...</td>\n",
       "      <td>A mother standing by the sink, kind of looks l...</td>\n",
       "      <td>4</td>\n",
       "    </tr>\n",
       "    <tr>\n",
       "      <th>94</th>\n",
       "      <td>adrso014</td>\n",
       "      <td>30</td>\n",
       "      <td>0</td>\n",
       "      <td>data/adresso/ADReSSo21_train/transcripts/cn/ad...</td>\n",
       "      <td>I see a woman who has zoned out.\\n She's in a ...</td>\n",
       "      <td>4</td>\n",
       "    </tr>\n",
       "    <tr>\n",
       "      <th>97</th>\n",
       "      <td>adrso017</td>\n",
       "      <td>30</td>\n",
       "      <td>0</td>\n",
       "      <td>data/adresso/ADReSSo21_train/transcripts/cn/ad...</td>\n",
       "      <td>All right, we have a few more tasks to go thro...</td>\n",
       "      <td>4</td>\n",
       "    </tr>\n",
       "    <tr>\n",
       "      <th>99</th>\n",
       "      <td>adrso019</td>\n",
       "      <td>30</td>\n",
       "      <td>0</td>\n",
       "      <td>data/adresso/ADReSSo21_train/transcripts/cn/ad...</td>\n",
       "      <td>Okay, little boy's on a stool that he looks li...</td>\n",
       "      <td>4</td>\n",
       "    </tr>\n",
       "    <tr>\n",
       "      <th>...</th>\n",
       "      <td>...</td>\n",
       "      <td>...</td>\n",
       "      <td>...</td>\n",
       "      <td>...</td>\n",
       "      <td>...</td>\n",
       "      <td>...</td>\n",
       "    </tr>\n",
       "    <tr>\n",
       "      <th>230</th>\n",
       "      <td>adrsdt47</td>\n",
       "      <td>29</td>\n",
       "      <td>0</td>\n",
       "      <td>data/adresso/ADReSSo21_test/transcripts/adrsdt...</td>\n",
       "      <td>Tell me everything that you see going on in th...</td>\n",
       "      <td>2</td>\n",
       "    </tr>\n",
       "    <tr>\n",
       "      <th>232</th>\n",
       "      <td>adrsdt55</td>\n",
       "      <td>29</td>\n",
       "      <td>0</td>\n",
       "      <td>data/adresso/ADReSSo21_test/transcripts/adrsdt...</td>\n",
       "      <td>There it is.\\n Okay, the picture is in a kitch...</td>\n",
       "      <td>2</td>\n",
       "    </tr>\n",
       "    <tr>\n",
       "      <th>234</th>\n",
       "      <td>adrsdt31</td>\n",
       "      <td>28</td>\n",
       "      <td>0</td>\n",
       "      <td>data/adresso/ADReSSo21_test/transcripts/adrsdt...</td>\n",
       "      <td>This boy is about to fall off the stool.\\n The...</td>\n",
       "      <td>2</td>\n",
       "    </tr>\n",
       "    <tr>\n",
       "      <th>235</th>\n",
       "      <td>adrsdt5</td>\n",
       "      <td>29</td>\n",
       "      <td>0</td>\n",
       "      <td>data/adresso/ADReSSo21_test/transcripts/adrsdt...</td>\n",
       "      <td>I'm going to show you a picture, and in the pi...</td>\n",
       "      <td>2</td>\n",
       "    </tr>\n",
       "    <tr>\n",
       "      <th>236</th>\n",
       "      <td>adrsdt48</td>\n",
       "      <td>29</td>\n",
       "      <td>0</td>\n",
       "      <td>data/adresso/ADReSSo21_test/transcripts/adrsdt...</td>\n",
       "      <td>All right, the little girl's reaching up there...</td>\n",
       "      <td>2</td>\n",
       "    </tr>\n",
       "  </tbody>\n",
       "</table>\n",
       "<p>237 rows × 6 columns</p>\n",
       "</div>"
      ],
      "text/plain": [
       "           id  mmse  dx                                               path  \\\n",
       "88   adrso003    30   0  data/adresso/ADReSSo21_train/transcripts/cn/ad...   \n",
       "90   adrso007    30   0  data/adresso/ADReSSo21_train/transcripts/cn/ad...   \n",
       "94   adrso014    30   0  data/adresso/ADReSSo21_train/transcripts/cn/ad...   \n",
       "97   adrso017    30   0  data/adresso/ADReSSo21_train/transcripts/cn/ad...   \n",
       "99   adrso019    30   0  data/adresso/ADReSSo21_train/transcripts/cn/ad...   \n",
       "..        ...   ...  ..                                                ...   \n",
       "230  adrsdt47    29   0  data/adresso/ADReSSo21_test/transcripts/adrsdt...   \n",
       "232  adrsdt55    29   0  data/adresso/ADReSSo21_test/transcripts/adrsdt...   \n",
       "234  adrsdt31    28   0  data/adresso/ADReSSo21_test/transcripts/adrsdt...   \n",
       "235   adrsdt5    29   0  data/adresso/ADReSSo21_test/transcripts/adrsdt...   \n",
       "236  adrsdt48    29   0  data/adresso/ADReSSo21_test/transcripts/adrsdt...   \n",
       "\n",
       "                                                  text  mmse binned  \n",
       "88   Starting from the left, I see two children sta...            4  \n",
       "90   A mother standing by the sink, kind of looks l...            4  \n",
       "94   I see a woman who has zoned out.\\n She's in a ...            4  \n",
       "97   All right, we have a few more tasks to go thro...            4  \n",
       "99   Okay, little boy's on a stool that he looks li...            4  \n",
       "..                                                 ...          ...  \n",
       "230  Tell me everything that you see going on in th...            2  \n",
       "232  There it is.\\n Okay, the picture is in a kitch...            2  \n",
       "234  This boy is about to fall off the stool.\\n The...            2  \n",
       "235  I'm going to show you a picture, and in the pi...            2  \n",
       "236  All right, the little girl's reaching up there...            2  \n",
       "\n",
       "[237 rows x 6 columns]"
      ]
     },
     "execution_count": 175,
     "metadata": {},
     "output_type": "execute_result"
    }
   ],
   "source": [
    "full_df_binned"
   ]
  },
  {
   "cell_type": "code",
   "execution_count": 176,
   "metadata": {},
   "outputs": [],
   "source": [
    "df_binned_tv = full_df_binned[full_df_binned['id'].str[4] == 'o']"
   ]
  },
  {
   "cell_type": "code",
   "execution_count": 179,
   "metadata": {},
   "outputs": [],
   "source": [
    "train_ids, val_ids = train_test_split(df_binned_tv['id'], stratify=df_binned_tv['mmse binned'], test_size=0.15, random_state=42)"
   ]
  },
  {
   "cell_type": "code",
   "execution_count": 180,
   "metadata": {},
   "outputs": [
    {
     "data": {
      "text/plain": [
       "72     adrso228\n",
       "40     adrso122\n",
       "25     adrso072\n",
       "43     adrso126\n",
       "133    adrso262\n",
       "         ...   \n",
       "14     adrso049\n",
       "117    adrso167\n",
       "165    adrso316\n",
       "16     adrso054\n",
       "118    adrso168\n",
       "Name: id, Length: 141, dtype: object"
      ]
     },
     "execution_count": 180,
     "metadata": {},
     "output_type": "execute_result"
    }
   ],
   "source": [
    "train_ids"
   ]
  },
  {
   "cell_type": "code",
   "execution_count": 182,
   "metadata": {},
   "outputs": [
    {
     "data": {
      "text/plain": [
       "mmse\n",
       "30    48\n",
       "29    35\n",
       "28    22\n",
       "20    19\n",
       "17    11\n",
       "27    10\n",
       "24     9\n",
       "19     9\n",
       "25     7\n",
       "18     7\n",
       "12     7\n",
       "10     7\n",
       "26     6\n",
       "13     6\n",
       "15     6\n",
       "23     5\n",
       "22     4\n",
       "14     4\n",
       "16     4\n",
       "11     3\n",
       "3      2\n",
       "21     2\n",
       "8      2\n",
       "7      1\n",
       "5      1\n",
       "Name: count, dtype: int64"
      ]
     },
     "execution_count": 182,
     "metadata": {},
     "output_type": "execute_result"
    }
   ],
   "source": [
    "full_df_binned['mmse'].value_counts()"
   ]
  },
  {
   "cell_type": "code",
   "execution_count": 184,
   "metadata": {},
   "outputs": [],
   "source": [
    "full_df_binned.to_parquet('data/adresso/x_y.parquet', index=False)"
   ]
  },
  {
   "cell_type": "code",
   "execution_count": 188,
   "metadata": {},
   "outputs": [],
   "source": [
    "df = pd.read_parquet('data/adresso/x_y.parquet')"
   ]
  },
  {
   "cell_type": "code",
   "execution_count": 189,
   "metadata": {},
   "outputs": [
    {
     "data": {
      "text/html": [
       "<div>\n",
       "<style scoped>\n",
       "    .dataframe tbody tr th:only-of-type {\n",
       "        vertical-align: middle;\n",
       "    }\n",
       "\n",
       "    .dataframe tbody tr th {\n",
       "        vertical-align: top;\n",
       "    }\n",
       "\n",
       "    .dataframe thead th {\n",
       "        text-align: right;\n",
       "    }\n",
       "</style>\n",
       "<table border=\"1\" class=\"dataframe\">\n",
       "  <thead>\n",
       "    <tr style=\"text-align: right;\">\n",
       "      <th></th>\n",
       "      <th>id</th>\n",
       "      <th>mmse</th>\n",
       "      <th>dx</th>\n",
       "      <th>path</th>\n",
       "      <th>text</th>\n",
       "      <th>mmse binned</th>\n",
       "    </tr>\n",
       "  </thead>\n",
       "  <tbody>\n",
       "    <tr>\n",
       "      <th>0</th>\n",
       "      <td>adrso003</td>\n",
       "      <td>30</td>\n",
       "      <td>0</td>\n",
       "      <td>data/adresso/ADReSSo21_train/transcripts/cn/ad...</td>\n",
       "      <td>Starting from the left, I see two children sta...</td>\n",
       "      <td>4</td>\n",
       "    </tr>\n",
       "    <tr>\n",
       "      <th>1</th>\n",
       "      <td>adrso007</td>\n",
       "      <td>30</td>\n",
       "      <td>0</td>\n",
       "      <td>data/adresso/ADReSSo21_train/transcripts/cn/ad...</td>\n",
       "      <td>A mother standing by the sink, kind of looks l...</td>\n",
       "      <td>4</td>\n",
       "    </tr>\n",
       "    <tr>\n",
       "      <th>2</th>\n",
       "      <td>adrso014</td>\n",
       "      <td>30</td>\n",
       "      <td>0</td>\n",
       "      <td>data/adresso/ADReSSo21_train/transcripts/cn/ad...</td>\n",
       "      <td>I see a woman who has zoned out.\\n She's in a ...</td>\n",
       "      <td>4</td>\n",
       "    </tr>\n",
       "    <tr>\n",
       "      <th>3</th>\n",
       "      <td>adrso017</td>\n",
       "      <td>30</td>\n",
       "      <td>0</td>\n",
       "      <td>data/adresso/ADReSSo21_train/transcripts/cn/ad...</td>\n",
       "      <td>All right, we have a few more tasks to go thro...</td>\n",
       "      <td>4</td>\n",
       "    </tr>\n",
       "    <tr>\n",
       "      <th>4</th>\n",
       "      <td>adrso019</td>\n",
       "      <td>30</td>\n",
       "      <td>0</td>\n",
       "      <td>data/adresso/ADReSSo21_train/transcripts/cn/ad...</td>\n",
       "      <td>Okay, little boy's on a stool that he looks li...</td>\n",
       "      <td>4</td>\n",
       "    </tr>\n",
       "    <tr>\n",
       "      <th>...</th>\n",
       "      <td>...</td>\n",
       "      <td>...</td>\n",
       "      <td>...</td>\n",
       "      <td>...</td>\n",
       "      <td>...</td>\n",
       "      <td>...</td>\n",
       "    </tr>\n",
       "    <tr>\n",
       "      <th>232</th>\n",
       "      <td>adrsdt47</td>\n",
       "      <td>29</td>\n",
       "      <td>0</td>\n",
       "      <td>data/adresso/ADReSSo21_test/transcripts/adrsdt...</td>\n",
       "      <td>Tell me everything that you see going on in th...</td>\n",
       "      <td>2</td>\n",
       "    </tr>\n",
       "    <tr>\n",
       "      <th>233</th>\n",
       "      <td>adrsdt55</td>\n",
       "      <td>29</td>\n",
       "      <td>0</td>\n",
       "      <td>data/adresso/ADReSSo21_test/transcripts/adrsdt...</td>\n",
       "      <td>There it is.\\n Okay, the picture is in a kitch...</td>\n",
       "      <td>2</td>\n",
       "    </tr>\n",
       "    <tr>\n",
       "      <th>234</th>\n",
       "      <td>adrsdt31</td>\n",
       "      <td>28</td>\n",
       "      <td>0</td>\n",
       "      <td>data/adresso/ADReSSo21_test/transcripts/adrsdt...</td>\n",
       "      <td>This boy is about to fall off the stool.\\n The...</td>\n",
       "      <td>2</td>\n",
       "    </tr>\n",
       "    <tr>\n",
       "      <th>235</th>\n",
       "      <td>adrsdt5</td>\n",
       "      <td>29</td>\n",
       "      <td>0</td>\n",
       "      <td>data/adresso/ADReSSo21_test/transcripts/adrsdt...</td>\n",
       "      <td>I'm going to show you a picture, and in the pi...</td>\n",
       "      <td>2</td>\n",
       "    </tr>\n",
       "    <tr>\n",
       "      <th>236</th>\n",
       "      <td>adrsdt48</td>\n",
       "      <td>29</td>\n",
       "      <td>0</td>\n",
       "      <td>data/adresso/ADReSSo21_test/transcripts/adrsdt...</td>\n",
       "      <td>All right, the little girl's reaching up there...</td>\n",
       "      <td>2</td>\n",
       "    </tr>\n",
       "  </tbody>\n",
       "</table>\n",
       "<p>237 rows × 6 columns</p>\n",
       "</div>"
      ],
      "text/plain": [
       "           id  mmse  dx                                               path  \\\n",
       "0    adrso003    30   0  data/adresso/ADReSSo21_train/transcripts/cn/ad...   \n",
       "1    adrso007    30   0  data/adresso/ADReSSo21_train/transcripts/cn/ad...   \n",
       "2    adrso014    30   0  data/adresso/ADReSSo21_train/transcripts/cn/ad...   \n",
       "3    adrso017    30   0  data/adresso/ADReSSo21_train/transcripts/cn/ad...   \n",
       "4    adrso019    30   0  data/adresso/ADReSSo21_train/transcripts/cn/ad...   \n",
       "..        ...   ...  ..                                                ...   \n",
       "232  adrsdt47    29   0  data/adresso/ADReSSo21_test/transcripts/adrsdt...   \n",
       "233  adrsdt55    29   0  data/adresso/ADReSSo21_test/transcripts/adrsdt...   \n",
       "234  adrsdt31    28   0  data/adresso/ADReSSo21_test/transcripts/adrsdt...   \n",
       "235   adrsdt5    29   0  data/adresso/ADReSSo21_test/transcripts/adrsdt...   \n",
       "236  adrsdt48    29   0  data/adresso/ADReSSo21_test/transcripts/adrsdt...   \n",
       "\n",
       "                                                  text  mmse binned  \n",
       "0    Starting from the left, I see two children sta...            4  \n",
       "1    A mother standing by the sink, kind of looks l...            4  \n",
       "2    I see a woman who has zoned out.\\n She's in a ...            4  \n",
       "3    All right, we have a few more tasks to go thro...            4  \n",
       "4    Okay, little boy's on a stool that he looks li...            4  \n",
       "..                                                 ...          ...  \n",
       "232  Tell me everything that you see going on in th...            2  \n",
       "233  There it is.\\n Okay, the picture is in a kitch...            2  \n",
       "234  This boy is about to fall off the stool.\\n The...            2  \n",
       "235  I'm going to show you a picture, and in the pi...            2  \n",
       "236  All right, the little girl's reaching up there...            2  \n",
       "\n",
       "[237 rows x 6 columns]"
      ]
     },
     "execution_count": 189,
     "metadata": {},
     "output_type": "execute_result"
    }
   ],
   "source": [
    "df"
   ]
  },
  {
   "cell_type": "code",
   "execution_count": 227,
   "metadata": {},
   "outputs": [],
   "source": [
    "train_ids, val_ids = train_test_split(df['id'], stratify=df['dx'], test_size=0.15, random_state=42)"
   ]
  },
  {
   "cell_type": "code",
   "execution_count": 228,
   "metadata": {},
   "outputs": [
    {
     "data": {
      "text/plain": [
       "118    adrso223\n",
       "53     adrso032\n",
       "162    adrso262\n",
       "148    adrso157\n",
       "236    adrsdt48\n",
       "170    adrso286\n",
       "23     adrso270\n",
       "83     adrso106\n",
       "228    adrsdt43\n",
       "79     adrso090\n",
       "175    adrso302\n",
       "174    adrso300\n",
       "90     adrso125\n",
       "134    adrso253\n",
       "20     adrso266\n",
       "58     adrso043\n",
       "87     adrso116\n",
       "94     adrso134\n",
       "74     adrso074\n",
       "224    adrsdt27\n",
       "180    adrsdt40\n",
       "223    adrsdt34\n",
       "14     adrso172\n",
       "198    adrsdt13\n",
       "201     adrsdt2\n",
       "194    adrsdt62\n",
       "51     adrso028\n",
       "80     adrso092\n",
       "159    adrso186\n",
       "209    adrsdt42\n",
       "69     adrso063\n",
       "119    adrso224\n",
       "108    adrso205\n",
       "225    adrsdt54\n",
       "139    adrso012\n",
       "2      adrso014\n",
       "Name: id, dtype: object"
      ]
     },
     "execution_count": 228,
     "metadata": {},
     "output_type": "execute_result"
    }
   ],
   "source": [
    "val_ids"
   ]
  },
  {
   "cell_type": "code",
   "execution_count": 275,
   "metadata": {},
   "outputs": [
    {
     "name": "stderr",
     "output_type": "stream",
     "text": [
      "Map: 100%|██████████| 140/140 [00:00<00:00, 2067.52 examples/s]\n"
     ]
    }
   ],
   "source": [
    "from transformers import AutoTokenizer\n",
    "\n",
    "tokenizer = AutoTokenizer.from_pretrained(\"distilbert-base-uncased\")\n",
    "train_dataset = AdressoDataset(label=\"dx\", tokenizer=tokenizer, ids=train_ids)\n",
    "\n",
    "# Get processed dataset\n",
    "tr_hf_dataset = train_dataset.get_dataset()"
   ]
  },
  {
   "cell_type": "code",
   "execution_count": 276,
   "metadata": {},
   "outputs": [
    {
     "name": "stderr",
     "output_type": "stream",
     "text": [
      "Map: 100%|██████████| 26/26 [00:00<00:00, 1767.43 examples/s]\n"
     ]
    }
   ],
   "source": [
    "val_dataset = AdressoDataset(label=\"dx\", tokenizer=tokenizer, ids=val_ids, scalar=train_dataset.scalar)\n",
    "\n",
    "# Get processed dataset\n",
    "val_hf_dataset = val_dataset.get_dataset()"
   ]
  },
  {
   "cell_type": "code",
   "execution_count": 277,
   "metadata": {},
   "outputs": [
    {
     "name": "stderr",
     "output_type": "stream",
     "text": [
      "Map: 100%|██████████| 71/71 [00:00<00:00, 1978.13 examples/s]\n"
     ]
    }
   ],
   "source": [
    "test_dataset = AdressoDataset(label=\"dx\", tokenizer=tokenizer, scalar=train_dataset.scalar)\n",
    "\n",
    "# Get processed dataset\n",
    "test_hf_dataset = test_dataset.get_dataset()"
   ]
  },
  {
   "cell_type": "code",
   "execution_count": 279,
   "metadata": {},
   "outputs": [
    {
     "data": {
      "text/plain": [
       "140"
      ]
     },
     "execution_count": 279,
     "metadata": {},
     "output_type": "execute_result"
    }
   ],
   "source": [
    "train_dataset.len()"
   ]
  },
  {
   "cell_type": "code",
   "execution_count": 232,
   "metadata": {},
   "outputs": [],
   "source": [
    "import torch\n",
    "\n",
    "def collate_fn(batch):\n",
    "    \"\"\"Convert a batch of tokenized dicts into PyTorch tensors.\"\"\"\n",
    "    input_ids = torch.tensor([item[\"input_ids\"] for item in batch])\n",
    "    attention_mask = torch.tensor([item[\"attention_mask\"] for item in batch])\n",
    "    labels = torch.tensor([item[\"labels\"] for item in batch], dtype=torch.float)\n",
    "\n",
    "    return {\"input_ids\": input_ids, \"attention_mask\": attention_mask, \"labels\": labels}\n"
   ]
  },
  {
   "cell_type": "code",
   "execution_count": 233,
   "metadata": {},
   "outputs": [],
   "source": [
    "train_dataloader = DataLoader(\n",
    "    train_dataset.get_dataset(),\n",
    "    batch_size=16,\n",
    "    shuffle=True,\n",
    "    collate_fn=collate_fn  # Ensure proper formatting\n",
    ")\n"
   ]
  },
  {
   "cell_type": "code",
   "execution_count": 234,
   "metadata": {},
   "outputs": [
    {
     "name": "stdout",
     "output_type": "stream",
     "text": [
      "torch.Size([16, 512])\n",
      "tensor([1., 1., 0., 1., 1., 0., 0., 1., 0., 0., 0., 0., 0., 0., 1., 1.])\n",
      "torch.Size([16, 512])\n",
      "tensor([0., 0., 0., 0., 1., 1., 1., 1., 1., 0., 0., 1., 0., 1., 1., 0.])\n",
      "torch.Size([16, 512])\n",
      "tensor([1., 1., 1., 1., 0., 0., 1., 1., 0., 0., 1., 1., 0., 0., 1., 1.])\n",
      "torch.Size([16, 512])\n",
      "tensor([0., 0., 0., 1., 1., 0., 1., 1., 1., 1., 1., 0., 1., 0., 1., 1.])\n",
      "torch.Size([16, 512])\n",
      "tensor([1., 1., 1., 1., 0., 1., 0., 0., 0., 1., 1., 0., 1., 1., 0., 0.])\n",
      "torch.Size([16, 512])\n",
      "tensor([1., 0., 0., 0., 0., 1., 0., 0., 0., 1., 0., 0., 0., 0., 0., 0.])\n",
      "torch.Size([16, 512])\n",
      "tensor([1., 1., 0., 1., 0., 1., 0., 1., 1., 1., 0., 0., 1., 0., 0., 1.])\n",
      "torch.Size([16, 512])\n",
      "tensor([1., 0., 1., 1., 0., 0., 0., 0., 1., 1., 1., 1., 1., 0., 0., 0.])\n",
      "torch.Size([12, 512])\n",
      "tensor([0., 1., 0., 1., 1., 1., 1., 0., 1., 1., 0., 1.])\n"
     ]
    }
   ],
   "source": [
    "for batch in train_dataloader:\n",
    "    print(batch[\"input_ids\"].shape)  # (batch_size, max_length)\n",
    "    print(batch[\"labels\"])  # (batch_size,)\n"
   ]
  },
  {
   "cell_type": "code",
   "execution_count": 1,
   "metadata": {},
   "outputs": [
    {
     "name": "stderr",
     "output_type": "stream",
     "text": [
      "/sc/arion/projects/pandeg01a/susmaa01/nona/.venv/lib64/python3.9/site-packages/tqdm/auto.py:21: TqdmWarning: IProgress not found. Please update jupyter and ipywidgets. See https://ipywidgets.readthedocs.io/en/stable/user_install.html\n",
      "  from .autonotebook import tqdm as notebook_tqdm\n"
     ]
    },
    {
     "ename": "KeyboardInterrupt",
     "evalue": "",
     "output_type": "error",
     "traceback": [
      "\u001b[0;31m---------------------------------------------------------------------------\u001b[0m",
      "\u001b[0;31mKeyboardInterrupt\u001b[0m                         Traceback (most recent call last)",
      "Cell \u001b[0;32mIn[1], line 1\u001b[0m\n\u001b[0;32m----> 1\u001b[0m \u001b[39mfrom\u001b[39;00m\u001b[39m \u001b[39m\u001b[39mtransformers\u001b[39;00m\u001b[39m \u001b[39m\u001b[39mimport\u001b[39;00m AutoModel\n\u001b[1;32m      2\u001b[0m \u001b[39mimport\u001b[39;00m\u001b[39m \u001b[39m\u001b[39mtorch\u001b[39;00m\u001b[39m.\u001b[39;00m\u001b[39mnn\u001b[39;00m\u001b[39m \u001b[39m\u001b[39mas\u001b[39;00m\u001b[39m \u001b[39m\u001b[39mnn\u001b[39;00m\n\u001b[1;32m      3\u001b[0m \u001b[39mimport\u001b[39;00m\u001b[39m \u001b[39m\u001b[39mtorch\u001b[39;00m\n",
      "File \u001b[0;32m<frozen importlib._bootstrap>:1055\u001b[0m, in \u001b[0;36m_handle_fromlist\u001b[0;34m(module, fromlist, import_, recursive)\u001b[0m\n",
      "File \u001b[0;32m/sc/arion/projects/pandeg01a/susmaa01/nona/.venv/lib64/python3.9/site-packages/transformers/utils/import_utils.py:1852\u001b[0m, in \u001b[0;36m_LazyModule.__getattr__\u001b[0;34m(self, name)\u001b[0m\n\u001b[1;32m   1850\u001b[0m \u001b[39melif\u001b[39;00m name \u001b[39min\u001b[39;00m \u001b[39mself\u001b[39m\u001b[39m.\u001b[39m_class_to_module\u001b[39m.\u001b[39mkeys():\n\u001b[1;32m   1851\u001b[0m     module \u001b[39m=\u001b[39m \u001b[39mself\u001b[39m\u001b[39m.\u001b[39m_get_module(\u001b[39mself\u001b[39m\u001b[39m.\u001b[39m_class_to_module[name])\n\u001b[0;32m-> 1852\u001b[0m     value \u001b[39m=\u001b[39m \u001b[39mgetattr\u001b[39;49m(module, name)\n\u001b[1;32m   1853\u001b[0m \u001b[39melif\u001b[39;00m name \u001b[39min\u001b[39;00m \u001b[39mself\u001b[39m\u001b[39m.\u001b[39m_modules:\n\u001b[1;32m   1854\u001b[0m     value \u001b[39m=\u001b[39m \u001b[39mself\u001b[39m\u001b[39m.\u001b[39m_get_module(name)\n",
      "File \u001b[0;32m/sc/arion/projects/pandeg01a/susmaa01/nona/.venv/lib64/python3.9/site-packages/transformers/utils/import_utils.py:1851\u001b[0m, in \u001b[0;36m_LazyModule.__getattr__\u001b[0;34m(self, name)\u001b[0m\n\u001b[1;32m   1849\u001b[0m     value \u001b[39m=\u001b[39m Placeholder\n\u001b[1;32m   1850\u001b[0m \u001b[39melif\u001b[39;00m name \u001b[39min\u001b[39;00m \u001b[39mself\u001b[39m\u001b[39m.\u001b[39m_class_to_module\u001b[39m.\u001b[39mkeys():\n\u001b[0;32m-> 1851\u001b[0m     module \u001b[39m=\u001b[39m \u001b[39mself\u001b[39;49m\u001b[39m.\u001b[39;49m_get_module(\u001b[39mself\u001b[39;49m\u001b[39m.\u001b[39;49m_class_to_module[name])\n\u001b[1;32m   1852\u001b[0m     value \u001b[39m=\u001b[39m \u001b[39mgetattr\u001b[39m(module, name)\n\u001b[1;32m   1853\u001b[0m \u001b[39melif\u001b[39;00m name \u001b[39min\u001b[39;00m \u001b[39mself\u001b[39m\u001b[39m.\u001b[39m_modules:\n",
      "File \u001b[0;32m/sc/arion/projects/pandeg01a/susmaa01/nona/.venv/lib64/python3.9/site-packages/transformers/utils/import_utils.py:1863\u001b[0m, in \u001b[0;36m_LazyModule._get_module\u001b[0;34m(self, module_name)\u001b[0m\n\u001b[1;32m   1861\u001b[0m \u001b[39mdef\u001b[39;00m\u001b[39m \u001b[39m\u001b[39m_get_module\u001b[39m(\u001b[39mself\u001b[39m, module_name: \u001b[39mstr\u001b[39m):\n\u001b[1;32m   1862\u001b[0m     \u001b[39mtry\u001b[39;00m:\n\u001b[0;32m-> 1863\u001b[0m         \u001b[39mreturn\u001b[39;00m importlib\u001b[39m.\u001b[39;49mimport_module(\u001b[39m\"\u001b[39;49m\u001b[39m.\u001b[39;49m\u001b[39m\"\u001b[39;49m \u001b[39m+\u001b[39;49m module_name, \u001b[39mself\u001b[39;49m\u001b[39m.\u001b[39;49m\u001b[39m__name__\u001b[39;49m)\n\u001b[1;32m   1864\u001b[0m     \u001b[39mexcept\u001b[39;00m \u001b[39mException\u001b[39;00m \u001b[39mas\u001b[39;00m e:\n\u001b[1;32m   1865\u001b[0m         \u001b[39mraise\u001b[39;00m \u001b[39mRuntimeError\u001b[39;00m(\n\u001b[1;32m   1866\u001b[0m             \u001b[39mf\u001b[39m\u001b[39m\"\u001b[39m\u001b[39mFailed to import \u001b[39m\u001b[39m{\u001b[39;00m\u001b[39mself\u001b[39m\u001b[39m.\u001b[39m\u001b[39m__name__\u001b[39m\u001b[39m}\u001b[39;00m\u001b[39m.\u001b[39m\u001b[39m{\u001b[39;00mmodule_name\u001b[39m}\u001b[39;00m\u001b[39m because of the following error (look up to see its\u001b[39m\u001b[39m\"\u001b[39m\n\u001b[1;32m   1867\u001b[0m             \u001b[39mf\u001b[39m\u001b[39m\"\u001b[39m\u001b[39m traceback):\u001b[39m\u001b[39m\\n\u001b[39;00m\u001b[39m{\u001b[39;00me\u001b[39m}\u001b[39;00m\u001b[39m\"\u001b[39m\n\u001b[1;32m   1868\u001b[0m         ) \u001b[39mfrom\u001b[39;00m\u001b[39m \u001b[39m\u001b[39me\u001b[39;00m\n",
      "File \u001b[0;32m/usr/lib64/python3.9/importlib/__init__.py:127\u001b[0m, in \u001b[0;36mimport_module\u001b[0;34m(name, package)\u001b[0m\n\u001b[1;32m    125\u001b[0m             \u001b[39mbreak\u001b[39;00m\n\u001b[1;32m    126\u001b[0m         level \u001b[39m+\u001b[39m\u001b[39m=\u001b[39m \u001b[39m1\u001b[39m\n\u001b[0;32m--> 127\u001b[0m \u001b[39mreturn\u001b[39;00m _bootstrap\u001b[39m.\u001b[39;49m_gcd_import(name[level:], package, level)\n",
      "File \u001b[0;32m/sc/arion/projects/pandeg01a/susmaa01/nona/.venv/lib64/python3.9/site-packages/transformers/models/auto/modeling_auto.py:21\u001b[0m\n\u001b[1;32m     18\u001b[0m \u001b[39mfrom\u001b[39;00m\u001b[39m \u001b[39m\u001b[39mcollections\u001b[39;00m\u001b[39m \u001b[39m\u001b[39mimport\u001b[39;00m OrderedDict\n\u001b[1;32m     20\u001b[0m \u001b[39mfrom\u001b[39;00m\u001b[39m \u001b[39m\u001b[39m.\u001b[39;00m\u001b[39m.\u001b[39;00m\u001b[39m.\u001b[39;00m\u001b[39mutils\u001b[39;00m\u001b[39m \u001b[39m\u001b[39mimport\u001b[39;00m logging\n\u001b[0;32m---> 21\u001b[0m \u001b[39mfrom\u001b[39;00m\u001b[39m \u001b[39m\u001b[39m.\u001b[39;00m\u001b[39mauto_factory\u001b[39;00m\u001b[39m \u001b[39m\u001b[39mimport\u001b[39;00m (\n\u001b[1;32m     22\u001b[0m     _BaseAutoBackboneClass,\n\u001b[1;32m     23\u001b[0m     _BaseAutoModelClass,\n\u001b[1;32m     24\u001b[0m     _LazyAutoMapping,\n\u001b[1;32m     25\u001b[0m     auto_class_update,\n\u001b[1;32m     26\u001b[0m )\n\u001b[1;32m     27\u001b[0m \u001b[39mfrom\u001b[39;00m\u001b[39m \u001b[39m\u001b[39m.\u001b[39;00m\u001b[39mconfiguration_auto\u001b[39;00m\u001b[39m \u001b[39m\u001b[39mimport\u001b[39;00m CONFIG_MAPPING_NAMES\n\u001b[1;32m     30\u001b[0m logger \u001b[39m=\u001b[39m logging\u001b[39m.\u001b[39mget_logger(\u001b[39m__name__\u001b[39m)\n",
      "File \u001b[0;32m/sc/arion/projects/pandeg01a/susmaa01/nona/.venv/lib64/python3.9/site-packages/transformers/models/auto/auto_factory.py:40\u001b[0m\n\u001b[1;32m     36\u001b[0m \u001b[39mfrom\u001b[39;00m\u001b[39m \u001b[39m\u001b[39m.\u001b[39;00m\u001b[39mconfiguration_auto\u001b[39;00m\u001b[39m \u001b[39m\u001b[39mimport\u001b[39;00m AutoConfig, model_type_to_module_name, replace_list_option_in_docstrings\n\u001b[1;32m     39\u001b[0m \u001b[39mif\u001b[39;00m is_torch_available():\n\u001b[0;32m---> 40\u001b[0m     \u001b[39mfrom\u001b[39;00m\u001b[39m \u001b[39m\u001b[39m.\u001b[39;00m\u001b[39m.\u001b[39;00m\u001b[39m.\u001b[39;00m\u001b[39mgeneration\u001b[39;00m\u001b[39m \u001b[39m\u001b[39mimport\u001b[39;00m GenerationMixin\n\u001b[1;32m     43\u001b[0m logger \u001b[39m=\u001b[39m logging\u001b[39m.\u001b[39mget_logger(\u001b[39m__name__\u001b[39m)\n\u001b[1;32m     46\u001b[0m CLASS_DOCSTRING \u001b[39m=\u001b[39m \u001b[39m\"\"\"\u001b[39m\n\u001b[1;32m     47\u001b[0m \u001b[39m    This is a generic model class that will be instantiated as one of the model classes of the library when created\u001b[39m\n\u001b[1;32m     48\u001b[0m \u001b[39m    with the [`~BaseAutoModelClass.from_pretrained`] class method or the [`~BaseAutoModelClass.from_config`] class\u001b[39m\n\u001b[0;32m   (...)\u001b[0m\n\u001b[1;32m     51\u001b[0m \u001b[39m    This class cannot be instantiated directly using `__init__()` (throws an error).\u001b[39m\n\u001b[1;32m     52\u001b[0m \u001b[39m\"\"\"\u001b[39m\n",
      "File \u001b[0;32m<frozen importlib._bootstrap>:1055\u001b[0m, in \u001b[0;36m_handle_fromlist\u001b[0;34m(module, fromlist, import_, recursive)\u001b[0m\n",
      "File \u001b[0;32m/sc/arion/projects/pandeg01a/susmaa01/nona/.venv/lib64/python3.9/site-packages/transformers/utils/import_utils.py:1851\u001b[0m, in \u001b[0;36m_LazyModule.__getattr__\u001b[0;34m(self, name)\u001b[0m\n\u001b[1;32m   1849\u001b[0m     value \u001b[39m=\u001b[39m Placeholder\n\u001b[1;32m   1850\u001b[0m \u001b[39melif\u001b[39;00m name \u001b[39min\u001b[39;00m \u001b[39mself\u001b[39m\u001b[39m.\u001b[39m_class_to_module\u001b[39m.\u001b[39mkeys():\n\u001b[0;32m-> 1851\u001b[0m     module \u001b[39m=\u001b[39m \u001b[39mself\u001b[39;49m\u001b[39m.\u001b[39;49m_get_module(\u001b[39mself\u001b[39;49m\u001b[39m.\u001b[39;49m_class_to_module[name])\n\u001b[1;32m   1852\u001b[0m     value \u001b[39m=\u001b[39m \u001b[39mgetattr\u001b[39m(module, name)\n\u001b[1;32m   1853\u001b[0m \u001b[39melif\u001b[39;00m name \u001b[39min\u001b[39;00m \u001b[39mself\u001b[39m\u001b[39m.\u001b[39m_modules:\n",
      "File \u001b[0;32m/sc/arion/projects/pandeg01a/susmaa01/nona/.venv/lib64/python3.9/site-packages/transformers/utils/import_utils.py:1863\u001b[0m, in \u001b[0;36m_LazyModule._get_module\u001b[0;34m(self, module_name)\u001b[0m\n\u001b[1;32m   1861\u001b[0m \u001b[39mdef\u001b[39;00m\u001b[39m \u001b[39m\u001b[39m_get_module\u001b[39m(\u001b[39mself\u001b[39m, module_name: \u001b[39mstr\u001b[39m):\n\u001b[1;32m   1862\u001b[0m     \u001b[39mtry\u001b[39;00m:\n\u001b[0;32m-> 1863\u001b[0m         \u001b[39mreturn\u001b[39;00m importlib\u001b[39m.\u001b[39;49mimport_module(\u001b[39m\"\u001b[39;49m\u001b[39m.\u001b[39;49m\u001b[39m\"\u001b[39;49m \u001b[39m+\u001b[39;49m module_name, \u001b[39mself\u001b[39;49m\u001b[39m.\u001b[39;49m\u001b[39m__name__\u001b[39;49m)\n\u001b[1;32m   1864\u001b[0m     \u001b[39mexcept\u001b[39;00m \u001b[39mException\u001b[39;00m \u001b[39mas\u001b[39;00m e:\n\u001b[1;32m   1865\u001b[0m         \u001b[39mraise\u001b[39;00m \u001b[39mRuntimeError\u001b[39;00m(\n\u001b[1;32m   1866\u001b[0m             \u001b[39mf\u001b[39m\u001b[39m\"\u001b[39m\u001b[39mFailed to import \u001b[39m\u001b[39m{\u001b[39;00m\u001b[39mself\u001b[39m\u001b[39m.\u001b[39m\u001b[39m__name__\u001b[39m\u001b[39m}\u001b[39;00m\u001b[39m.\u001b[39m\u001b[39m{\u001b[39;00mmodule_name\u001b[39m}\u001b[39;00m\u001b[39m because of the following error (look up to see its\u001b[39m\u001b[39m\"\u001b[39m\n\u001b[1;32m   1867\u001b[0m             \u001b[39mf\u001b[39m\u001b[39m\"\u001b[39m\u001b[39m traceback):\u001b[39m\u001b[39m\\n\u001b[39;00m\u001b[39m{\u001b[39;00me\u001b[39m}\u001b[39;00m\u001b[39m\"\u001b[39m\n\u001b[1;32m   1868\u001b[0m         ) \u001b[39mfrom\u001b[39;00m\u001b[39m \u001b[39m\u001b[39me\u001b[39;00m\n",
      "File \u001b[0;32m/usr/lib64/python3.9/importlib/__init__.py:127\u001b[0m, in \u001b[0;36mimport_module\u001b[0;34m(name, package)\u001b[0m\n\u001b[1;32m    125\u001b[0m             \u001b[39mbreak\u001b[39;00m\n\u001b[1;32m    126\u001b[0m         level \u001b[39m+\u001b[39m\u001b[39m=\u001b[39m \u001b[39m1\u001b[39m\n\u001b[0;32m--> 127\u001b[0m \u001b[39mreturn\u001b[39;00m _bootstrap\u001b[39m.\u001b[39;49m_gcd_import(name[level:], package, level)\n",
      "File \u001b[0;32m/sc/arion/projects/pandeg01a/susmaa01/nona/.venv/lib64/python3.9/site-packages/transformers/generation/utils.py:41\u001b[0m\n\u001b[1;32m     39\u001b[0m \u001b[39mfrom\u001b[39;00m\u001b[39m \u001b[39m\u001b[39m.\u001b[39;00m\u001b[39m.\u001b[39;00m\u001b[39mintegrations\u001b[39;00m\u001b[39m.\u001b[39;00m\u001b[39mfsdp\u001b[39;00m\u001b[39m \u001b[39m\u001b[39mimport\u001b[39;00m is_fsdp_managed_module\n\u001b[1;32m     40\u001b[0m \u001b[39mfrom\u001b[39;00m\u001b[39m \u001b[39m\u001b[39m.\u001b[39;00m\u001b[39m.\u001b[39;00m\u001b[39mmodeling_outputs\u001b[39;00m\u001b[39m \u001b[39m\u001b[39mimport\u001b[39;00m CausalLMOutputWithPast, Seq2SeqLMOutput\n\u001b[0;32m---> 41\u001b[0m \u001b[39mfrom\u001b[39;00m\u001b[39m \u001b[39m\u001b[39m.\u001b[39;00m\u001b[39m.\u001b[39;00m\u001b[39mpytorch_utils\u001b[39;00m\u001b[39m \u001b[39m\u001b[39mimport\u001b[39;00m isin_mps_friendly\n\u001b[1;32m     42\u001b[0m \u001b[39mfrom\u001b[39;00m\u001b[39m \u001b[39m\u001b[39m.\u001b[39;00m\u001b[39m.\u001b[39;00m\u001b[39mtokenization_utils\u001b[39;00m\u001b[39m \u001b[39m\u001b[39mimport\u001b[39;00m ExtensionsTrie\n\u001b[1;32m     43\u001b[0m \u001b[39mfrom\u001b[39;00m\u001b[39m \u001b[39m\u001b[39m.\u001b[39;00m\u001b[39m.\u001b[39;00m\u001b[39mutils\u001b[39;00m\u001b[39m \u001b[39m\u001b[39mimport\u001b[39;00m (\n\u001b[1;32m     44\u001b[0m     ModelOutput,\n\u001b[1;32m     45\u001b[0m     is_accelerate_available,\n\u001b[0;32m   (...)\u001b[0m\n\u001b[1;32m     49\u001b[0m     logging,\n\u001b[1;32m     50\u001b[0m )\n",
      "File \u001b[0;32m/sc/arion/projects/pandeg01a/susmaa01/nona/.venv/lib64/python3.9/site-packages/transformers/pytorch_utils.py:48\u001b[0m\n\u001b[1;32m     45\u001b[0m _torch_distributed_available \u001b[39m=\u001b[39m torch\u001b[39m.\u001b[39mdistributed\u001b[39m.\u001b[39mis_available()\n\u001b[1;32m     47\u001b[0m \u001b[39mif\u001b[39;00m is_torch_greater_or_equal(\u001b[39m\"\u001b[39m\u001b[39m2.5\u001b[39m\u001b[39m\"\u001b[39m) \u001b[39mand\u001b[39;00m _torch_distributed_available:\n\u001b[0;32m---> 48\u001b[0m     \u001b[39mfrom\u001b[39;00m\u001b[39m \u001b[39m\u001b[39mtorch\u001b[39;00m\u001b[39m.\u001b[39;00m\u001b[39mdistributed\u001b[39;00m\u001b[39m.\u001b[39;00m\u001b[39mtensor\u001b[39;00m\u001b[39m \u001b[39m\u001b[39mimport\u001b[39;00m Replicate\n\u001b[1;32m     49\u001b[0m     \u001b[39mfrom\u001b[39;00m\u001b[39m \u001b[39m\u001b[39mtorch\u001b[39;00m\u001b[39m.\u001b[39;00m\u001b[39mdistributed\u001b[39;00m\u001b[39m.\u001b[39;00m\u001b[39mtensor\u001b[39;00m\u001b[39m.\u001b[39;00m\u001b[39mparallel\u001b[39;00m\u001b[39m \u001b[39m\u001b[39mimport\u001b[39;00m (\n\u001b[1;32m     50\u001b[0m         ColwiseParallel,\n\u001b[1;32m     51\u001b[0m         RowwiseParallel,\n\u001b[1;32m     52\u001b[0m     )\n\u001b[1;32m     55\u001b[0m \u001b[39mdef\u001b[39;00m\u001b[39m \u001b[39m\u001b[39msoftmax_backward_data\u001b[39m(parent, grad_output, output, dim, \u001b[39mself\u001b[39m):\n",
      "File \u001b[0;32m/sc/arion/projects/pandeg01a/susmaa01/nona/.venv/lib64/python3.9/site-packages/torch/distributed/tensor/__init__.py:4\u001b[0m\n\u001b[1;32m      1\u001b[0m \u001b[39m# Copyright (c) Meta Platforms, Inc. and affiliates\u001b[39;00m\n\u001b[1;32m      3\u001b[0m \u001b[39mimport\u001b[39;00m\u001b[39m \u001b[39m\u001b[39mtorch\u001b[39;00m\n\u001b[0;32m----> 4\u001b[0m \u001b[39mimport\u001b[39;00m\u001b[39m \u001b[39m\u001b[39mtorch\u001b[39;00m\u001b[39m.\u001b[39;00m\u001b[39mdistributed\u001b[39;00m\u001b[39m.\u001b[39;00m\u001b[39mtensor\u001b[39;00m\u001b[39m.\u001b[39;00m\u001b[39m_ops\u001b[39;00m  \u001b[39m# force import all built-in dtensor ops\u001b[39;00m\n\u001b[1;32m      5\u001b[0m \u001b[39mfrom\u001b[39;00m\u001b[39m \u001b[39m\u001b[39mtorch\u001b[39;00m\u001b[39m.\u001b[39;00m\u001b[39mdistributed\u001b[39;00m\u001b[39m.\u001b[39;00m\u001b[39mdevice_mesh\u001b[39;00m\u001b[39m \u001b[39m\u001b[39mimport\u001b[39;00m DeviceMesh, init_device_mesh  \u001b[39m# noqa: F401\u001b[39;00m\n\u001b[1;32m      6\u001b[0m \u001b[39mfrom\u001b[39;00m\u001b[39m \u001b[39m\u001b[39mtorch\u001b[39;00m\u001b[39m.\u001b[39;00m\u001b[39mdistributed\u001b[39;00m\u001b[39m.\u001b[39;00m\u001b[39mtensor\u001b[39;00m\u001b[39m.\u001b[39;00m\u001b[39m_api\u001b[39;00m\u001b[39m \u001b[39m\u001b[39mimport\u001b[39;00m (\n\u001b[1;32m      7\u001b[0m     distribute_module,\n\u001b[1;32m      8\u001b[0m     distribute_tensor,\n\u001b[0;32m   (...)\u001b[0m\n\u001b[1;32m     15\u001b[0m     zeros,\n\u001b[1;32m     16\u001b[0m )\n",
      "File \u001b[0;32m/sc/arion/projects/pandeg01a/susmaa01/nona/.venv/lib64/python3.9/site-packages/torch/distributed/tensor/_ops/__init__.py:2\u001b[0m\n\u001b[1;32m      1\u001b[0m \u001b[39m# Copyright (c) Meta Platforms, Inc. and affiliates\u001b[39;00m\n\u001b[0;32m----> 2\u001b[0m \u001b[39mfrom\u001b[39;00m\u001b[39m \u001b[39m\u001b[39m.\u001b[39;00m\u001b[39m_conv_ops\u001b[39;00m\u001b[39m \u001b[39m\u001b[39mimport\u001b[39;00m \u001b[39m*\u001b[39m  \u001b[39m# noqa: F403\u001b[39;00m\n\u001b[1;32m      3\u001b[0m \u001b[39mfrom\u001b[39;00m\u001b[39m \u001b[39m\u001b[39m.\u001b[39;00m\u001b[39m_embedding_ops\u001b[39;00m\u001b[39m \u001b[39m\u001b[39mimport\u001b[39;00m \u001b[39m*\u001b[39m  \u001b[39m# noqa: F403\u001b[39;00m\n\u001b[1;32m      4\u001b[0m \u001b[39mfrom\u001b[39;00m\u001b[39m \u001b[39m\u001b[39m.\u001b[39;00m\u001b[39m_experimental_ops\u001b[39;00m\u001b[39m \u001b[39m\u001b[39mimport\u001b[39;00m \u001b[39m*\u001b[39m  \u001b[39m# noqa: F403\u001b[39;00m\n",
      "File \u001b[0;32m/sc/arion/projects/pandeg01a/susmaa01/nona/.venv/lib64/python3.9/site-packages/torch/distributed/tensor/_ops/_conv_ops.py:7\u001b[0m\n\u001b[1;32m      4\u001b[0m \u001b[39mfrom\u001b[39;00m\u001b[39m \u001b[39m\u001b[39mtyping\u001b[39;00m\u001b[39m \u001b[39m\u001b[39mimport\u001b[39;00m List\n\u001b[1;32m      6\u001b[0m \u001b[39mimport\u001b[39;00m\u001b[39m \u001b[39m\u001b[39mtorch\u001b[39;00m\n\u001b[0;32m----> 7\u001b[0m \u001b[39mfrom\u001b[39;00m\u001b[39m \u001b[39m\u001b[39mtorch\u001b[39;00m\u001b[39m.\u001b[39;00m\u001b[39mdistributed\u001b[39;00m\u001b[39m.\u001b[39;00m\u001b[39mtensor\u001b[39;00m\u001b[39m.\u001b[39;00m\u001b[39m_dtensor_spec\u001b[39;00m\u001b[39m \u001b[39m\u001b[39mimport\u001b[39;00m DTensorSpec, TensorMeta\n\u001b[1;32m      8\u001b[0m \u001b[39mfrom\u001b[39;00m\u001b[39m \u001b[39m\u001b[39mtorch\u001b[39;00m\u001b[39m.\u001b[39;00m\u001b[39mdistributed\u001b[39;00m\u001b[39m.\u001b[39;00m\u001b[39mtensor\u001b[39;00m\u001b[39m.\u001b[39;00m\u001b[39m_op_schema\u001b[39;00m\u001b[39m \u001b[39m\u001b[39mimport\u001b[39;00m OpSchema, OutputSharding\n\u001b[1;32m      9\u001b[0m \u001b[39mfrom\u001b[39;00m\u001b[39m \u001b[39m\u001b[39mtorch\u001b[39;00m\u001b[39m.\u001b[39;00m\u001b[39mdistributed\u001b[39;00m\u001b[39m.\u001b[39;00m\u001b[39mtensor\u001b[39;00m\u001b[39m.\u001b[39;00m\u001b[39m_ops\u001b[39;00m\u001b[39m.\u001b[39;00m\u001b[39mutils\u001b[39;00m\u001b[39m \u001b[39m\u001b[39mimport\u001b[39;00m register_prop_rule\n",
      "File \u001b[0;32m/sc/arion/projects/pandeg01a/susmaa01/nona/.venv/lib64/python3.9/site-packages/torch/distributed/tensor/_dtensor_spec.py:6\u001b[0m\n\u001b[1;32m      4\u001b[0m \u001b[39mimport\u001b[39;00m\u001b[39m \u001b[39m\u001b[39mtorch\u001b[39;00m\n\u001b[1;32m      5\u001b[0m \u001b[39mfrom\u001b[39;00m\u001b[39m \u001b[39m\u001b[39mtorch\u001b[39;00m\u001b[39m.\u001b[39;00m\u001b[39mdistributed\u001b[39;00m\u001b[39m.\u001b[39;00m\u001b[39mdevice_mesh\u001b[39;00m\u001b[39m \u001b[39m\u001b[39mimport\u001b[39;00m DeviceMesh\n\u001b[0;32m----> 6\u001b[0m \u001b[39mfrom\u001b[39;00m\u001b[39m \u001b[39m\u001b[39mtorch\u001b[39;00m\u001b[39m.\u001b[39;00m\u001b[39mdistributed\u001b[39;00m\u001b[39m.\u001b[39;00m\u001b[39mtensor\u001b[39;00m\u001b[39m.\u001b[39;00m\u001b[39mplacement_types\u001b[39;00m\u001b[39m \u001b[39m\u001b[39mimport\u001b[39;00m (\n\u001b[1;32m      7\u001b[0m     Partial,\n\u001b[1;32m      8\u001b[0m     Placement,\n\u001b[1;32m      9\u001b[0m     Replicate,\n\u001b[1;32m     10\u001b[0m     Shard,\n\u001b[1;32m     11\u001b[0m )\n\u001b[1;32m     14\u001b[0m \u001b[39mclass\u001b[39;00m\u001b[39m \u001b[39m\u001b[39mTensorMeta\u001b[39;00m(NamedTuple):\n\u001b[1;32m     15\u001b[0m     \u001b[39m# simple named tuple to represent tensor metadata\u001b[39;00m\n\u001b[1;32m     16\u001b[0m     \u001b[39m# intentionally to stay simple only for sharding\u001b[39;00m\n\u001b[1;32m     17\u001b[0m     \u001b[39m# propagation purposes.\u001b[39;00m\n\u001b[1;32m     18\u001b[0m     shape: torch\u001b[39m.\u001b[39mSize\n",
      "File \u001b[0;32m/sc/arion/projects/pandeg01a/susmaa01/nona/.venv/lib64/python3.9/site-packages/torch/distributed/tensor/placement_types.py:10\u001b[0m\n\u001b[1;32m      8\u001b[0m \u001b[39mimport\u001b[39;00m\u001b[39m \u001b[39m\u001b[39mtorch\u001b[39;00m\u001b[39m.\u001b[39;00m\u001b[39mdistributed\u001b[39;00m\u001b[39m.\u001b[39;00m\u001b[39m_functional_collectives\u001b[39;00m\u001b[39m \u001b[39m\u001b[39mas\u001b[39;00m\u001b[39m \u001b[39m\u001b[39mfuncol\u001b[39;00m\n\u001b[1;32m      9\u001b[0m \u001b[39mfrom\u001b[39;00m\u001b[39m \u001b[39m\u001b[39mtorch\u001b[39;00m\u001b[39m.\u001b[39;00m\u001b[39mdistributed\u001b[39;00m\u001b[39m.\u001b[39;00m\u001b[39mdevice_mesh\u001b[39;00m\u001b[39m \u001b[39m\u001b[39mimport\u001b[39;00m DeviceMesh\n\u001b[0;32m---> 10\u001b[0m \u001b[39mfrom\u001b[39;00m\u001b[39m \u001b[39m\u001b[39mtorch\u001b[39;00m\u001b[39m.\u001b[39;00m\u001b[39mdistributed\u001b[39;00m\u001b[39m.\u001b[39;00m\u001b[39mtensor\u001b[39;00m\u001b[39m.\u001b[39;00m\u001b[39m_collective_utils\u001b[39;00m\u001b[39m \u001b[39m\u001b[39mimport\u001b[39;00m (\n\u001b[1;32m     11\u001b[0m     fill_empty_tensor_to_shards,\n\u001b[1;32m     12\u001b[0m     mesh_broadcast,\n\u001b[1;32m     13\u001b[0m     mesh_scatter,\n\u001b[1;32m     14\u001b[0m     pad_tensor,\n\u001b[1;32m     15\u001b[0m     shard_dim_alltoall,\n\u001b[1;32m     16\u001b[0m     unpad_tensor,\n\u001b[1;32m     17\u001b[0m )\n\u001b[1;32m     20\u001b[0m __all__ \u001b[39m=\u001b[39m [\u001b[39m\"\u001b[39m\u001b[39mPlacement\u001b[39m\u001b[39m\"\u001b[39m, \u001b[39m\"\u001b[39m\u001b[39mShard\u001b[39m\u001b[39m\"\u001b[39m, \u001b[39m\"\u001b[39m\u001b[39mReplicate\u001b[39m\u001b[39m\"\u001b[39m, \u001b[39m\"\u001b[39m\u001b[39mPartial\u001b[39m\u001b[39m\"\u001b[39m]\n\u001b[1;32m     23\u001b[0m \u001b[39mclass\u001b[39;00m\u001b[39m \u001b[39m\u001b[39mPlacement\u001b[39;00m:\n",
      "File \u001b[0;32m/sc/arion/projects/pandeg01a/susmaa01/nona/.venv/lib64/python3.9/site-packages/torch/distributed/tensor/_collective_utils.py:32\u001b[0m\n\u001b[1;32m     26\u001b[0m logger \u001b[39m=\u001b[39m logging\u001b[39m.\u001b[39mgetLogger(\u001b[39m__name__\u001b[39m)\n\u001b[1;32m     29\u001b[0m \u001b[39mif\u001b[39;00m \u001b[39mnot\u001b[39;00m torch\u001b[39m.\u001b[39m_running_with_deploy():\n\u001b[1;32m     31\u001b[0m     \u001b[39m@torch\u001b[39;49m\u001b[39m.\u001b[39;49mlibrary\u001b[39m.\u001b[39;49mregister_fake(\u001b[39m\"\u001b[39;49m\u001b[39m_dtensor::shard_dim_alltoall\u001b[39;49m\u001b[39m\"\u001b[39;49m)\n\u001b[0;32m---> 32\u001b[0m     \u001b[39mdef\u001b[39;49;00m\u001b[39m \u001b[39;49m\u001b[39m_shard_dim_alltoall_meta\u001b[39;49m(\u001b[39minput\u001b[39;49m, gather_dim, shard_dim, group_name):\n\u001b[1;32m     33\u001b[0m         group_size \u001b[39m=\u001b[39;49m _get_group_size_by_name(group_name)\n\u001b[1;32m     34\u001b[0m         stacked_list \u001b[39m=\u001b[39;49m [torch\u001b[39m.\u001b[39;49mempty_like(\u001b[39minput\u001b[39;49m) \u001b[39mfor\u001b[39;49;00m _ \u001b[39min\u001b[39;49;00m \u001b[39mrange\u001b[39;49m(group_size)]\n",
      "File \u001b[0;32m/sc/arion/projects/pandeg01a/susmaa01/nona/.venv/lib64/python3.9/site-packages/torch/library.py:828\u001b[0m, in \u001b[0;36mregister_fake.<locals>.register\u001b[0;34m(func)\u001b[0m\n\u001b[1;32m    826\u001b[0m \u001b[39melse\u001b[39;00m:\n\u001b[1;32m    827\u001b[0m     use_lib \u001b[39m=\u001b[39m lib\n\u001b[0;32m--> 828\u001b[0m use_lib\u001b[39m.\u001b[39;49m_register_fake(op_name, func, _stacklevel\u001b[39m=\u001b[39;49mstacklevel \u001b[39m+\u001b[39;49m \u001b[39m1\u001b[39;49m)\n\u001b[1;32m    829\u001b[0m \u001b[39mreturn\u001b[39;00m func\n",
      "File \u001b[0;32m/sc/arion/projects/pandeg01a/susmaa01/nona/.venv/lib64/python3.9/site-packages/torch/library.py:177\u001b[0m, in \u001b[0;36mLibrary._register_fake\u001b[0;34m(self, op_name, fn, _stacklevel)\u001b[0m\n\u001b[1;32m    174\u001b[0m     _library\u001b[39m.\u001b[39mutils\u001b[39m.\u001b[39mwarn_deploy()\n\u001b[1;32m    175\u001b[0m     \u001b[39mreturn\u001b[39;00m\n\u001b[0;32m--> 177\u001b[0m source \u001b[39m=\u001b[39m torch\u001b[39m.\u001b[39;49m_library\u001b[39m.\u001b[39;49mutils\u001b[39m.\u001b[39;49mget_source(_stacklevel \u001b[39m+\u001b[39;49m \u001b[39m1\u001b[39;49m)\n\u001b[1;32m    178\u001b[0m frame \u001b[39m=\u001b[39m sys\u001b[39m.\u001b[39m_getframe(_stacklevel)\n\u001b[1;32m    179\u001b[0m caller_module \u001b[39m=\u001b[39m inspect\u001b[39m.\u001b[39mgetmodule(frame)\n",
      "File \u001b[0;32m/sc/arion/projects/pandeg01a/susmaa01/nona/.venv/lib64/python3.9/site-packages/torch/_library/utils.py:53\u001b[0m, in \u001b[0;36mget_source\u001b[0;34m(stacklevel)\u001b[0m\n\u001b[1;32m     44\u001b[0m \u001b[39mdef\u001b[39;00m\u001b[39m \u001b[39m\u001b[39mget_source\u001b[39m(stacklevel: \u001b[39mint\u001b[39m) \u001b[39m-\u001b[39m\u001b[39m>\u001b[39m \u001b[39mstr\u001b[39m:\n\u001b[1;32m     45\u001b[0m \u001b[39m    \u001b[39m\u001b[39m\"\"\"Get a string that represents the caller.\u001b[39;00m\n\u001b[1;32m     46\u001b[0m \n\u001b[1;32m     47\u001b[0m \u001b[39m    Example: \"/path/to/foo.py:42\"\u001b[39;00m\n\u001b[0;32m   (...)\u001b[0m\n\u001b[1;32m     51\u001b[0m \u001b[39m    etc.\u001b[39;00m\n\u001b[1;32m     52\u001b[0m \u001b[39m    \"\"\"\u001b[39;00m\n\u001b[0;32m---> 53\u001b[0m     frame \u001b[39m=\u001b[39m inspect\u001b[39m.\u001b[39;49mgetframeinfo(sys\u001b[39m.\u001b[39;49m_getframe(stacklevel))\n\u001b[1;32m     54\u001b[0m     source \u001b[39m=\u001b[39m \u001b[39mf\u001b[39m\u001b[39m\"\u001b[39m\u001b[39m{\u001b[39;00mframe\u001b[39m.\u001b[39mfilename\u001b[39m}\u001b[39;00m\u001b[39m:\u001b[39m\u001b[39m{\u001b[39;00mframe\u001b[39m.\u001b[39mlineno\u001b[39m}\u001b[39;00m\u001b[39m\"\u001b[39m\n\u001b[1;32m     55\u001b[0m     \u001b[39mreturn\u001b[39;00m source\n",
      "File \u001b[0;32m/usr/lib64/python3.9/inspect.py:1505\u001b[0m, in \u001b[0;36mgetframeinfo\u001b[0;34m(frame, context)\u001b[0m\n\u001b[1;32m   1503\u001b[0m start \u001b[39m=\u001b[39m lineno \u001b[39m-\u001b[39m \u001b[39m1\u001b[39m \u001b[39m-\u001b[39m context\u001b[39m/\u001b[39m\u001b[39m/\u001b[39m\u001b[39m2\u001b[39m\n\u001b[1;32m   1504\u001b[0m \u001b[39mtry\u001b[39;00m:\n\u001b[0;32m-> 1505\u001b[0m     lines, lnum \u001b[39m=\u001b[39m findsource(frame)\n\u001b[1;32m   1506\u001b[0m \u001b[39mexcept\u001b[39;00m \u001b[39mOSError\u001b[39;00m:\n\u001b[1;32m   1507\u001b[0m     lines \u001b[39m=\u001b[39m index \u001b[39m=\u001b[39m \u001b[39mNone\u001b[39;00m\n",
      "File \u001b[0;32m/usr/lib64/python3.9/inspect.py:829\u001b[0m, in \u001b[0;36mfindsource\u001b[0;34m(object)\u001b[0m\n\u001b[1;32m    826\u001b[0m     \u001b[39mif\u001b[39;00m \u001b[39mnot\u001b[39;00m (file\u001b[39m.\u001b[39mstartswith(\u001b[39m'\u001b[39m\u001b[39m<\u001b[39m\u001b[39m'\u001b[39m) \u001b[39mand\u001b[39;00m file\u001b[39m.\u001b[39mendswith(\u001b[39m'\u001b[39m\u001b[39m>\u001b[39m\u001b[39m'\u001b[39m)):\n\u001b[1;32m    827\u001b[0m         \u001b[39mraise\u001b[39;00m \u001b[39mOSError\u001b[39;00m(\u001b[39m'\u001b[39m\u001b[39msource code not available\u001b[39m\u001b[39m'\u001b[39m)\n\u001b[0;32m--> 829\u001b[0m module \u001b[39m=\u001b[39m getmodule(\u001b[39mobject\u001b[39;49m, file)\n\u001b[1;32m    830\u001b[0m \u001b[39mif\u001b[39;00m module:\n\u001b[1;32m    831\u001b[0m     lines \u001b[39m=\u001b[39m linecache\u001b[39m.\u001b[39mgetlines(file, module\u001b[39m.\u001b[39m\u001b[39m__dict__\u001b[39m)\n",
      "File \u001b[0;32m/usr/lib64/python3.9/inspect.py:752\u001b[0m, in \u001b[0;36mgetmodule\u001b[0;34m(object, _filename)\u001b[0m\n\u001b[1;32m    750\u001b[0m     \u001b[39mcontinue\u001b[39;00m\n\u001b[1;32m    751\u001b[0m _filesbymodname[modname] \u001b[39m=\u001b[39m f\n\u001b[0;32m--> 752\u001b[0m f \u001b[39m=\u001b[39m getabsfile(module)\n\u001b[1;32m    753\u001b[0m \u001b[39m# Always map to the name the module knows itself by\u001b[39;00m\n\u001b[1;32m    754\u001b[0m modulesbyfile[f] \u001b[39m=\u001b[39m modulesbyfile[\n\u001b[1;32m    755\u001b[0m     os\u001b[39m.\u001b[39mpath\u001b[39m.\u001b[39mrealpath(f)] \u001b[39m=\u001b[39m module\u001b[39m.\u001b[39m\u001b[39m__name__\u001b[39m\n",
      "File \u001b[0;32m/usr/lib64/python3.9/inspect.py:721\u001b[0m, in \u001b[0;36mgetabsfile\u001b[0;34m(object, _filename)\u001b[0m\n\u001b[1;32m    716\u001b[0m \u001b[39m\u001b[39m\u001b[39m\"\"\"Return an absolute path to the source or compiled file for an object.\u001b[39;00m\n\u001b[1;32m    717\u001b[0m \n\u001b[1;32m    718\u001b[0m \u001b[39mThe idea is for each object to have a unique origin, so this routine\u001b[39;00m\n\u001b[1;32m    719\u001b[0m \u001b[39mnormalizes the result as much as possible.\"\"\"\u001b[39;00m\n\u001b[1;32m    720\u001b[0m \u001b[39mif\u001b[39;00m _filename \u001b[39mis\u001b[39;00m \u001b[39mNone\u001b[39;00m:\n\u001b[0;32m--> 721\u001b[0m     _filename \u001b[39m=\u001b[39m getsourcefile(\u001b[39mobject\u001b[39;49m) \u001b[39mor\u001b[39;00m getfile(\u001b[39mobject\u001b[39m)\n\u001b[1;32m    722\u001b[0m \u001b[39mreturn\u001b[39;00m os\u001b[39m.\u001b[39mpath\u001b[39m.\u001b[39mnormcase(os\u001b[39m.\u001b[39mpath\u001b[39m.\u001b[39mabspath(_filename))\n",
      "File \u001b[0;32m/usr/lib64/python3.9/inspect.py:706\u001b[0m, in \u001b[0;36mgetsourcefile\u001b[0;34m(object)\u001b[0m\n\u001b[1;32m    703\u001b[0m \u001b[39melif\u001b[39;00m \u001b[39many\u001b[39m(filename\u001b[39m.\u001b[39mendswith(s) \u001b[39mfor\u001b[39;00m s \u001b[39min\u001b[39;00m\n\u001b[1;32m    704\u001b[0m              importlib\u001b[39m.\u001b[39mmachinery\u001b[39m.\u001b[39mEXTENSION_SUFFIXES):\n\u001b[1;32m    705\u001b[0m     \u001b[39mreturn\u001b[39;00m \u001b[39mNone\u001b[39;00m\n\u001b[0;32m--> 706\u001b[0m \u001b[39mif\u001b[39;00m os\u001b[39m.\u001b[39;49mpath\u001b[39m.\u001b[39;49mexists(filename):\n\u001b[1;32m    707\u001b[0m     \u001b[39mreturn\u001b[39;00m filename\n\u001b[1;32m    708\u001b[0m \u001b[39m# only return a non-existent filename if the module has a PEP 302 loader\u001b[39;00m\n",
      "File \u001b[0;32m/usr/lib64/python3.9/genericpath.py:19\u001b[0m, in \u001b[0;36mexists\u001b[0;34m(path)\u001b[0m\n\u001b[1;32m     17\u001b[0m \u001b[39m\u001b[39m\u001b[39m\"\"\"Test whether a path exists.  Returns False for broken symbolic links\"\"\"\u001b[39;00m\n\u001b[1;32m     18\u001b[0m \u001b[39mtry\u001b[39;00m:\n\u001b[0;32m---> 19\u001b[0m     os\u001b[39m.\u001b[39;49mstat(path)\n\u001b[1;32m     20\u001b[0m \u001b[39mexcept\u001b[39;00m (\u001b[39mOSError\u001b[39;00m, \u001b[39mValueError\u001b[39;00m):\n\u001b[1;32m     21\u001b[0m     \u001b[39mreturn\u001b[39;00m \u001b[39mFalse\u001b[39;00m\n",
      "\u001b[0;31mKeyboardInterrupt\u001b[0m: "
     ]
    }
   ],
   "source": [
    "from transformers import AutoModel\n",
    "import torch.nn as nn\n",
    "import torch\n",
    "\n",
    "# Load DistilBERT model (without classifier head)\n",
    "model = AutoModel.from_pretrained(\"distilbert-base-uncased\")\n",
    "\n",
    "\n",
    "# Send batch to GPU (if available)\n",
    "device = \"cuda\" if torch.cuda.is_available() else \"cpu\"\n",
    "model.to(device)\n",
    "\n",
    "# Example Forward Pass\n",
    "for batch in train_dataloader:\n",
    "    batch = {key: val.to(device) for key, val in batch.items() if key!='labels'}  # Move to GPU\n",
    "    outputs = model(**batch)"
   ]
  },
  {
   "cell_type": "code",
   "execution_count": 254,
   "metadata": {},
   "outputs": [
    {
     "data": {
      "text/plain": [
       "torch.float32"
      ]
     },
     "execution_count": 254,
     "metadata": {},
     "output_type": "execute_result"
    }
   ],
   "source": [
    "outputs.last_hidden_state[:,0,:]"
   ]
  },
  {
   "cell_type": "code",
   "execution_count": 256,
   "metadata": {},
   "outputs": [
    {
     "data": {
      "text/plain": [
       "True"
      ]
     },
     "execution_count": 256,
     "metadata": {},
     "output_type": "execute_result"
    }
   ],
   "source": [
    "isinstance(batch, dict)"
   ]
  },
  {
   "cell_type": "code",
   "execution_count": 281,
   "metadata": {},
   "outputs": [],
   "source": [
    "fe = AutoModel.from_pretrained(\"distilbert-base-uncased\")"
   ]
  },
  {
   "cell_type": "code",
   "execution_count": 296,
   "metadata": {},
   "outputs": [
    {
     "ename": "AttributeError",
     "evalue": "'LayerNorm' object has no attribute 'out_features'",
     "output_type": "error",
     "traceback": [
      "\u001b[0;31m---------------------------------------------------------------------------\u001b[0m",
      "\u001b[0;31mAttributeError\u001b[0m                            Traceback (most recent call last)",
      "Cell \u001b[0;32mIn[296], line 3\u001b[0m\n\u001b[1;32m      1\u001b[0m \u001b[39mfor\u001b[39;00m name, module \u001b[39min\u001b[39;00m fe\u001b[39m.\u001b[39mnamed_modules():\n\u001b[1;32m      2\u001b[0m     \u001b[39mpass\u001b[39;00m\n\u001b[0;32m----> 3\u001b[0m module\u001b[39m.\u001b[39;49mout_features\n",
      "File \u001b[0;32m/sc/arion/projects/pandeg01a/susmaa01/nona/.venv/lib64/python3.9/site-packages/torch/nn/modules/module.py:1928\u001b[0m, in \u001b[0;36mModule.__getattr__\u001b[0;34m(self, name)\u001b[0m\n\u001b[1;32m   1926\u001b[0m     \u001b[39mif\u001b[39;00m name \u001b[39min\u001b[39;00m modules:\n\u001b[1;32m   1927\u001b[0m         \u001b[39mreturn\u001b[39;00m modules[name]\n\u001b[0;32m-> 1928\u001b[0m \u001b[39mraise\u001b[39;00m \u001b[39mAttributeError\u001b[39;00m(\n\u001b[1;32m   1929\u001b[0m     \u001b[39mf\u001b[39m\u001b[39m\"\u001b[39m\u001b[39m'\u001b[39m\u001b[39m{\u001b[39;00m\u001b[39mtype\u001b[39m(\u001b[39mself\u001b[39m)\u001b[39m.\u001b[39m\u001b[39m__name__\u001b[39m\u001b[39m}\u001b[39;00m\u001b[39m'\u001b[39m\u001b[39m object has no attribute \u001b[39m\u001b[39m'\u001b[39m\u001b[39m{\u001b[39;00mname\u001b[39m}\u001b[39;00m\u001b[39m'\u001b[39m\u001b[39m\"\u001b[39m\n\u001b[1;32m   1930\u001b[0m )\n",
      "\u001b[0;31mAttributeError\u001b[0m: 'LayerNorm' object has no attribute 'out_features'"
     ]
    }
   ],
   "source": [
    "    for name, module in fe.named_modules():\n",
    "        pass\n",
    "module.out_features"
   ]
  },
  {
   "cell_type": "code",
   "execution_count": 295,
   "metadata": {},
   "outputs": [
    {
     "ename": "AttributeError",
     "evalue": "'Linear' object has no attribute 'shape'",
     "output_type": "error",
     "traceback": [
      "\u001b[0;31m---------------------------------------------------------------------------\u001b[0m",
      "\u001b[0;31mAttributeError\u001b[0m                            Traceback (most recent call last)",
      "Cell \u001b[0;32mIn[295], line 3\u001b[0m\n\u001b[1;32m      1\u001b[0m \u001b[39mfrom\u001b[39;00m\u001b[39m \u001b[39m\u001b[39mtorch\u001b[39;00m\u001b[39m.\u001b[39;00m\u001b[39mnn\u001b[39;00m\u001b[39m \u001b[39m\u001b[39mimport\u001b[39;00m Linear\n\u001b[1;32m      2\u001b[0m my_lin \u001b[39m=\u001b[39m Linear(\u001b[39m1000\u001b[39m,\u001b[39m200\u001b[39m)\n\u001b[0;32m----> 3\u001b[0m my_lin\u001b[39m.\u001b[39;49mshape[\u001b[39m0\u001b[39m]\n",
      "File \u001b[0;32m/sc/arion/projects/pandeg01a/susmaa01/nona/.venv/lib64/python3.9/site-packages/torch/nn/modules/module.py:1928\u001b[0m, in \u001b[0;36mModule.__getattr__\u001b[0;34m(self, name)\u001b[0m\n\u001b[1;32m   1926\u001b[0m     \u001b[39mif\u001b[39;00m name \u001b[39min\u001b[39;00m modules:\n\u001b[1;32m   1927\u001b[0m         \u001b[39mreturn\u001b[39;00m modules[name]\n\u001b[0;32m-> 1928\u001b[0m \u001b[39mraise\u001b[39;00m \u001b[39mAttributeError\u001b[39;00m(\n\u001b[1;32m   1929\u001b[0m     \u001b[39mf\u001b[39m\u001b[39m\"\u001b[39m\u001b[39m'\u001b[39m\u001b[39m{\u001b[39;00m\u001b[39mtype\u001b[39m(\u001b[39mself\u001b[39m)\u001b[39m.\u001b[39m\u001b[39m__name__\u001b[39m\u001b[39m}\u001b[39;00m\u001b[39m'\u001b[39m\u001b[39m object has no attribute \u001b[39m\u001b[39m'\u001b[39m\u001b[39m{\u001b[39;00mname\u001b[39m}\u001b[39;00m\u001b[39m'\u001b[39m\u001b[39m\"\u001b[39m\n\u001b[1;32m   1930\u001b[0m )\n",
      "\u001b[0;31mAttributeError\u001b[0m: 'Linear' object has no attribute 'shape'"
     ]
    }
   ],
   "source": [
    "from torch.nn import Linear\n",
    "my_lin = Linear(1000,200)"
   ]
  },
  {
   "cell_type": "code",
   "execution_count": 8,
   "metadata": {},
   "outputs": [],
   "source": [
    "from torchvision.models import resnet18\n",
    "from transformers import AutoModel"
   ]
  },
  {
   "cell_type": "code",
   "execution_count": 13,
   "metadata": {},
   "outputs": [
    {
     "data": {
      "text/plain": [
       "768"
      ]
     },
     "execution_count": 13,
     "metadata": {},
     "output_type": "execute_result"
    }
   ],
   "source": [
    "res = resnet18(weights='DEFAULT')\n",
    "bert = AutoModel.from_pretrained(\"distilbert-base-uncased\")\n",
    "def get_output_size(model):\n",
    "    for name, module in model.named_modules():\n",
    "        pass\n",
    "    \n",
    "    if hasattr(module, 'out_features'):\n",
    "        return module.out_features\n",
    "    elif hasattr(module, 'normalized_shape'):\n",
    "        return module.normalized_shape[0]\n",
    "get_output_size(bert)\n",
    "    "
   ]
  },
  {
   "cell_type": "code",
   "execution_count": 12,
   "metadata": {},
   "outputs": [],
   "source": [
    "from importlib import reload\n",
    "import torch\n",
    "import torch.nn.functional as F\n",
    "import models\n",
    "reload(models)\n",
    "knn = models.KNN(2)"
   ]
  },
  {
   "cell_type": "code",
   "execution_count": 21,
   "metadata": {},
   "outputs": [
    {
     "name": "stdout",
     "output_type": "stream",
     "text": [
      "tensor([[-inf, 0., 0., 1., 0.],\n",
      "        [0., -inf, 0., 0., 1.],\n",
      "        [0., 0., -inf, 1., 0.],\n",
      "        [1., 0., 0., -inf, 1.],\n",
      "        [0., 1., 0., 1., -inf]], dtype=torch.float64)\n"
     ]
    },
    {
     "data": {
      "text/plain": [
       "tensor([[inf, inf, 0., 0., inf],\n",
       "        [inf, inf, 0., inf, 0.],\n",
       "        [inf, 0., inf, 0., inf],\n",
       "        [0., inf, inf, inf, 0.],\n",
       "        [inf, 0., inf, 0., inf]], dtype=torch.float64)"
      ]
     },
     "execution_count": 21,
     "metadata": {},
     "output_type": "execute_result"
    }
   ],
   "source": [
    "m = torch.hstack([F.one_hot(torch.arange(0, 5) % 3), F.one_hot(torch.arange(0, 5) % 2)]).to(float)\n",
    "m -= torch.diag(torch.full((len(m),), float('inf')))\n",
    "print(m)\n",
    "knn(m)"
   ]
  },
  {
   "cell_type": "code",
   "execution_count": 23,
   "metadata": {},
   "outputs": [
    {
     "data": {
      "text/plain": [
       "tensor([[-inf, -inf, 0., 1., -inf],\n",
       "        [-inf, -inf, 0., -inf, 1.],\n",
       "        [-inf, 0., -inf, 1., -inf],\n",
       "        [1., -inf, -inf, -inf, 1.],\n",
       "        [-inf, 1., -inf, 1., -inf]], dtype=torch.float64)"
      ]
     },
     "execution_count": 23,
     "metadata": {},
     "output_type": "execute_result"
    }
   ],
   "source": [
    "m - knn(m)"
   ]
  },
  {
   "cell_type": "code",
   "execution_count": 3,
   "metadata": {},
   "outputs": [],
   "source": [
    "from torcheval.metrics.aggregation.auc import AUC\n",
    "import torch"
   ]
  },
  {
   "cell_type": "code",
   "execution_count": 8,
   "metadata": {},
   "outputs": [
    {
     "data": {
      "text/plain": [
       "0.30000001192092896"
      ]
     },
     "execution_count": 8,
     "metadata": {},
     "output_type": "execute_result"
    }
   ],
   "source": [
    "auc = AUC()\n",
    "auc.update(torch.tensor([0, 0.2, 0.3, 0.1]), torch.tensor([1,1,1,1])).compute().item()"
   ]
  },
  {
   "cell_type": "code",
   "execution_count": null,
   "metadata": {},
   "outputs": [],
   "source": []
  }
 ],
 "metadata": {
  "kernelspec": {
   "display_name": ".venv",
   "language": "python",
   "name": "python3"
  },
  "language_info": {
   "codemirror_mode": {
    "name": "ipython",
    "version": 3
   },
   "file_extension": ".py",
   "mimetype": "text/x-python",
   "name": "python",
   "nbconvert_exporter": "python",
   "pygments_lexer": "ipython3",
   "version": "3.9.18"
  }
 },
 "nbformat": 4,
 "nbformat_minor": 2
}
