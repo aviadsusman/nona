{
 "cells": [
  {
   "cell_type": "code",
   "execution_count": 1,
   "metadata": {},
   "outputs": [],
   "source": [
    "import pickle as pkl\n",
    "import pandas as pd"
   ]
  },
  {
   "cell_type": "code",
   "execution_count": 2,
   "metadata": {},
   "outputs": [
    {
     "name": "stdout",
     "output_type": "stream",
     "text": [
      "200,50 mmse with SoftKNNMask.\n"
     ]
    }
   ],
   "source": [
    "file_path = \"results/adresso/mmse/scores_03101732.pkl\"\n",
    "with open(file_path, \"rb\") as file:\n",
    "    results = pkl.load(file=file)\n",
    "    desc = results[0]\n",
    "    scores_list = results[1:]\n",
    "print(desc)"
   ]
  },
  {
   "cell_type": "markdown",
   "metadata": {},
   "source": [
    "for changing desc if needed"
   ]
  },
  {
   "cell_type": "code",
   "execution_count": 3,
   "metadata": {},
   "outputs": [],
   "source": [
    "# change_desc = False\n",
    "# if change_desc:\n",
    "#     new_desc = f'200, 50 k=11. removed final bn. fixed dense output'\n",
    "#     results[0] = new_desc\n",
    "#     with open(file_path, \"wb\") as file:\n",
    "#         pkl.dump(obj=results, file=file)"
   ]
  },
  {
   "cell_type": "code",
   "execution_count": 4,
   "metadata": {},
   "outputs": [
    {
     "name": "stdout",
     "output_type": "stream",
     "text": [
      "0.03148563206195831\n",
      "0.026853051036596298\n",
      "0.028290288522839546\n",
      "0.03328656405210495\n",
      "0.026148412376642227\n",
      "0.02511202171444893\n",
      "0.026892218738794327\n",
      "0.024881968274712563\n",
      "0.021962003782391548\n",
      "9 splits\n"
     ]
    }
   ],
   "source": [
    "for i, scores in enumerate(scores_list):\n",
    "    print(abs(scores['nona euclidean mlp'][0]))\n",
    "\n",
    "print(i+1, 'splits')"
   ]
  },
  {
   "cell_type": "code",
   "execution_count": 5,
   "metadata": {},
   "outputs": [],
   "source": [
    "scores = {method.split(\" mlp\")[0]: [abs(scores[method][0]) for scores in scores_list] for method in scores_list[0] if \"mlp\" in method and \"cos\" not in method}"
   ]
  },
  {
   "cell_type": "code",
   "execution_count": 6,
   "metadata": {},
   "outputs": [
    {
     "data": {
      "image/png": "[encoded data removed]",
      "text/plain": [
       "<Figure size 640x480 with 1 Axes>"
      ]
     },
     "metadata": {},
     "output_type": "display_data"
    }
   ],
   "source": [
    "bplot = pd.DataFrame(scores).boxplot(rot=30)\n",
    "# bplot.set_ylabel('MSE')"
   ]
  },
  {
   "cell_type": "code",
   "execution_count": 7,
   "metadata": {},
   "outputs": [
    {
     "data": {
      "text/plain": [
       "nona euclidean    0.026853\n",
       "nona dot          0.036716\n",
       "dense             0.039875\n",
       "dtype: float64"
      ]
     },
     "execution_count": 7,
     "metadata": {},
     "output_type": "execute_result"
    }
   ],
   "source": [
    "pd.DataFrame(scores).median()"
   ]
  },
  {
   "cell_type": "code",
   "execution_count": 8,
   "metadata": {},
   "outputs": [],
   "source": [
    "times = {method: [scores[method][1] for scores in scores_list] for method in scores_list[0]}"
   ]
  },
  {
   "cell_type": "code",
   "execution_count": 9,
   "metadata": {},
   "outputs": [
    {
     "data": {
      "text/plain": [
       "nona euclidean mlp    0.041468\n",
       "nona dot mlp          0.016111\n",
       "dense mlp             0.026230\n",
       "dtype: float64"
      ]
     },
     "execution_count": 9,
     "metadata": {},
     "output_type": "execute_result"
    }
   ],
   "source": [
    "pd.DataFrame(times).median() / 3600"
   ]
  }
 ],
 "metadata": {
  "kernelspec": {
   "display_name": ".venv",
   "language": "python",
   "name": "python3"
  },
  "language_info": {
   "codemirror_mode": {
    "name": "ipython",
    "version": 3
   },
   "file_extension": ".py",
   "mimetype": "text/x-python",
   "name": "python",
   "nbconvert_exporter": "python",
   "pygments_lexer": "ipython3",
   "version": "3.9.18"
  },
  "orig_nbformat": 4
 },
 "nbformat": 4,
 "nbformat_minor": 2
}
