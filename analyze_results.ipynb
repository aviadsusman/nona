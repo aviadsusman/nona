{
 "cells": [
  {
   "cell_type": "code",
   "execution_count": 7,
   "metadata": {},
   "outputs": [],
   "source": [
    "import pickle as pkl"
   ]
  },
  {
   "cell_type": "code",
   "execution_count": 8,
   "metadata": {},
   "outputs": [],
   "source": [
    "with open(\"results/bc/scores.pkl\", \"rb\") as file:\n",
    "    scores_list = pkl.load(file=file)"
   ]
  },
  {
   "cell_type": "code",
   "execution_count": 9,
   "metadata": {},
   "outputs": [
    {
     "data": {
      "text/plain": [
       "[{'nona euclidean': [189, 0.10895061492919922],\n",
       "  'nona euclidean mlp': [192, 0.7034478187561035],\n",
       "  'tuned xgb': [187, 126.74830627441406],\n",
       "  'tuned knn': [189, 0.8539342880249023]},\n",
       " {'nona euclidean': [188, 0.0008270740509033203],\n",
       "  'nona euclidean mlp': [192, 0.4064502716064453],\n",
       "  'tuned xgb': [190, 132.34864354133606],\n",
       "  'tuned knn': [192, 0.752582311630249]},\n",
       " {'nona euclidean': [188, 0.0008399486541748047],\n",
       "  'nona euclidean mlp': [194, 0.5216686725616455],\n",
       "  'tuned xgb': [188, 127.9953043460846],\n",
       "  'tuned knn': [191, 0.7552001476287842]},\n",
       " {'nona euclidean': [187, 0.00083160400390625],\n",
       "  'nona euclidean mlp': [191, 0.5037195682525635],\n",
       "  'tuned xgb': [189, 126.79080271720886],\n",
       "  'tuned knn': [194, 0.746436357498169]},\n",
       " {'nona euclidean': [189, 0.000911712646484375],\n",
       "  'nona euclidean mlp': [188, 0.484421968460083],\n",
       "  'tuned xgb': [182, 120.47955417633057],\n",
       "  'tuned knn': [190, 0.7459149360656738]},\n",
       " {'nona euclidean': [189, 0.0008335113525390625],\n",
       "  'nona euclidean mlp': [197, 0.4446070194244385],\n",
       "  'tuned xgb': [192, 134.34128427505493],\n",
       "  'tuned knn': [193, 0.7463226318359375]},\n",
       " {'nona euclidean': [190, 0.0008614063262939453],\n",
       "  'nona euclidean mlp': [194, 0.42594432830810547],\n",
       "  'tuned xgb': [187, 129.99292302131653],\n",
       "  'tuned knn': [194, 0.7495560646057129]},\n",
       " {'nona euclidean': [186, 0.0008378028869628906],\n",
       "  'nona euclidean mlp': [187, 0.3475203514099121],\n",
       "  'tuned xgb': [190, 132.39000129699707],\n",
       "  'tuned knn': [195, 0.7537710666656494]},\n",
       " {'nona euclidean': [187, 0.0008289813995361328],\n",
       "  'nona euclidean mlp': [193, 0.44478893280029297],\n",
       "  'tuned xgb': [186, 130.43273639678955],\n",
       "  'tuned knn': [189, 0.7457194328308105]},\n",
       " {'nona euclidean': [188, 0.0008418560028076172],\n",
       "  'nona euclidean mlp': [188, 0.30797719955444336],\n",
       "  'tuned xgb': [188, 129.30542469024658],\n",
       "  'tuned knn': [192, 0.754629373550415]}]"
      ]
     },
     "execution_count": 9,
     "metadata": {},
     "output_type": "execute_result"
    }
   ],
   "source": [
    "scores_list"
   ]
  },
  {
   "cell_type": "code",
   "execution_count": 42,
   "metadata": {},
   "outputs": [],
   "source": [
    "import torch\n",
    "y_hat = torch.tensor([2.2384e-04, 3.1275e-15, 9.9974e-01, 9.9999e-01, 1.0000e+00, 4.4973e-26,\n",
    "        4.7756e-02, 4.9139e-19, 1.0000e+00, 1.5738e-07, 9.9145e-01, 3.9661e-01,\n",
    "        9.9993e-01, 6.0036e-12, 1.0000e+00, 1.0000e+00, 1.0000e+00, 9.9993e-01,\n",
    "        1.0000e+00, 9.7243e-01, 7.7070e-18, 9.8907e-01, 1.0000e+00, 1.0000e+00,\n",
    "        9.9921e-01, 4.2330e-05, 1.0000e+00, 3.2234e-13, 9.9927e-01, 4.2973e-10,\n",
    "        1.0000e+00, 1.2621e-06], dtype=torch.float64)\n",
    "y = torch.tensor([0., 0., 1., 1., 1., 0., 0., 0., 1., 0., 1., 0., 1., 0., 1., 1., 1., 1.,\n",
    "        1., 1., 0., 1., 1., 1., 1., 0., 1., 0., 1., 0., 1., 0.], dtype=torch.float64)"
   ]
  },
  {
   "cell_type": "code",
   "execution_count": 43,
   "metadata": {},
   "outputs": [
    {
     "data": {
      "text/plain": [
       "tensor(0.0189, dtype=torch.float64)"
      ]
     },
     "execution_count": 43,
     "metadata": {},
     "output_type": "execute_result"
    }
   ],
   "source": [
    "loss = torch.nn.BCELoss()\n",
    "loss(y_hat, y)"
   ]
  }
 ],
 "metadata": {
  "kernelspec": {
   "display_name": ".venv",
   "language": "python",
   "name": "python3"
  },
  "language_info": {
   "codemirror_mode": {
    "name": "ipython",
    "version": 3
   },
   "file_extension": ".py",
   "mimetype": "text/x-python",
   "name": "python",
   "nbconvert_exporter": "python",
   "pygments_lexer": "ipython3",
   "version": "3.12.4"
  },
  "orig_nbformat": 4
 },
 "nbformat": 4,
 "nbformat_minor": 2
}
