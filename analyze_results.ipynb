{
 "cells": [
  {
   "cell_type": "code",
   "execution_count": null,
   "metadata": {},
   "outputs": [],
   "source": [
    "import pickle as pkl\n",
    "import pandas as pd"
   ]
  },
  {
   "cell_type": "code",
   "execution_count": null,
   "metadata": {},
   "outputs": [],
   "source": [
    "file_path = \"results/adresso/mmse/scores_03101732.pkl\"\n",
    "with open(file_path, \"rb\") as file:\n",
    "    results = pkl.load(file=file)\n",
    "    desc = results[0]\n",
    "    scores_list = results[1:]\n",
    "print(desc)"
   ]
  },
  {
   "cell_type": "markdown",
   "metadata": {},
   "source": [
    "for changing desc if needed"
   ]
  },
  {
   "cell_type": "code",
   "execution_count": null,
   "metadata": {},
   "outputs": [],
   "source": [
    "# change_desc = False\n",
    "# if change_desc:\n",
    "#     new_desc = f'200, 50 k=11. removed final bn. fixed dense output'\n",
    "#     results[0] = new_desc\n",
    "#     with open(file_path, \"wb\") as file:\n",
    "#         pkl.dump(obj=results, file=file)"
   ]
  },
  {
   "cell_type": "code",
   "execution_count": null,
   "metadata": {},
   "outputs": [],
   "source": [
    "for i, scores in enumerate(scores_list):\n",
    "    print(abs(scores['nona euclidean mlp'][0]))\n",
    "\n",
    "print(i+1, 'splits')"
   ]
  },
  {
   "cell_type": "code",
   "execution_count": null,
   "metadata": {},
   "outputs": [],
   "source": [
    "scores = {method.split(\" mlp\")[0]: [abs(scores[method][0]) for scores in scores_list] for method in scores_list[0] if \"mlp\" in method and \"cos\" not in method}"
   ]
  },
  {
   "cell_type": "code",
   "execution_count": null,
   "metadata": {},
   "outputs": [],
   "source": [
    "bplot = pd.DataFrame(scores).boxplot(rot=30)\n",
    "# bplot.set_ylabel('MSE')"
   ]
  },
  {
   "cell_type": "code",
   "execution_count": null,
   "metadata": {},
   "outputs": [],
   "source": [
    "pd.DataFrame(scores).median()"
   ]
  },
  {
   "cell_type": "code",
   "execution_count": null,
   "metadata": {},
   "outputs": [],
   "source": [
    "times = {method: [scores[method][1] for scores in scores_list] for method in scores_list[0]}"
   ]
  },
  {
   "cell_type": "code",
   "execution_count": null,
   "metadata": {},
   "outputs": [],
   "source": [
    "pd.DataFrame(times).median() / 3600"
   ]
  }
 ],
 "metadata": {
  "kernelspec": {
   "display_name": ".venv",
   "language": "python",
   "name": "python3"
  },
  "language_info": {
   "codemirror_mode": {
    "name": "ipython",
    "version": 3
   },
   "file_extension": ".py",
   "mimetype": "text/x-python",
   "name": "python",
   "nbconvert_exporter": "python",
   "pygments_lexer": "ipython3",
   "version": "3.9.18"
  },
  "orig_nbformat": 4
 },
 "nbformat": 4,
 "nbformat_minor": 2
}
